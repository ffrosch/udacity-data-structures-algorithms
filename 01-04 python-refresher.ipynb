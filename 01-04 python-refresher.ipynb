{
 "metadata": {
  "language_info": {
   "codemirror_mode": {
    "name": "ipython",
    "version": 3
   },
   "file_extension": ".py",
   "mimetype": "text/x-python",
   "name": "python",
   "nbconvert_exporter": "python",
   "pygments_lexer": "ipython3",
   "version": "3.8.5"
  },
  "orig_nbformat": 2,
  "kernelspec": {
   "name": "python385jvsc74a57bd024266f8484c3ad6d452ece0bdfe5b3353a540590ed55c9bbdfa41cb88581e51c",
   "display_name": "Python 3.9.4 64-bit ('jupyter': conda)"
  },
  "metadata": {
   "interpreter": {
    "hash": "24266f8484c3ad6d452ece0bdfe5b3353a540590ed55c9bbdfa41cb88581e51c"
   }
  }
 },
 "nbformat": 4,
 "nbformat_minor": 2,
 "cells": [
  {
   "source": [
    "# Exercise 1: Factorial"
   ],
   "cell_type": "markdown",
   "metadata": {}
  },
  {
   "cell_type": "code",
   "execution_count": 1,
   "metadata": {},
   "outputs": [
    {
     "output_type": "stream",
     "name": "stdout",
     "text": [
      "1\n2\n6\n24\n120\n"
     ]
    }
   ],
   "source": [
    "def prod(a,b):\n",
    "    output = a * b\n",
    "    return output\n",
    "\n",
    "def fact_gen():\n",
    "    i = 1\n",
    "    n = i\n",
    "    while True:\n",
    "        output = prod(n, i)\n",
    "        yield output\n",
    "        i += 1\n",
    "        n = output\n",
    "        # TODO: update i and n\n",
    "        # Hint: i is a successive integer and n is the previous product\n",
    "\n",
    "\n",
    "# Test block\n",
    "my_gen = fact_gen()\n",
    "num = 5\n",
    "for i in range(num):\n",
    "    print(next(my_gen))\n",
    "\n",
    "# Correct result when num = 5:\n",
    "# 1\n",
    "# 2\n",
    "# 6\n",
    "# 24\n",
    "# 120"
   ]
  },
  {
   "source": [
    "# Exercise 2: Sudoku"
   ],
   "cell_type": "markdown",
   "metadata": {}
  },
  {
   "cell_type": "code",
   "execution_count": 1,
   "metadata": {},
   "outputs": [
    {
     "output_type": "stream",
     "name": "stdout",
     "text": [
      "False\nTrue\nFalse\nFalse\nFalse\nFalse\n"
     ]
    }
   ],
   "source": [
    "correct = [[1,2,3],\n",
    "           [2,3,1],\n",
    "           [3,1,2]]\n",
    "\n",
    "incorrect = [[1,2,3,4],\n",
    "             [2,3,1,3],\n",
    "             [3,1,2,3],\n",
    "             [4,4,4,4]]\n",
    "\n",
    "incorrect2 = [[1,2,3,4],\n",
    "             [2,3,1,4],\n",
    "             [4,1,2,3],\n",
    "             [3,4,1,2]]\n",
    "\n",
    "incorrect3 = [[1,2,3,4,5],\n",
    "              [2,3,1,5,6],\n",
    "              [4,5,2,1,3],\n",
    "              [3,4,5,2,1],\n",
    "              [5,6,4,3,2]]\n",
    "\n",
    "incorrect4 = [['a','b','c'],\n",
    "              ['b','c','a'],\n",
    "              ['c','a','b']]\n",
    "\n",
    "incorrect5 = [ [1, 1.5],\n",
    "               [1.5, 1]]\n",
    "               \n",
    "# Define a function check_sudoku() here:\n",
    "\n",
    "def check_sudoku(sudoku):\n",
    "    size = len(sudoku)\n",
    "    correct_values = list(range(1, size + 1))\n",
    "    for i in range(size):\n",
    "        row = sorted(sudoku[i])\n",
    "        col = sorted([_row[i] for _row in sudoku])\n",
    "        result = row == correct_values and col == correct_values\n",
    "        if result is False:\n",
    "            return False\n",
    "    return True\n",
    "\n",
    "\n",
    "    \n",
    "    \n",
    "print(check_sudoku(incorrect))\n",
    "#>>> False\n",
    "\n",
    "print(check_sudoku(correct))\n",
    "#>>> True\n",
    "\n",
    "print(check_sudoku(incorrect2))\n",
    "#>>> False\n",
    "\n",
    "print(check_sudoku(incorrect3))\n",
    "#>>> False\n",
    "\n",
    "print(check_sudoku(incorrect4))\n",
    "#>>> False\n",
    "\n",
    "print(check_sudoku(incorrect5))\n",
    "#>>> False"
   ]
  },
  {
   "cell_type": "code",
   "execution_count": 4,
   "metadata": {},
   "outputs": [
    {
     "output_type": "stream",
     "name": "stdout",
     "text": [
      "{'Michael': 11, 'Andrew': 13, 'Joseph': 25, 'Lisa': 37, 'Dusty': 53, 'Erica': 72, 'Carol': 36, 'Robert': 89, 'Lawrence': 87, 'Margaret': 35}\nAugust\n{'Paula': 24, 'Cherryl': 70, 'Bernice': 6, 'Armando': 32, 'Evelyn': 39, 'Anthony': 10, 'Rita': 58}\nJune\n"
     ]
    }
   ],
   "source": [
    "class Person:\n",
    "    def __init__(self, name, age, month):\n",
    "        self.name = name\n",
    "        self.age = age\n",
    "        self.birthday_month = month\n",
    "        \n",
    "    def birthday(self):\n",
    "        self.age += 1\n",
    "        return self.age\n",
    "\n",
    "def create_person_objects(names, ages, months):\n",
    "    my_data = zip(names, ages, months)\n",
    "    person_objects = []\n",
    "    for item in my_data:\n",
    "        person_objects.append(Person(*item))\n",
    "    return person_objects\n",
    "\n",
    "def get_april_birthdays(people):\n",
    "    # TODO:\n",
    "    # Increment \"age\" for all people with birthdays in April.\n",
    "    # Return a dictionary \"april_birthdays\" with the names of\n",
    "    # all people with April birthdays as keys, and their updated ages \n",
    "    # as values. See the test below for an example expected output.\n",
    "    april_birthdays = {person.name: person.birthday() for person in people\n",
    "                       if person.birthday_month == \"April\"}\n",
    "\n",
    "    \n",
    "    # TODO: Modify the return statement \n",
    "    return april_birthdays\n",
    "\n",
    "def get_most_common_month(people):\n",
    "    # TODO:\n",
    "    # Use the \"months\" dictionary to record counts of birthday months\n",
    "    # for persons in the \"people\" data.\n",
    "    # Return the month with the largest number of birthdays.\n",
    "    months = {'January':0, 'February':0, 'March':0, 'April':0, 'May':0, \n",
    "              'June':0, 'July':0, 'August':0, 'September':0, 'October':0,\n",
    "              'November':0, 'December':0}\n",
    "    for person in people:\n",
    "        months[person.birthday_month] += 1\n",
    "    \n",
    "    # TODO: Modify the return statement.\n",
    "    return max(months, key=months.get)\n",
    "\n",
    "\n",
    "def test():\n",
    "    # Here is the data for the test. Assume there is a single most common month.\n",
    "    names = ['Howard', 'Richard', 'Jules', 'Trula', 'Michael', 'Elizabeth', 'Richard', 'Shirley', 'Mark', 'Brianna', 'Kenneth', 'Gwen', 'William', 'Rosa', 'Denver', 'Shelly', 'Sammy', 'Maryann', 'Kathleen', 'Andrew', 'Joseph', 'Kathleen', 'Lisa', 'Viola', 'George', 'Bonnie', 'Robert', 'William', 'Sabrina', 'John', 'Robert', 'Gil', 'Calvin', 'Robert', 'Dusty', 'Dario', 'Joeann', 'Terry', 'Alan', 'Rosa', 'Jeane', 'James', 'Rachel', 'Tu', 'Chelsea', 'Andrea', 'Ernest', 'Erica', 'Priscilla', 'Carol', 'Michael', 'Dale', 'Arthur', 'Helen', 'James', 'Donna', 'Patricia', 'Betty', 'Patricia', 'Mollie', 'Nicole', 'Ernest', 'Wendy', 'Graciela', 'Teresa', 'Nicole', 'Trang', 'Caleb', 'Robert', 'Paul', 'Nieves', 'Arleen', 'Milton', 'James', 'Lawrence', 'Edward', 'Susan', 'Patricia', 'Tana', 'Jessica', 'Suzanne', 'Darren', 'Arthur', 'Holly', 'Mary', 'Randal', 'John', 'Laura', 'Betty', 'Chelsea', 'Margaret', 'Angel', 'Jeffrey', 'Mary', 'Donald', 'David', 'Roger', 'Evan', 'Danny', 'William']\n",
    "    ages  = [17, 58, 79, 8, 10, 57, 4, 98, 19, 47, 81, 68, 48, 13, 39, 21, 98, 51, 49, 12, 24, 78, 36, 59, 3, 87, 94, 85, 43, 69, 15, 52, 57, 36, 52, 5, 52, 5, 33, 10, 71, 28, 70, 9, 25, 28, 76, 71, 22, 35, 35, 100, 9, 95, 69, 52, 66, 91, 39, 84, 65, 29, 20, 98, 30, 83, 30, 15, 88, 89, 24, 98, 62, 94, 86, 63, 34, 23, 23, 19, 10, 80, 88, 67, 17, 91, 85, 97, 29, 7, 34, 38, 92, 29, 14, 52, 94, 62, 70, 22]\n",
    "    months = ['January', 'March', 'January', 'October', 'April', 'February', 'August', 'January', 'June', 'August', 'February', 'May', 'March', 'June', 'February', 'August', 'June', 'March', 'August', 'April', 'April', 'June', 'April', 'June', 'February', 'September', 'March', 'July', 'September', 'December', 'June', 'June', 'August', 'November', 'April', 'November', 'August', 'June', 'January', 'August', 'May', 'March', 'March', 'March', 'May', 'September', 'August', 'April', 'February', 'April', 'May', 'March', 'March', 'January', 'August', 'October', 'February', 'November', 'August', 'June', 'September', 'September', 'January', 'September', 'July', 'July', 'December', 'June', 'April', 'February', 'August', 'September', 'August', 'February', 'April', 'July', 'May', 'November', 'December', 'February', 'August', 'August', 'September', 'December', 'February', 'March', 'June', 'December', 'February', 'May', 'April', 'July', 'March', 'June', 'December', 'March', 'July', 'May', 'September', 'November']\n",
    "    people = create_person_objects(names, ages, months)\n",
    "\n",
    "    # Calls to the two functions you have completed.\n",
    "    print(get_april_birthdays(people))\n",
    "    print(get_most_common_month(people))\n",
    "    # Expected result:\n",
    "    # {'Michael': 11, 'Erica': 72, 'Carol': 36, 'Lisa': 37, 'Lawrence': 87, 'Joseph': 25, 'Margaret': 35, 'Andrew': 13, 'Dusty': 53, 'Robert': 89}\n",
    "    # August\n",
    "\n",
    "\n",
    "def test2():\n",
    "    names = ['Suzanne', 'Dorothy', 'Edna', 'Olive', 'Barbara', 'Agnes', 'Anthony', 'Mildred', 'Stephen', 'Daniel', 'James', 'David', 'Anna', 'Frank', 'Darlene', 'Chris', 'Micheal', 'James', 'Joseph', 'George', 'Barry', 'Clarice', 'Maranda', 'Jessica', 'Nicole', 'Grace', 'Randy', 'Jennifer', 'Richard', 'William', 'Dennis', 'Peggy', 'James', 'Sarah', 'Nellie', 'Dominique', 'Stewart', 'Wendy', 'Caroline', 'Barbara', 'Carey', 'Tammy', 'Charles', 'Brian', 'Amber', 'Paula', 'Troy', 'Laura', 'Dewey', 'Joe', 'Kim', 'Rosalinda', 'Martin', 'Juan', 'Larry', 'Cherryl', 'Heather', 'Betty', 'Carol', 'Robert', 'Bruce', 'Carla', 'Delphia', 'Bernice', 'Sylvia', 'Gavin', 'John', 'Mildred', 'Jamie', 'Javier', 'Carolyn', 'Armando', 'Joseph', 'Marjorie', 'Ruth', 'Roy', 'Randy', 'Ana', 'Jerald', 'Wendy', 'Margaret', 'Barbara', 'Donald', 'Lawrence', 'Hope', 'Mason', 'Jonathan', 'John', 'Evelyn', 'Catherine', 'Anthony', 'Rita', 'Alan', 'Reginald', 'Christopher', 'Bernice', 'Trinidad', 'Marna', 'Jasmine', 'Dwight']\n",
    "    ages = [13, 98, 12, 68, 40, 87, 38, 95, 67, 11, 65, 66, 43, 12, 22, 80, 87, 52, 48, 31, 8, 100, 54, 81, 84, 80, 80, 48, 54, 84, 75, 98, 64, 10, 94, 83, 50, 52, 83, 85, 66, 13, 56, 14, 39, 23, 78, 41, 62, 29, 25, 43, 70, 87, 86, 69, 82, 61, 28, 44, 26, 70, 43, 67, 93, 81, 37, 66, 46, 86, 97, 31, 85, 65, 3, 34, 54, 97, 54, 92, 96, 71, 73, 63, 4, 68, 61, 56, 38, 34, 9, 57, 84, 92, 29, 5, 73, 70, 18, 87]\n",
    "    months = ['December', 'January', 'November', 'October', 'March', 'December', 'June', 'March', 'December', 'January', 'November', 'June', 'January', 'December', 'June', 'November', 'November', 'August', 'December', 'May', 'July', 'June', 'June', 'September', 'June', 'July', 'December', 'May', 'August', 'June', 'December', 'August', 'September', 'October', 'August', 'June', 'June', 'March', 'September', 'October', 'July', 'December', 'May', 'October', 'June', 'April', 'March', 'March', 'July', 'October', 'December', 'October', 'June', 'March', 'November', 'April', 'July', 'September', 'September', 'May', 'August', 'March', 'March', 'April', 'December', 'November', 'March', 'October', 'October', 'June', 'June', 'April', 'August', 'March', 'March', 'November', 'January', 'June', 'October', 'May', 'August', 'January', 'September', 'January', 'February', 'October', 'January', 'March', 'April', 'March', 'April', 'April', 'June', 'January', 'November', 'April', 'August', 'July', 'November', 'November']\n",
    "\n",
    "    people = create_person_objects(names, ages, months)\n",
    "\n",
    "    # Calls to the two functions you have completed.\n",
    "    print(get_april_birthdays(people))\n",
    "    print(get_most_common_month(people))\n",
    "    # The expected results are: \n",
    "    # {'Armando': 32, 'Anthony': 10, 'Rita': 58, 'Evelyn': 39, 'Cherryl': 70, 'Bernice': 6, 'Paula': 24}\n",
    "    # June\n",
    "\n",
    "test()\n",
    "test2()"
   ]
  }
 ]
}