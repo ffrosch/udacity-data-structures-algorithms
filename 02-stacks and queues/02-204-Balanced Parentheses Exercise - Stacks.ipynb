{
 "cells": [
  {
   "cell_type": "markdown",
   "metadata": {
    "graffitiCellId": "id_qv9zph7"
   },
   "source": [
    "# Balanced Parentheses Exercise"
   ]
  },
  {
   "cell_type": "markdown",
   "metadata": {
    "graffitiCellId": "id_qgcww8j"
   },
   "source": [
    "In this exercise you are going to apply what you learned about stacks with a real world problem. We will be using stacks to make sure the parentheses are balanced in mathematical expressions such as: $((3^2 + 8)*(5/2))/(2+6).$ In real life you can see this extend to many things such as text editor plugins and interactive development environments for all sorts of bracket completion checks. \n",
    "\n",
    "Take a string as an input and return `True` if it's parentheses are balanced or `False` if it is not. \n",
    "\n",
    "Try to code up a solution and pass the test cases. "
   ]
  },
  {
   "cell_type": "markdown",
   "metadata": {
    "graffitiCellId": "id_e0xici2"
   },
   "source": [
    "#### Code"
   ]
  },
  {
   "cell_type": "code",
   "execution_count": 1,
   "metadata": {
    "graffitiCellId": "id_iwaeo1q"
   },
   "outputs": [],
   "source": [
    "# Our Stack Class - Brought from previous concept\n",
    "# No need to modify this\n",
    "class Stack:\n",
    "    def __init__(self):\n",
    "        self.items = []\n",
    "    \n",
    "    def size(self):\n",
    "        return len(self.items)\n",
    "    \n",
    "    def push(self, item):\n",
    "        self.items.append(item)\n",
    "\n",
    "    def pop(self):\n",
    "        if self.size()==0:\n",
    "            return None\n",
    "        else:\n",
    "            return self.items.pop()\n",
    "\n",
    "def equation_checker(equation):\n",
    "    \"\"\"\n",
    "    Check equation for balanced parentheses\n",
    "\n",
    "    Args:\n",
    "       equation(string): String form of equation\n",
    "    Returns:\n",
    "       bool: Return if parentheses are balanced or not\n",
    "    \"\"\"\n",
    "    \n",
    "    \n",
    "    left_parentheses = Stack()\n",
    "    right_parentheses = Stack()\n",
    "    \n",
    "    for s in equation:\n",
    "        if s == '(':\n",
    "            left_parentheses.push(s)\n",
    "        elif s == ')':\n",
    "            right_parentheses.push(s)\n",
    "        else:\n",
    "            pass\n",
    "    \n",
    "    return left_parentheses.size() == right_parentheses.size()"
   ]
  },
  {
   "cell_type": "markdown",
   "metadata": {
    "graffitiCellId": "id_rp5s7ca"
   },
   "source": [
    "#### Test Cases"
   ]
  },
  {
   "cell_type": "code",
   "execution_count": 2,
   "metadata": {
    "graffitiCellId": "id_kaesfdd"
   },
   "outputs": [
    {
     "name": "stdout",
     "output_type": "stream",
     "text": [
      "Pass\n",
      "Pass\n"
     ]
    }
   ],
   "source": [
    "print (\"Pass\" if (equation_checker('((3^2 + 8)*(5/2))/(2+6)')) else \"Fail\")\n",
    "print (\"Pass\" if not (equation_checker('((3^2 + 8)*(5/2))/(2+6))')) else \"Fail\")"
   ]
  },
  {
   "cell_type": "markdown",
   "metadata": {
    "graffitiCellId": "id_ky3qi6e"
   },
   "source": [
    "<span class=\"graffiti-highlight graffiti-id_ky3qi6e-id_jfute45\"><i></i><button>Show Solution</button></span>"
   ]
  },
  {
   "cell_type": "code",
   "execution_count": null,
   "metadata": {
    "graffitiCellId": "id_up9r3oj"
   },
   "outputs": [],
   "source": []
  }
 ],
 "metadata": {
  "graffiti": {
   "firstAuthorId": "10694620118",
   "id": "id_5jzd4pe",
   "language": "EN"
  },
  "kernelspec": {
   "display_name": "Python 3",
   "language": "python",
   "name": "python3"
  },
  "language_info": {
   "codemirror_mode": {
    "name": "ipython",
    "version": 3
   },
   "file_extension": ".py",
   "mimetype": "text/x-python",
   "name": "python",
   "nbconvert_exporter": "python",
   "pygments_lexer": "ipython3",
   "version": "3.6.3"
  }
 },
 "nbformat": 4,
 "nbformat_minor": 2
}
