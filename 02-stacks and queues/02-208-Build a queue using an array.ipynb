{
 "cells": [
  {
   "cell_type": "markdown",
   "metadata": {
    "graffitiCellId": "id_7h2s6k2"
   },
   "source": [
    "# Implement a queue using an array\n",
    "\n",
    "In this notebook, we'll look at one way to implement a queue by using an array. First, check out the walkthrough for an overview of the concepts, and then we'll take a look at the code."
   ]
  },
  {
   "cell_type": "markdown",
   "metadata": {
    "graffitiCellId": "id_2ge7ywz"
   },
   "source": [
    "<span class=\"graffiti-highlight graffiti-id_2ge7ywz-id_bqg3jzc\"><i></i><button>Walkthrough</button></span>"
   ]
  },
  {
   "cell_type": "markdown",
   "metadata": {
    "graffitiCellId": "id_6zy0p8y"
   },
   "source": [
    "![People waiting in line.](assets/queue_with_array.png)"
   ]
  },
  {
   "cell_type": "markdown",
   "metadata": {
    "graffitiCellId": "id_6e571xi"
   },
   "source": [
    " OK, so those are the characteristics of a queue, but how would we implement those characteristics using an array?"
   ]
  },
  {
   "cell_type": "markdown",
   "metadata": {
    "graffitiCellId": "id_u7ll4fe"
   },
   "source": [
    "<span class=\"graffiti-highlight graffiti-id_u7ll4fe-id_5jy6p59\"><i></i><button>Walkthrough</button></span>"
   ]
  },
  {
   "cell_type": "markdown",
   "metadata": {
    "graffitiCellId": "id_wekpwim"
   },
   "source": [
    "What happens when we run out of space in the array? This is one of the trickier things we'll need to handle with our code."
   ]
  },
  {
   "cell_type": "markdown",
   "metadata": {
    "graffitiCellId": "id_dvk829u"
   },
   "source": [
    "<span class=\"graffiti-highlight graffiti-id_dvk829u-id_w3049bo\"><i></i><button>Walkthrough</button></span>"
   ]
  },
  {
   "cell_type": "markdown",
   "metadata": {
    "graffitiCellId": "id_qyngk16"
   },
   "source": [
    "## Functionality\n",
    "\n",
    "Once implemented, our queue will need to have the following functionality:\n",
    "1. `enqueue`  - adds data to the back of the queue\n",
    "2. `dequeue`  - removes data from the front of the queue\n",
    "3. `front`    - returns the element at the front of the queue\n",
    "4. `size`     - returns the number of elements present in the queue\n",
    "5. `is_empty` - returns `True` if there are no elements in the queue, and `False` otherwise\n",
    "6. `_handle_full_capacity` - increases the capacity of the array, for cases in which the queue would otherwise overflow\n",
    "\n",
    "Also, if the queue is empty, `dequeue` and `front` operations should return `None`."
   ]
  },
  {
   "cell_type": "markdown",
   "metadata": {
    "graffitiCellId": "id_2v52var"
   },
   "source": [
    "## 1. Create the `queue` class and its `__init__` method\n",
    "First, have a look at the walkthrough:"
   ]
  },
  {
   "cell_type": "markdown",
   "metadata": {
    "graffitiCellId": "id_5tekmtx"
   },
   "source": [
    "<span class=\"graffiti-highlight graffiti-id_5tekmtx-id_p546sb0\"><i></i><button>Walkthrough</button></span>"
   ]
  },
  {
   "cell_type": "code",
   "execution_count": null,
   "metadata": {
    "graffitiCellId": "id_1cm16sy"
   },
   "outputs": [],
   "source": []
  },
  {
   "cell_type": "markdown",
   "metadata": {
    "graffitiCellId": "id_v0ke48l"
   },
   "source": [
    "Now give it a try for yourself. In the cell below:\n",
    "* Define a class named `Queue` and add the `__init__` method\n",
    "* Initialize the `arr` attribute with an array containing 10 elements, like this: `[0, 0, 0, 0, 0, 0, 0, 0, 0, 0]`\n",
    "* Initialize the `next_index` attribute\n",
    "* Initialize the `front_index` attribute\n",
    "* Initialize the `queue_size` attribute"
   ]
  },
  {
   "cell_type": "code",
   "execution_count": null,
   "metadata": {
    "graffitiCellId": "id_ur7bsk5"
   },
   "outputs": [],
   "source": [
    "class Queue:\n",
    "    \n",
    "    def __init__(self):\n",
    "        self.arr = [0 for _ in range(10)]\n",
    "        self.next_index = 0\n",
    "        self.front_index = None\n",
    "        self.queue_size = 0"
   ]
  },
  {
   "cell_type": "markdown",
   "metadata": {
    "graffitiCellId": "id_ginicgq"
   },
   "source": [
    "<span class=\"graffiti-highlight graffiti-id_ginicgq-id_qh3d3tt\"><i></i><button>Show Solution</button></span>"
   ]
  },
  {
   "cell_type": "markdown",
   "metadata": {
    "graffitiCellId": "id_ajja0hs"
   },
   "source": [
    "Let's check that the array is being initialized correctly. We can create a `Queue` object and access the `arr` attribute, and we should see our ten-element array:"
   ]
  },
  {
   "cell_type": "code",
   "execution_count": 3,
   "metadata": {
    "graffitiCellId": "id_81eds91"
   },
   "outputs": [
    {
     "name": "stdout",
     "output_type": "stream",
     "text": [
      "[0, 0, 0, 0, 0, 0, 0, 0, 0, 0]\n",
      "Pass\n"
     ]
    }
   ],
   "source": [
    "q = Queue()\n",
    "print(q.arr)\n",
    "print(\"Pass\" if q.arr == [0, 0, 0, 0, 0, 0, 0, 0, 0, 0] else \"Fail\")"
   ]
  },
  {
   "cell_type": "markdown",
   "metadata": {
    "graffitiCellId": "id_ctk4wmp"
   },
   "source": [
    "## 2. Add the `enqueue` method"
   ]
  },
  {
   "cell_type": "markdown",
   "metadata": {
    "graffitiCellId": "id_pavyplt"
   },
   "source": [
    "<span class=\"graffiti-highlight graffiti-id_pavyplt-id_evc6ky2\"><i></i><button>Walkthrough</button></span>"
   ]
  },
  {
   "cell_type": "code",
   "execution_count": null,
   "metadata": {
    "graffitiCellId": "id_lffvdj1"
   },
   "outputs": [],
   "source": []
  },
  {
   "cell_type": "markdown",
   "metadata": {
    "graffitiCellId": "id_4l8cnvy"
   },
   "source": [
    "In the cell below, add the code for the enqueue method.\n",
    "\n",
    "The method should:\n",
    "* Take a value as input and assign this value to the next free slot in the array\n",
    "* Increment `queue_size`\n",
    "* Increment `next_index` (this is where you'll need to use the modulo operator `%`)\n",
    "* If the front index is `-1` (because the queue was empty), it should set the front index to `0`"
   ]
  },
  {
   "cell_type": "code",
   "execution_count": null,
   "metadata": {
    "graffitiCellId": "id_n5hh6uh"
   },
   "outputs": [],
   "source": [
    "class Queue:\n",
    "\n",
    "    def __init__(self, initial_size=10):\n",
    "        self.arr = [0 for _ in range(initial_size)]\n",
    "        self.next_index = 0\n",
    "        self.front_index = -1\n",
    "        self.queue_size = 0\n",
    "\n",
    "    def enqueue(self, value):\n",
    "        self.arr[self.next_index] = value\n",
    "        self.next_index = (self.next_index + 1) % len(self.arr)\n",
    "        self.queue_size += 1\n",
    "        if self.front_index is None:\n",
    "            self.front_index = 0"
   ]
  },
  {
   "cell_type": "markdown",
   "metadata": {
    "graffitiCellId": "id_atrj1aj"
   },
   "source": [
    "<span class=\"graffiti-highlight graffiti-id_atrj1aj-id_xc03j2l\"><i></i><button>Show Solution</button></span>"
   ]
  },
  {
   "cell_type": "markdown",
   "metadata": {
    "graffitiCellId": "id_yw3ieol"
   },
   "source": [
    "## 3. Add the `size`,  `is_empty`, and `front` methods\n",
    "\n",
    "Just like with stacks, we need methods to keep track of the size of the queue and whether it is empty. We can also add a `front` method that returns the value of the front element.\n",
    "* Add a `size` method that returns the current size of the queue\n",
    "* Add an `is_empty` method that returns `True` if the queue is empty and `False` otherwise\n",
    "* Add a `front` method that returns the value for the front element (whatever item is located at the `front_index` position). If the queue is empty, the `front` method should return None."
   ]
  },
  {
   "cell_type": "code",
   "execution_count": null,
   "metadata": {
    "graffitiCellId": "id_h3he5o8"
   },
   "outputs": [],
   "source": [
    "class Queue:\n",
    "\n",
    "    def __init__(self, initial_size=10):\n",
    "        self.arr = [0 for _ in range(initial_size)]\n",
    "        self.next_index = 0\n",
    "        self.front_index = -1\n",
    "        self.queue_size = 0\n",
    "\n",
    "    def enqueue(self, value):\n",
    "        # enqueue new element\n",
    "        self.arr[self.next_index] = value\n",
    "        self.queue_size += 1\n",
    "        self.next_index = (self.next_index + 1) % len(self.arr)\n",
    "        if self.front_index == -1:\n",
    "            self.front_index = 0\n",
    "            \n",
    "    def size(self):\n",
    "        return self.queue_size\n",
    "    \n",
    "    def is_empty(self):\n",
    "        return self.size() == 0\n",
    "\n",
    "    def front(self):\n",
    "        if self.is_empty():\n",
    "            return None\n",
    "        return self.arr[self.front_index]"
   ]
  },
  {
   "cell_type": "markdown",
   "metadata": {
    "graffitiCellId": "id_i56dfhr"
   },
   "source": [
    "<span class=\"graffiti-highlight graffiti-id_i56dfhr-id_faf3sh0\"><i></i><button>Show Solution</button></span>"
   ]
  },
  {
   "cell_type": "markdown",
   "metadata": {
    "graffitiCellId": "id_o74nheg"
   },
   "source": [
    "## 4. Add the `dequeue` method"
   ]
  },
  {
   "cell_type": "markdown",
   "metadata": {
    "graffitiCellId": "id_lxj6sba"
   },
   "source": [
    "<span class=\"graffiti-highlight graffiti-id_lxj6sba-id_yqicw47\"><i></i><button>Walkthrough</button></span>"
   ]
  },
  {
   "cell_type": "code",
   "execution_count": null,
   "metadata": {
    "graffitiCellId": "id_r8vosiw"
   },
   "outputs": [],
   "source": []
  },
  {
   "cell_type": "markdown",
   "metadata": {
    "graffitiCellId": "id_htn2xep"
   },
   "source": [
    "In the cell below, see if you can add the `deqeueue` method.\n",
    "\n",
    "Here's what it should do:\n",
    "* If the queue is empty, reset the `front_index` and `next_index` and then simply return `None`. Otherwise...\n",
    "* Get the value from the front of the queue and store this in a local variable (to `return` later)\n",
    "* Shift the `head` over so that it refers to the next index\n",
    "* Update the `queue_size` attribute\n",
    "* Return the value that was dequeued"
   ]
  },
  {
   "cell_type": "code",
   "execution_count": null,
   "metadata": {
    "graffitiCellId": "id_o4aahoo"
   },
   "outputs": [],
   "source": [
    "class Queue:\n",
    "\n",
    "    def __init__(self, initial_size=10):\n",
    "        self.arr = [0 for _ in range(initial_size)]\n",
    "        self.next_index = 0\n",
    "        self.front_index = None\n",
    "        self.queue_size = 0\n",
    "\n",
    "    def enqueue(self, value):\n",
    "        # enqueue new element\n",
    "        self.arr[self.next_index] = value\n",
    "        self.queue_size += 1\n",
    "        self.next_index = (self.next_index + 1) % len(self.arr)\n",
    "        if self.front_index == -1:\n",
    "            self.front_index = 0\n",
    "            \n",
    "    def dequeue(self):\n",
    "        if self.is_empty():\n",
    "            self.front_index = None\n",
    "            self.next_index = 0\n",
    "            return None\n",
    "        \n",
    "        value = self.arr[self.front_index]\n",
    "        self.front_index = (self.front_index + 1) % len(self.arr)\n",
    "        self.queue_size -= 1\n",
    "        return value\n",
    "\n",
    "    def size(self):\n",
    "        return self.queue_size\n",
    "\n",
    "    def is_empty(self):\n",
    "        return self.size() == 0\n",
    "    \n",
    "    def front(self):\n",
    "        # check if queue is empty\n",
    "        if self.is_empty():\n",
    "            return None\n",
    "        return self.arr[self.front_index]"
   ]
  },
  {
   "cell_type": "markdown",
   "metadata": {
    "graffitiCellId": "id_ldbkw0c"
   },
   "source": [
    "<span class=\"graffiti-highlight graffiti-id_ldbkw0c-id_xf9p4ln\"><i></i><button>Show Solution</button></span>"
   ]
  },
  {
   "cell_type": "markdown",
   "metadata": {
    "graffitiCellId": "id_fim1y99"
   },
   "source": [
    "## 5. Add the `_handle_queue_capacity_full` method"
   ]
  },
  {
   "cell_type": "markdown",
   "metadata": {
    "graffitiCellId": "id_spuqydc"
   },
   "source": [
    "<span class=\"graffiti-highlight graffiti-id_spuqydc-id_g2v8fid\"><i></i><button>Walkthrough</button></span>"
   ]
  },
  {
   "cell_type": "code",
   "execution_count": null,
   "metadata": {
    "graffitiCellId": "id_f9kfvle"
   },
   "outputs": [],
   "source": []
  },
  {
   "cell_type": "markdown",
   "metadata": {
    "graffitiCellId": "id_9aj8z9m"
   },
   "source": [
    "First, define the `_handle_queue_capacity_full` method:\n",
    "* Define an `old_arr` variable and assign the the current (full) array so that we have a copy of it\n",
    "* Create a new (larger) array and assign it to `arr`.\n",
    "* Iterate over the values in the old array and copy them to the new array. Remember that you'll need two `for` loops for this.\n",
    "\n",
    "Then, in the `enqueue` method:\n",
    "* Add a conditional to check if the queue is full; if it is, call  `_handle_queue_capacity_full`"
   ]
  },
  {
   "cell_type": "code",
   "execution_count": 10,
   "metadata": {
    "graffitiCellId": "id_2nbozkc"
   },
   "outputs": [],
   "source": [
    "class Queue:\n",
    "\n",
    "    def __init__(self, initial_size=10):\n",
    "        self.arr = [0 for _ in range(initial_size)]\n",
    "        self.next_index = 0\n",
    "        self.front_index = -1\n",
    "        self.queue_size = 0\n",
    "\n",
    "    def enqueue(self, value):\n",
    "        # TODO: Check if the queue is full; if it is, call the _handle_queue_capacity_full method\n",
    "\n",
    "        # enqueue new element\n",
    "        self.arr[self.next_index] = value\n",
    "        self.queue_size += 1\n",
    "        self.next_index = (self.next_index + 1) % len(self.arr)\n",
    "        if self.front_index == -1:\n",
    "            self.front_index = 0\n",
    "\n",
    "    def dequeue(self):\n",
    "        # check if queue is empty\n",
    "        if self.is_empty():\n",
    "            self.front_index = -1   # resetting pointers\n",
    "            self.next_index = 0\n",
    "            return None\n",
    "\n",
    "        # dequeue front element\n",
    "        value = self.arr[self.front_index]\n",
    "        self.front_index = (self.front_index + 1) % len(self.arr)\n",
    "        self.queue_size -= 1\n",
    "        return value\n",
    "\n",
    "    def size(self):\n",
    "        return self.queue_size\n",
    "\n",
    "    def is_empty(self):\n",
    "        return self.size() == 0\n",
    "    \n",
    "    def front(self):\n",
    "        # check if queue is empty\n",
    "        if self.is_empty():\n",
    "            return None\n",
    "        return self.arr[self.front_index]\n",
    "\n",
    "    def _handle_queue_capacity_full(self):\n",
    "        old_arr = self.arr\n",
    "        self.arr = [0 for _ in (2 * old_arr)]\n",
    "        \n",
    "        idx = 0\n",
    "        \n",
    "        for i in range(self.front_index, len(old_arr)):\n",
    "            self.arr[idx] = old_arr[i]\n",
    "            idx += 1\n",
    "            \n",
    "        for i in range(0, self.front_index):\n",
    "            self.arr[idx] = old_arr[i]\n",
    "            idx += 1\n",
    "            \n",
    "        self.front_index = 0\n",
    "        self.next_index = idx"
   ]
  },
  {
   "cell_type": "markdown",
   "metadata": {
    "graffitiCellId": "id_52iezkc"
   },
   "source": [
    "<span class=\"graffiti-highlight graffiti-id_52iezkc-id_cyedroj\"><i></i><button>Show Solution</button></span>"
   ]
  },
  {
   "cell_type": "markdown",
   "metadata": {
    "graffitiCellId": "id_aya1vks"
   },
   "source": [
    "### Test your queue"
   ]
  },
  {
   "cell_type": "code",
   "execution_count": 11,
   "metadata": {
    "graffitiCellId": "id_2q547d6"
   },
   "outputs": [
    {
     "name": "stdout",
     "output_type": "stream",
     "text": [
      "Pass\n",
      "Pass\n",
      "Pass\n",
      "Pass\n",
      "Pass\n",
      "Pass\n"
     ]
    }
   ],
   "source": [
    "# Setup\n",
    "q = Queue()\n",
    "q.enqueue(1)\n",
    "q.enqueue(2)\n",
    "q.enqueue(3)\n",
    "\n",
    "# Test size\n",
    "print (\"Pass\" if (q.size() == 3) else \"Fail\")\n",
    "\n",
    "# Test dequeue\n",
    "print (\"Pass\" if (q.dequeue() == 1) else \"Fail\")\n",
    "\n",
    "# Test enqueue\n",
    "q.enqueue(4)\n",
    "print (\"Pass\" if (q.dequeue() == 2) else \"Fail\")\n",
    "print (\"Pass\" if (q.dequeue() == 3) else \"Fail\")\n",
    "print (\"Pass\" if (q.dequeue() == 4) else \"Fail\")\n",
    "q.enqueue(5)\n",
    "print (\"Pass\" if (q.size() == 1) else \"Fail\")"
   ]
  }
 ],
 "metadata": {
  "graffiti": {
   "firstAuthorId": "10835321903",
   "id": "id_7qeckks",
   "language": "EN"
  },
  "kernelspec": {
   "display_name": "Python 3",
   "language": "python",
   "name": "python3"
  },
  "language_info": {
   "codemirror_mode": {
    "name": "ipython",
    "version": 3
   },
   "file_extension": ".py",
   "mimetype": "text/x-python",
   "name": "python",
   "nbconvert_exporter": "python",
   "pygments_lexer": "ipython3",
   "version": "3.6.3"
  }
 },
 "nbformat": 4,
 "nbformat_minor": 2
}
