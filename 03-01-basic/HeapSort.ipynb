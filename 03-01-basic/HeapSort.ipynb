{
 "cells": [
  {
   "cell_type": "markdown",
   "metadata": {
    "graffitiCellId": "id_8qbo8lo"
   },
   "source": [
    "# Heapsort\n",
    "\n",
    "A heapsort is an in-place sorting algorithm that treats an array like a binary tree and moves the largest values to the end of the heap until the full array is sorted.  \n",
    "\n",
    "The main steps in a heapsort are:\n",
    "1. Convert the array into a maxheap (a complete binary tree with decreasing values) \n",
    "2. Swap the top element with the last element in the array (putting it in it's correct final position)\n",
    "3. Repeat with `arr[:len(arr)-1]` (all but the sorted elements)\n",
    "\n",
    "## Visualization of a heapsort\n",
    "![animation of a heap sort](https://upload.wikimedia.org/wikipedia/commons/4/4d/Heapsort-example.gif)\n",
    "\n",
    "[\"Heapsort example\"](https://commons.wikimedia.org/wiki/File:Heapsort-example.gif) by Swfung8. Used under [CC BY-SA 3.0](https://creativecommons.org/licenses/by-sa/3.0/deed.en).\n",
    "\n",
    "## Problem statement\n",
    "\n",
    "In the cell below, see if you can code a `heapsort` function that takes an array (or Python list) and performs a heapsort on it. You will have to complete the heapify"
   ]
  },
  {
   "cell_type": "code",
   "execution_count": 29,
   "metadata": {},
   "outputs": [],
   "source": [
    "def heapify(arr, n, parent):\n",
    "    \"\"\"\n",
    "    :param: arr - array to heapify\n",
    "    n -- number of elements in the array\n",
    "    i -- index of the current node\n",
    "    TODO: Converts an array (in place) into a maxheap, a complete binary tree with the largest values at the top\n",
    "    \"\"\"\n",
    "    # 1) start at the end of the array == siftdown-method\n",
    "    # 2) íterate backwards over each position in the array and apply siftdown on each position\n",
    "    # 3) if a swap is done, because the parent is not the largest,\n",
    "    #    apply siftdown again for the child position of the index that was the target of the swap\n",
    "    \n",
    "    largest_index = parent\n",
    "    left_child = 2 * parent + 1\n",
    "    right_child = 2 * parent + 2\n",
    "    \n",
    "    # check whether left child is present and its item bigger than the parent\n",
    "    if left_child < n and arr[parent] < arr[left_child]:\n",
    "        largest_index = left_child\n",
    "    \n",
    "    # check whether right child is present and its item bigger than the parent\n",
    "    if right_child < n and arr[largest_index] < arr[right_child]:\n",
    "        largest_index = right_child\n",
    "    \n",
    "    # parent item is not largest -> swap elements of parent and largest\n",
    "    if largest_index != parent:\n",
    "        arr[parent], arr[largest_index] = arr[largest_index], arr[parent]\n",
    "        \n",
    "        # heapify child (recursively) to propagate the swapped element to its correct position\n",
    "        heapify(arr, n, largest_index)\n",
    "        \n",
    "def heapsort(arr):\n",
    "    \"\"\"Build a heap-sort, then convert it to a sorted list.\n",
    "    \n",
    "    Right part of the array is a growing sorted list.\n",
    "    Left part of the array is a shrinking max-heap.\n",
    "    \n",
    "    Iterate backwards over array while excluding all positions of the array\n",
    "    that contain the sorted list.\n",
    "    \"\"\"\n",
    "    n = len(arr)\n",
    "    \n",
    "    # create a max-heap with siftdown-heapify\n",
    "    # apply heapify at every position\n",
    "    for i in range(n-1, -1, -1):\n",
    "        heapify(arr, n, i)\n",
    "        \n",
    "    # create a sorted list from heap\n",
    "    # do this by moving the largest element to the end of the heap by swapping\n",
    "    # afterwards shrink the index by one to exclude the sorted part\n",
    "    # e.g.: [6, 5, 2, 4, 1] -> [5, 2, 4, 1 | 6] -> [4, 2, 1 | 5, 6] -> [2, 1 | 4, 5, 6]\n",
    "    # stop at position 1 of the list as no more swaps can be done at this position\n",
    "    for i in range(n-1, 0, -1):\n",
    "        arr[0], arr[i] = arr[i], arr[0]\n",
    "        # i = len(unsorted part of the arr) - 1\n",
    "        heapify(arr, i, 0) # siftdown the new element until it is at the right position"
   ]
  },
  {
   "cell_type": "markdown",
   "metadata": {
    "graffitiCellId": "id_1h50lwk"
   },
   "source": [
    "<span class=\"graffiti-highlight graffiti-id_1h50lwk-id_kuae7he\"><i></i><button>Hide Solution</button></span>"
   ]
  },
  {
   "cell_type": "code",
   "execution_count": 15,
   "metadata": {
    "graffitiCellId": "id_kuae7he"
   },
   "outputs": [],
   "source": [
    "# Solution\n",
    "\n",
    "def heapify(arr, n, i):\n",
    "    # Using i as the index of the current node, find the 2 child nodes (if the array were a binary tree)\n",
    "    # and find the largest value.   If one of the children is larger swap the values and recurse into that subree\n",
    "    \n",
    "    # consider current index as largest\n",
    "    largest_index = i \n",
    "    left_node = 2 * i + 1     \n",
    "    right_node = 2 * i + 2     \n",
    "  \n",
    "    # compare with left child\n",
    "    if left_node < n and arr[i] < arr[left_node]: \n",
    "        largest_index = left_node\n",
    "  \n",
    "    # compare with right child\n",
    "    if right_node < n and arr[largest_index] < arr[right_node]: \n",
    "        largest_index = right_node\n",
    "  \n",
    "    # if either of left / right child is the largest node\n",
    "    if largest_index != i: \n",
    "        arr[i], arr[largest_index] = arr[largest_index], arr[i] \n",
    "    \n",
    "        heapify(arr, n, largest_index) \n",
    "        \n",
    "def heapsort(arr):\n",
    "    # First convert the array into a maxheap by calling heapify on each node, starting from the end   \n",
    "    # now that you have a maxheap, you can swap the first element (largest) to the end (final position)\n",
    "    # and make the array minus the last element into maxheap again.  Continue to do this until the whole\n",
    "    # array is sorted\n",
    "    n = len(arr) \n",
    "  \n",
    "    # Build a maxheap. \n",
    "    for i in range(n, -1, -1): \n",
    "        heapify(arr, n, i) \n",
    "  \n",
    "    # One by one extract elements \n",
    "    for i in range(n-1, 0, -1): \n",
    "        arr[i], arr[0] = arr[0], arr[i] # swap \n",
    "        heapify(arr, i, 0) "
   ]
  },
  {
   "cell_type": "code",
   "execution_count": 22,
   "metadata": {},
   "outputs": [],
   "source": [
    "def test_function(test_case):\n",
    "    heapsort(test_case[0])\n",
    "    print(test_case[0])\n",
    "    if test_case[0] == test_case[1]:\n",
    "        print(\"Pass\")\n",
    "    else:\n",
    "        print(\"False\")"
   ]
  },
  {
   "cell_type": "code",
   "execution_count": 30,
   "metadata": {
    "graffitiCellId": "id_5z02ebi"
   },
   "outputs": [
    {
     "name": "stdout",
     "output_type": "stream",
     "text": [
      "[0, 1, 3, 3, 4, 4, 5, 6, 7, 8, 9, 9]\n",
      "Pass\n"
     ]
    }
   ],
   "source": [
    "arr = [3, 7, 4, 6, 1, 0, 9, 8, 9, 4, 3, 5]\n",
    "solution = [0, 1, 3, 3, 4, 4, 5, 6, 7, 8, 9, 9]\n",
    "\n",
    "test_case = [arr, solution]\n",
    "\n",
    "test_function(test_case)\n"
   ]
  },
  {
   "cell_type": "code",
   "execution_count": 31,
   "metadata": {},
   "outputs": [
    {
     "name": "stdout",
     "output_type": "stream",
     "text": [
      "[3, 3, 3, 4, 4, 4, 4, 5, 5, 5]\n",
      "Pass\n"
     ]
    }
   ],
   "source": [
    "arr = [5, 5, 5, 3, 3, 3, 4, 4, 4, 4]\n",
    "solution = [3, 3, 3, 4, 4, 4, 4, 5, 5, 5]\n",
    "test_case = [arr, solution]\n",
    "test_function(test_case)\n"
   ]
  },
  {
   "cell_type": "code",
   "execution_count": 32,
   "metadata": {},
   "outputs": [
    {
     "name": "stdout",
     "output_type": "stream",
     "text": [
      "[99]\n",
      "Pass\n"
     ]
    }
   ],
   "source": [
    "arr = [99]\n",
    "solution = [99]\n",
    "test_case = [arr, solution]\n",
    "test_function(test_case)\n"
   ]
  },
  {
   "cell_type": "code",
   "execution_count": 33,
   "metadata": {},
   "outputs": [
    {
     "name": "stdout",
     "output_type": "stream",
     "text": [
      "[0, 0, 1, 2, 5, 12, 21]\n",
      "Pass\n"
     ]
    }
   ],
   "source": [
    "arr = [0, 1, 2, 5, 12, 21, 0]\n",
    "solution = [0, 0, 1, 2, 5, 12, 21]\n",
    "test_case = [arr, solution]\n",
    "test_function(test_case)\n"
   ]
  }
 ],
 "metadata": {
  "graffiti": {
   "firstAuthorId": "10694620118",
   "id": "id_57afwqr",
   "language": "EN"
  },
  "kernelspec": {
   "display_name": "Python 3",
   "language": "python",
   "name": "python3"
  },
  "language_info": {
   "codemirror_mode": {
    "name": "ipython",
    "version": 3
   },
   "file_extension": ".py",
   "mimetype": "text/x-python",
   "name": "python",
   "nbconvert_exporter": "python",
   "pygments_lexer": "ipython3",
   "version": "3.6.3"
  }
 },
 "nbformat": 4,
 "nbformat_minor": 2
}
