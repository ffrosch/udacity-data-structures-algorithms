{
 "cells": [
  {
   "cell_type": "markdown",
   "metadata": {
    "graffitiCellId": "id_pdy0t0f"
   },
   "source": [
    "### Problem Statement\n",
    "\n",
    "Write a function that takes an input array (or Python list) consisting of only `0`s, `1`s, and `2`s, and sorts that array in a single traversal.\n",
    "\n",
    "Note that if you can get the function to put the `0`s and `2`s in the correct positions, this will aotumatically cause the `1`s to be in the correct positions as well."
   ]
  },
  {
   "cell_type": "code",
   "execution_count": 9,
   "metadata": {
    "graffitiCellId": "id_vsgisrd"
   },
   "outputs": [],
   "source": [
    "def sort_012(arr):\n",
    "    \"\"\"Put 0 and 2 in their correct positions.\n",
    "    This way all 1s automatically end up in the right position.\n",
    "    \"\"\"\n",
    "    next_zero = 0\n",
    "    next_two  = len(arr) - 1\n",
    "    \n",
    "    front_index = 0\n",
    "    \n",
    "    while front_index <= next_two:\n",
    "        \n",
    "        if arr[front_index] == 0:\n",
    "            arr[next_zero], arr[front_index] = arr[front_index], arr[next_zero]\n",
    "            next_zero += 1\n",
    "            front_index += 1\n",
    "        elif arr[front_index] == 2:\n",
    "            arr[next_two], arr[front_index] = arr[front_index], arr[next_two]\n",
    "            next_two -= 1\n",
    "        else:\n",
    "            front_index += 1"
   ]
  },
  {
   "cell_type": "code",
   "execution_count": null,
   "metadata": {
    "graffitiCellId": "id_1f2p5yd"
   },
   "outputs": [],
   "source": [
    "def sort_012(input_list):\n",
    "    \"\"\"\n",
    "    The idea is to put 0 and 2 in their correct positions, which will make sure\n",
    "    all the 1s are automatically placed in their right positions\n",
    "    \"\"\"\n",
    "    # initialize pointers for next positions of 0 and 2\n",
    "    next_pos_0 = 0\n",
    "    next_pos_2 = len(input_list) - 1\n",
    "\n",
    "    front_index = 0\n",
    "\n",
    "    while front_index <= next_pos_2:\n",
    "        if input_list[front_index] == 0:\n",
    "            input_list[front_index] = input_list[next_pos_0]\n",
    "            input_list[next_pos_0] = 0\n",
    "            next_pos_0 += 1\n",
    "            front_index += 1\n",
    "        elif input_list[front_index] == 2:           \n",
    "            input_list[front_index] = input_list[next_pos_2] \n",
    "            input_list[next_pos_2] = 2\n",
    "            next_pos_2 -= 1\n",
    "        else:\n",
    "            front_index += 1"
   ]
  },
  {
   "cell_type": "markdown",
   "metadata": {
    "graffitiCellId": "id_rrxcwca"
   },
   "source": [
    "<span class=\"graffiti-highlight graffiti-id_rrxcwca-id_1f2p5yd\"><i></i><button>Show Solution</button></span>"
   ]
  },
  {
   "cell_type": "code",
   "execution_count": 2,
   "metadata": {
    "graffitiCellId": "id_2sqv48t"
   },
   "outputs": [],
   "source": [
    "def test_function(test_case):\n",
    "    sort_012(test_case)\n",
    "    print(test_case)\n",
    "    if test_case == sorted(test_case):\n",
    "        print(\"Pass\")\n",
    "    else:\n",
    "        print(\"Fail\")\n"
   ]
  },
  {
   "cell_type": "code",
   "execution_count": 12,
   "metadata": {
    "graffitiCellId": "id_x3ai5yy"
   },
   "outputs": [
    {
     "name": "stdout",
     "output_type": "stream",
     "text": [
      "[0, 0, 0, 1, 1, 1, 2, 2, 2, 2, 2]\n",
      "Pass\n"
     ]
    }
   ],
   "source": [
    "test_case = [0, 0, 2, 2, 2, 1, 1, 1, 2, 0, 2]\n",
    "test_function(test_case)"
   ]
  },
  {
   "cell_type": "code",
   "execution_count": 10,
   "metadata": {
    "graffitiCellId": "id_t8sucox"
   },
   "outputs": [
    {
     "name": "stdout",
     "output_type": "stream",
     "text": [
      "[0, 0, 0, 0, 0, 0, 0, 0, 0, 0, 0, 1, 1, 1, 1, 1, 1, 2, 2, 2, 2, 2, 2, 2, 2, 2]\n",
      "Pass\n"
     ]
    }
   ],
   "source": [
    "test_case = [2, 1, 2, 0, 0, 2, 1, 0, 1, 0, 0, 2, 2, 2, 1, 2, 0, 0, 0, 2, 1, 0, 2, 0, 0, 1]\n",
    "test_function(test_case)"
   ]
  },
  {
   "cell_type": "code",
   "execution_count": 11,
   "metadata": {
    "graffitiCellId": "id_mk5p9ba"
   },
   "outputs": [
    {
     "name": "stdout",
     "output_type": "stream",
     "text": [
      "[0, 0, 0, 0, 0, 0, 1, 1, 1, 1, 1, 1, 2, 2, 2, 2, 2, 2, 2]\n",
      "Pass\n"
     ]
    }
   ],
   "source": [
    "test_case = [2, 2, 0, 0, 2, 1, 0, 2, 2, 1, 1, 1, 0, 1, 2, 0, 2, 0, 1]\n",
    "test_function(test_case)"
   ]
  }
 ],
 "metadata": {
  "graffiti": {
   "firstAuthorId": "dev",
   "id": "id_ni46pwa",
   "language": "EN"
  },
  "kernelspec": {
   "display_name": "Python 3",
   "language": "python",
   "name": "python3"
  },
  "language_info": {
   "codemirror_mode": {
    "name": "ipython",
    "version": 3
   },
   "file_extension": ".py",
   "mimetype": "text/x-python",
   "name": "python",
   "nbconvert_exporter": "python",
   "pygments_lexer": "ipython3",
   "version": "3.6.3"
  }
 },
 "nbformat": 4,
 "nbformat_minor": 2
}
