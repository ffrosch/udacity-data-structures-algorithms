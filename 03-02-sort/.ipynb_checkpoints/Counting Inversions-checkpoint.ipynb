{
 "cells": [
  {
   "cell_type": "markdown",
   "metadata": {
    "graffitiCellId": "id_ner1upo"
   },
   "source": [
    "# Counting Inversions\n",
    "\n",
    "The number of *inversions* in a disordered list is the number of pairs of elements that are inverted (out of order) in the list.  \n",
    "\n",
    "Here are some examples: \n",
    "  - [0,1] has 0 inversions\n",
    "  - [2,1] has 1 inversion (2,1)\n",
    "  - [3, 1, 2, 4] has 2 inversions (3, 2), (3, 1)\n",
    "  - [7, 5, 3, 1] has 6 inversions (7, 5), (3, 1), (5, 1), (7, 1), (5, 3), (7, 3)\n",
    "  \n",
    "The number of inversions can also be thought of in the following manner. \n",
    "\n",
    ">Given an array `arr[0 ... n-1]` of `n` distinct positive integers, for indices `i and j`, if `i < j` and `arr[i] > arr[j]` then the pair `(i, j)` is called an inversion of `arr`.\n",
    "\n",
    "## Problem statement\n",
    "\n",
    "Write a function, `count_inversions`, that takes an array (or Python list) as input, and returns a count of the total number of inversions present in the input.\n",
    "\n",
    "Mergesort provides an efficient way to solve this problem."
   ]
  },
  {
   "cell_type": "code",
   "execution_count": 30,
   "metadata": {
    "graffitiCellId": "id_jf6a5ys"
   },
   "outputs": [],
   "source": [
    "# This solution sorts the array in-place.\n",
    "# It uses recursion.\n",
    "# It keeps track of the indices instead of creating new arrays.\n",
    "\n",
    "def count_inversions(arr):\n",
    "    # TODO: Complete this function\n",
    "    start_index = 0\n",
    "    end_index = len(arr) - 1\n",
    "    return _count_inversions_func(arr, start_index, end_index)\n",
    "    \n",
    "\n",
    "def _count_inversions_func(arr, start_index, end_index):\n",
    "    if start_index >= end_index:\n",
    "        return 0\n",
    "    \n",
    "    mid_index = start_index + (end_index - start_index) // 2\n",
    "    \n",
    "    left = _count_inversions_func(arr, start_index, mid_index)\n",
    "    right = _count_inversions_func(arr, mid_index + 1, end_index)\n",
    "    \n",
    "    count = left + right\n",
    "    count += _merge(arr, start_index, mid_index, mid_index + 1, end_index)\n",
    "    \n",
    "    return count\n",
    "\n",
    "def _merge(arr, start_left, end_left, start_right, end_right):\n",
    "    count = 0\n",
    "    \n",
    "    index_left = start_left\n",
    "    index_right = start_right\n",
    "    \n",
    "    output_len = (end_left - start_left + 1) + (end_right - start_right + 1)\n",
    "    output_arr = [None for _ in range(output_len)]\n",
    "    \n",
    "    index = 0\n",
    "    while index < output_len:\n",
    "        \n",
    "        # correct order, no inversion, just add smaller item to output_arr\n",
    "        if arr[index_left] <= arr[index_right]:\n",
    "            output_arr[index] = arr[index_left]\n",
    "            index_left += 1\n",
    "    \n",
    "        else:\n",
    "            count = count + (end_left - index_left + 1)\n",
    "            output_arr[index] = arr[index_right]\n",
    "            index_right += 1\n",
    "        \n",
    "        index += 1\n",
    "        \n",
    "        if index_left > end_left:\n",
    "            for i in range(index_right, end_right + 1):\n",
    "                output_arr[index] = arr[i]\n",
    "                index += 1\n",
    "            break\n",
    "        \n",
    "        elif index_right > end_right:\n",
    "            for i in range(index_left, end_left + 1):\n",
    "                output_arr[index] = arr[i]\n",
    "                index += 1\n",
    "            break\n",
    "        \n",
    "    index = start_left\n",
    "    for i in range(output_len):\n",
    "        arr[index] = output_arr[i]\n",
    "        index += 1\n",
    "    return count\n",
    "    "
   ]
  },
  {
   "cell_type": "markdown",
   "metadata": {
    "graffitiCellId": "id_8809fp2"
   },
   "source": [
    "<span class=\"graffiti-highlight graffiti-id_8809fp2-id_8br31oi\"><i></i><button>Hide Solution</button></span>"
   ]
  },
  {
   "cell_type": "code",
   "execution_count": 17,
   "metadata": {
    "graffitiCellId": "id_8br31oi"
   },
   "outputs": [],
   "source": [
    "def count_inversions(arr):\n",
    "    start_index = 0\n",
    "    end_index = len(arr) - 1\n",
    "    output = inversion_count_func(arr, start_index, end_index)\n",
    "    return output\n",
    "\n",
    "\n",
    "def inversion_count_func(arr, start_index, end_index):\n",
    "    if start_index >= end_index:\n",
    "        return 0\n",
    "\n",
    "    mid_index = start_index + (end_index - start_index) // 2\n",
    "    \n",
    "    # find number of inversions in left-half\n",
    "    left_answer = inversion_count_func(arr, start_index, mid_index)\n",
    "    \n",
    "    # find number of inversions in right-half\n",
    "    right_answer = inversion_count_func(arr, mid_index + 1, end_index)\n",
    "\n",
    "    output = left_answer + right_answer\n",
    "    \n",
    "    # merge two sorted halves and count inversions while merging\n",
    "    output += merge_two_sorted_halves(arr, start_index, mid_index, mid_index + 1, end_index)\n",
    "    return output\n",
    "\n",
    "\n",
    "def merge_two_sorted_halves(arr, start_one, end_one, start_two, end_two):\n",
    "    count = 0\n",
    "    left_index = start_one\n",
    "    right_index = start_two\n",
    "\n",
    "    output_length = (end_two - start_two + 1) + (end_one - start_one + 1)\n",
    "    output_list = [0 for _ in range(output_length)]\n",
    "    index = 0\n",
    "\n",
    "    while index < output_length:\n",
    "        # if left <= right, it's not an inversion\n",
    "        if arr[left_index] <= arr[right_index]:\n",
    "            output_list[index] = arr[left_index]\n",
    "            left_index += 1\n",
    "\n",
    "        else:\n",
    "            count = count + (end_one - left_index + 1)           # left > right hence it's an inversion\n",
    "            output_list[index] = arr[right_index]\n",
    "            right_index += 1\n",
    "\n",
    "        index = index + 1\n",
    "\n",
    "        if left_index > end_one:\n",
    "            for i in range(right_index, end_two + 1):\n",
    "                output_list[index] = arr[i]\n",
    "                index += 1\n",
    "            break\n",
    "\n",
    "        elif right_index > end_two:\n",
    "            for i in range(left_index, end_one + 1):\n",
    "                output_list[index] = arr[i]\n",
    "                index += 1\n",
    "            break\n",
    "\n",
    "    index = start_one\n",
    "    for i in range(output_length):\n",
    "        arr[index] = output_list[i]\n",
    "        index += 1\n",
    "    return count"
   ]
  },
  {
   "cell_type": "code",
   "execution_count": 22,
   "metadata": {
    "graffitiCellId": "id_l6xh0rg"
   },
   "outputs": [],
   "source": [
    "def test_function(test_case):\n",
    "    arr = test_case[0]\n",
    "    solution = test_case[1]\n",
    "    if count_inversions(arr) == solution:\n",
    "        print(\"Pass\")\n",
    "    else:\n",
    "        print(\"Fail\")\n"
   ]
  },
  {
   "cell_type": "code",
   "execution_count": 31,
   "metadata": {
    "graffitiCellId": "id_4aqr272"
   },
   "outputs": [
    {
     "name": "stdout",
     "output_type": "stream",
     "text": [
      "Pass\n"
     ]
    }
   ],
   "source": [
    "arr = [2, 5, 1, 3, 4]\n",
    "solution = 4\n",
    "test_case = [arr, solution]\n",
    "test_function(test_case)"
   ]
  },
  {
   "cell_type": "code",
   "execution_count": 33,
   "metadata": {
    "graffitiCellId": "id_0sqy9z2"
   },
   "outputs": [
    {
     "name": "stdout",
     "output_type": "stream",
     "text": [
      "Pass\n"
     ]
    }
   ],
   "source": [
    "arr = [54, 99, 49, 22, 37, 18, 22, 90, 86, 33]\n",
    "solution = 26\n",
    "test_case = [arr, solution]\n",
    "test_function(test_case)"
   ]
  },
  {
   "cell_type": "code",
   "execution_count": 34,
   "metadata": {
    "graffitiCellId": "id_s5l67ma"
   },
   "outputs": [
    {
     "name": "stdout",
     "output_type": "stream",
     "text": [
      "Pass\n"
     ]
    }
   ],
   "source": [
    "arr = [1, 2, 4, 2, 3, 11, 22, 99, 108, 389]\n",
    "solution = 2\n",
    "test_case = [arr, solution]\n",
    "test_function(test_case)"
   ]
  }
 ],
 "metadata": {
  "graffiti": {
   "firstAuthorId": "dev",
   "id": "id_2rhwg9e",
   "language": "EN"
  },
  "kernelspec": {
   "display_name": "Python 3",
   "language": "python",
   "name": "python3"
  },
  "language_info": {
   "codemirror_mode": {
    "name": "ipython",
    "version": 3
   },
   "file_extension": ".py",
   "mimetype": "text/x-python",
   "name": "python",
   "nbconvert_exporter": "python",
   "pygments_lexer": "ipython3",
   "version": "3.6.3"
  }
 },
 "nbformat": 4,
 "nbformat_minor": 2
}
