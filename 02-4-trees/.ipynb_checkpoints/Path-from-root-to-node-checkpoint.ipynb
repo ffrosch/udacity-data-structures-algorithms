{
 "cells": [
  {
   "cell_type": "markdown",
   "metadata": {},
   "source": [
    "## Problem Statement\n",
    "\n",
    "Given the root of a Binary Tree and a `data` value representing a node, return the path from the root to that node in the form of a list. You can assume that the binary tree has nodes with unique values. "
   ]
  },
  {
   "cell_type": "code",
   "execution_count": 1,
   "metadata": {},
   "outputs": [],
   "source": [
    "class BinaryTreeNode:\n",
    "\n",
    "    def __init__(self, data):\n",
    "        self.data = data\n",
    "        self.left = None\n",
    "        self.right = None"
   ]
  },
  {
   "cell_type": "code",
   "execution_count": 25,
   "metadata": {},
   "outputs": [],
   "source": [
    "def path_from_node_to_root(root, data):\n",
    "    if root is None:\n",
    "        return None\n",
    "    \n",
    "    if root.data == data:\n",
    "        return [root.data]\n",
    "    \n",
    "    result_left = path_from_node_to_root(root.left, data)\n",
    "    if result_left is not None:\n",
    "        result_left.append(root.data)\n",
    "        return result_left\n",
    "    \n",
    "    result_right = path_from_node_to_root(root.right, data)\n",
    "    if result_right is not None:\n",
    "        result_right.append(root.data)\n",
    "        return result_right\n",
    "    \n",
    "    return None\n",
    "\n",
    "def path_from_root_to_node(root, data):\n",
    "    \"\"\"\n",
    "    :param: root - root of binary tree\n",
    "    :param: data - value (representing a node)\n",
    "    TODO: complete this method and return a list containing values of each node in the path\n",
    "    from root to the data node\n",
    "    \"\"\"\n",
    "    path = path_from_node_to_root(root, data)\n",
    "    return list(reversed(path))"
   ]
  },
  {
   "cell_type": "markdown",
   "metadata": {},
   "source": [
    "You can use the following function to test your code with custom test cases. The function `convert_arr_to_binary_tree` takes an array input representing level-order traversal of the binary tree.\n",
    "\n",
    "\n",
    "<img src='./resources/01-binary-tree.png'>\n",
    "\n",
    "The above tree would be represented as `arr = [1, 2, 3, 4, None, 5, None, None, None, None, None]`\n",
    "\n",
    "Notice that the level order traversal of the above tree would be `[1, 2, 3, 4, 5]`. \n",
    "\n",
    "Note the following points about this tree:\n",
    "* `None` represnts lack of node. For example, `2` only has a left node; therefore, the next node after `4` (in level order) is represented as `None`\n",
    "* Similarly, `3` only has a left node; hence, the next node after `5` (in level order) is represted as `None`.\n",
    "* Also, `4` and `5` don't have any children. Therefore, the spots for their children in level order are represented by four `None` values (for each child of `4` and `5`)"
   ]
  },
  {
   "cell_type": "code",
   "execution_count": 12,
   "metadata": {},
   "outputs": [],
   "source": [
    "from queue import Queue\n",
    "\n",
    "def convert_arr_to_binary_tree(arr):\n",
    "    \"\"\"\n",
    "    Takes arr representing level-order traversal of Binary Tree \n",
    "    \"\"\"\n",
    "    index = 0\n",
    "    length = len(arr)\n",
    "    \n",
    "    if length <= 0 or arr[0] == -1:\n",
    "        return None\n",
    "\n",
    "    root = BinaryTreeNode(arr[index])\n",
    "    index += 1\n",
    "    queue = Queue()\n",
    "    queue.put(root)\n",
    "    \n",
    "    while not queue.empty():\n",
    "        current_node = queue.get()\n",
    "        left_child = arr[index]\n",
    "        index += 1\n",
    "        \n",
    "        if left_child is not None:\n",
    "            left_node = BinaryTreeNode(left_child)\n",
    "            current_node.left = left_node\n",
    "            queue.put(left_node)\n",
    "        \n",
    "        right_child = arr[index]\n",
    "        index += 1\n",
    "        \n",
    "        if right_child is not None:\n",
    "            right_node = BinaryTreeNode(right_child)\n",
    "            current_node.right = right_node\n",
    "            queue.put(right_node)\n",
    "    return root\n",
    "\n",
    "    \n",
    "    "
   ]
  },
  {
   "cell_type": "code",
   "execution_count": 1,
   "metadata": {},
   "outputs": [],
   "source": [
    "# Solution\n",
    "def path_from_root_to_node(root, data):\n",
    "    \"\"\"\n",
    "    Assuming data as input to find the node\n",
    "    The solution can be easily changed to find a node instead of data\n",
    "    :param data:\n",
    "    :return:\n",
    "    \"\"\"\n",
    "    output = path_from_node_to_root(root, data)\n",
    "    return list(reversed(output))\n",
    "\n",
    "def path_from_node_to_root(root, data):\n",
    "    if root is None:\n",
    "        return None\n",
    "\n",
    "    elif root.data == data:\n",
    "        return [data]\n",
    "\n",
    "    left_answer = path_from_node_to_root(root.left, data)\n",
    "    if left_answer is not None:\n",
    "        left_answer.append(root.data)\n",
    "        return left_answer\n",
    "\n",
    "    right_answer = path_from_node_to_root(root.right, data)\n",
    "    if right_answer is not None:\n",
    "        right_answer.append(root.data)\n",
    "        return right_answer\n",
    "    return None\n"
   ]
  },
  {
   "cell_type": "code",
   "execution_count": 23,
   "metadata": {},
   "outputs": [],
   "source": [
    "def test_function(test_case):\n",
    "    arr = test_case[0]\n",
    "    data = test_case[1]\n",
    "    solution = test_case[2]\n",
    "    root = convert_arr_to_binary_tree(arr)\n",
    "    output = path_from_root_to_node(root, data)\n",
    "    print(output)\n",
    "    if output == solution:\n",
    "        print(\"Pass\")\n",
    "    else:\n",
    "        print(\"Fail\")"
   ]
  },
  {
   "cell_type": "code",
   "execution_count": 26,
   "metadata": {},
   "outputs": [
    {
     "name": "stdout",
     "output_type": "stream",
     "text": [
      "[1, 2, 5]\n",
      "Pass\n"
     ]
    }
   ],
   "source": [
    "arr = [1, 2, 3, 4, 5, None, None, None, None, None, None]\n",
    "data = 5\n",
    "solution = [1, 2, 5]\n",
    "\n",
    "test_case = [arr, data, solution]\n",
    "test_function(test_case)"
   ]
  },
  {
   "cell_type": "code",
   "execution_count": 27,
   "metadata": {},
   "outputs": [
    {
     "name": "stdout",
     "output_type": "stream",
     "text": [
      "[1, 3, 5]\n",
      "Pass\n"
     ]
    }
   ],
   "source": [
    "arr = [1, 2, 3, 4, None, 5, None, None, None, None, None]\n",
    "data = 5\n",
    "solution = [1, 3, 5]\n",
    "\n",
    "test_case = [arr, data, solution]\n",
    "test_function(test_case)"
   ]
  },
  {
   "cell_type": "code",
   "execution_count": 28,
   "metadata": {},
   "outputs": [
    {
     "name": "stdout",
     "output_type": "stream",
     "text": [
      "[1, 3, 4, 6, 10, 11]\n",
      "Pass\n"
     ]
    }
   ],
   "source": [
    "arr = [1, 2, 3, None, None, 4, 5, 6, None, 7, 8, 9, 10, None, None, None, None, None, None, 11, None, None, None]\n",
    "data = 11\n",
    "solution = [1, 3, 4, 6, 10, 11]\n",
    "\n",
    "test_case = [arr, data, solution]\n",
    "test_function(test_case)"
   ]
  },
  {
   "cell_type": "code",
   "execution_count": 29,
   "metadata": {},
   "outputs": [
    {
     "name": "stdout",
     "output_type": "stream",
     "text": [
      "[1, 3, 5, 8]\n",
      "Pass\n"
     ]
    }
   ],
   "source": [
    "arr = [1, 2, 3, None, None, 4, 5, 6, None, 7, 8, 9, 10, None, None, None, None, None, None, 11, None, None, None]\n",
    "data = 8\n",
    "solution = [1, 3, 5,8]\n",
    "\n",
    "test_case = [arr, data, solution]\n",
    "test_function(test_case)"
   ]
  },
  {
   "cell_type": "code",
   "execution_count": null,
   "metadata": {},
   "outputs": [],
   "source": []
  }
 ],
 "metadata": {
  "kernelspec": {
   "display_name": "Python 3",
   "language": "python",
   "name": "python3"
  },
  "language_info": {
   "codemirror_mode": {
    "name": "ipython",
    "version": 3
   },
   "file_extension": ".py",
   "mimetype": "text/x-python",
   "name": "python",
   "nbconvert_exporter": "python",
   "pygments_lexer": "ipython3",
   "version": "3.6.3"
  }
 },
 "nbformat": 4,
 "nbformat_minor": 2
}
