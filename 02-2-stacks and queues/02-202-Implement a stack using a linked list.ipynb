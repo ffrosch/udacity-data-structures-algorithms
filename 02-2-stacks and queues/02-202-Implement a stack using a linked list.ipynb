{
 "cells": [
  {
   "cell_type": "markdown",
   "metadata": {
    "graffitiCellId": "id_xdetsnl"
   },
   "source": [
    "# Implement a stack using a linked list\n",
    "Previously, we looked at how to implement a stack using an array. While that approach does work, we saw that it raises some concerns with time complexity. For example, if we exceed the capacity of the array, we have to go through the laborious process of creating a new array and moving over all the elements from the old array.\n",
    "\n",
    "What if we instead implement the stack using a linked list? Can this improve our time complexity? Let's give it a try."
   ]
  },
  {
   "cell_type": "markdown",
   "metadata": {
    "graffitiCellId": "id_mij0r0e"
   },
   "source": [
    "## 1. Define a `Node` class\n",
    "Since we'll be implementing a linked list for this, we know that we'll need a `Node` class like we used earlier in this lesson.\n",
    "\n",
    "See if you can remember how to do this, and implement it in the cell below.\n",
    "\n",
    "> **Note:** If you've forgotten, that's completely OK—simply take a look at the solution in order to remind yourself. Then hide the solution, take a short break, and see if you can remember how to do it. Throughout this course, you will find yourself building on concepts you learned earlier. Whenever this is the case, it's good to take this same approach (try to remember, then check the solution, then hide the solution and try to remember again). This effort will help the ideas stick better."
   ]
  },
  {
   "cell_type": "code",
   "execution_count": 2,
   "metadata": {
    "graffitiCellId": "id_qiaei08"
   },
   "outputs": [],
   "source": [
    "class Node:\n",
    "    \n",
    "    def __init__(self, value):\n",
    "        self.value = value\n",
    "        self.next = None"
   ]
  },
  {
   "cell_type": "markdown",
   "metadata": {
    "graffitiCellId": "id_h9m3qr6"
   },
   "source": [
    "<span class=\"graffiti-highlight graffiti-id_h9m3qr6-id_tsnn9q6\"><i></i><button>Show Solution</button></span>"
   ]
  },
  {
   "cell_type": "markdown",
   "metadata": {
    "graffitiCellId": "id_9h3k6al"
   },
   "source": [
    "## 2. Create the `Stack` class and its `__init__` method\n",
    "\n",
    "In the cell below, see if you can write the `__init__` method for our `Stack` class. It will need two attributes:\n",
    "* A `head` attribute to keep track of the first node in the linked list\n",
    "* A `num_elements` attribute to keep track of how many items are in the stack"
   ]
  },
  {
   "cell_type": "code",
   "execution_count": 4,
   "metadata": {
    "graffitiCellId": "id_2s5bg1i"
   },
   "outputs": [],
   "source": [
    "class Stack:\n",
    "    \n",
    "    def __init__(self):\n",
    "        self.head = None\n",
    "        self.num_elements = 0"
   ]
  },
  {
   "cell_type": "markdown",
   "metadata": {
    "graffitiCellId": "id_5u5b7kr"
   },
   "source": [
    "<span class=\"graffiti-highlight graffiti-id_5u5b7kr-id_h4a16n9\"><i></i><button>Show Solution</button></span>"
   ]
  },
  {
   "cell_type": "markdown",
   "metadata": {
    "graffitiCellId": "id_z8zynka"
   },
   "source": [
    "## 3. Add the `push` method\n",
    "\n",
    "Next, we need to define our `push` method, so that we have a way of adding elements to the top of the stack. First, have a look at the walkthrough:"
   ]
  },
  {
   "cell_type": "markdown",
   "metadata": {
    "graffitiCellId": "id_offet8s"
   },
   "source": [
    "<span class=\"graffiti-highlight graffiti-id_offet8s-id_emzar9o\"><i></i><button>Walkthrough</button></span>"
   ]
  },
  {
   "cell_type": "code",
   "execution_count": null,
   "metadata": {
    "graffitiCellId": "id_httzs1t"
   },
   "outputs": [],
   "source": []
  },
  {
   "cell_type": "markdown",
   "metadata": {
    "graffitiCellId": "id_0r55di2"
   },
   "source": [
    "Now give it a try for yourself. In the cell below, add the `push` method:\n",
    "* The method will need to have a parameter for the `value` that you want to push\n",
    "* You'll then need to create a new `Node` object with this value and link it to the list\n",
    "* Remember that we want to add new items at the head of the stack, not the tail!\n",
    "* Once you've added the new node, you'll want to increment `num_elements`"
   ]
  },
  {
   "cell_type": "code",
   "execution_count": 5,
   "metadata": {
    "graffitiCellId": "id_t44ciy2"
   },
   "outputs": [],
   "source": [
    "class Stack:\n",
    "    \n",
    "    def __init__(self):\n",
    "        self.head = None\n",
    "        self.num_elements = 0\n",
    "        \n",
    "    def push(self, value):\n",
    "        node = Node(value)\n",
    "        if self.head is None:\n",
    "            self.head = node\n",
    "        else:\n",
    "            node.next = self.head\n",
    "            self.head = node\n",
    "        self.num_elements += 1\n",
    "        "
   ]
  },
  {
   "cell_type": "markdown",
   "metadata": {
    "graffitiCellId": "id_y26guof"
   },
   "source": [
    "<span class=\"graffiti-highlight graffiti-id_y26guof-id_6kuzit4\"><i></i><button>Show Solution</button></span>"
   ]
  },
  {
   "cell_type": "markdown",
   "metadata": {
    "graffitiCellId": "id_jeo9vsf"
   },
   "source": [
    "## 4. Add the `size` and `is_empty` methods\n",
    "\n",
    "When we implemented a stack using an array, we had these same methods. They'll work exactly the same way here—they aren't affected by the use of a linked list versus an array.\n",
    "* Add a `size` method that returns the current size of the stack\n",
    "* Add an `is_empty` method that returns `True` if the stack is empty and `False` otherwise"
   ]
  },
  {
   "cell_type": "code",
   "execution_count": 6,
   "metadata": {
    "graffitiCellId": "id_1rrzl3a"
   },
   "outputs": [],
   "source": [
    "class Stack:\n",
    "    \n",
    "    def __init__(self):\n",
    "        self.head = None\n",
    "        self.num_elements = 0\n",
    "        \n",
    "    def push(self, value):\n",
    "        new_node = Node(value)\n",
    "        # if stack is empty\n",
    "        if self.head is None:\n",
    "            self.head = new_node\n",
    "        else:\n",
    "            new_node.next = self.head # place the new node at the head (top) of the linked list\n",
    "            self.head = new_node\n",
    "\n",
    "        self.num_elements += 1\n",
    "        \n",
    "    def size(self):\n",
    "        return self.num_elements\n",
    "    \n",
    "    def is_empty(self):\n",
    "        return self.num_elements == 0\n"
   ]
  },
  {
   "cell_type": "markdown",
   "metadata": {
    "graffitiCellId": "id_7fylv5a"
   },
   "source": [
    "<span class=\"graffiti-highlight graffiti-id_7fylv5a-id_7iqlyth\"><i></i><button>Show Solution</button></span>"
   ]
  },
  {
   "cell_type": "markdown",
   "metadata": {
    "graffitiCellId": "id_k90w7uu"
   },
   "source": [
    "## 5. Add the `pop` method\n",
    "\n",
    "The last thing we need to do is add the `pop` method. First, here's a walkthrough that describes how the method works:"
   ]
  },
  {
   "cell_type": "markdown",
   "metadata": {
    "graffitiCellId": "id_5ivl2se"
   },
   "source": [
    "<span class=\"graffiti-highlight graffiti-id_5ivl2se-id_phfcwhs\"><i></i><button>Walkthrough</button></span>"
   ]
  },
  {
   "cell_type": "code",
   "execution_count": null,
   "metadata": {
    "graffitiCellId": "id_2zao4ac"
   },
   "outputs": [],
   "source": []
  },
  {
   "cell_type": "markdown",
   "metadata": {
    "graffitiCellId": "id_sf5nctx"
   },
   "source": [
    "Now try it yourself. The method needs to:\n",
    "* Check if the stack is empty and, if it is, return `None`\n",
    "* Get the value from the `head` node and put it in a local variable\n",
    "* Move the `head` so that it refers to the next item in the list\n",
    "* Return the value we got earlier"
   ]
  },
  {
   "cell_type": "code",
   "execution_count": 8,
   "metadata": {
    "graffitiCellId": "id_jqrdbzz"
   },
   "outputs": [],
   "source": [
    "class Stack:\n",
    "    \n",
    "    def __init__(self):\n",
    "        self.head = None\n",
    "        self.num_elements = 0\n",
    "        \n",
    "    def push(self, value):\n",
    "        new_node = Node(value)\n",
    "        # if stack is empty\n",
    "        if self.head is None:\n",
    "            self.head = new_node\n",
    "        else:\n",
    "            new_node.next = self.head # place the new node at the head (top) of the linked list\n",
    "            self.head = new_node\n",
    "\n",
    "        self.num_elements += 1\n",
    "        \n",
    "    def pop(self):\n",
    "        if self.is_empty():\n",
    "            return None\n",
    "        \n",
    "        value = self.head.value\n",
    "        self.head = self.head.next\n",
    "        self.num_elements -= 1\n",
    "        return value\n",
    "    \n",
    "    def size(self):\n",
    "        return self.num_elements\n",
    "    \n",
    "    def is_empty(self):\n",
    "        return self.num_elements == 0"
   ]
  },
  {
   "cell_type": "markdown",
   "metadata": {
    "graffitiCellId": "id_7solez7"
   },
   "source": [
    "<span class=\"graffiti-highlight graffiti-id_7solez7-id_s3wflye\"><i></i><button>Show Solution</button></span>"
   ]
  },
  {
   "cell_type": "markdown",
   "metadata": {
    "graffitiCellId": "id_7pzwcy1"
   },
   "source": [
    "## Test it!\n",
    "Now that we've completed our `Stack` class, let's test it to make sure it all works as expected."
   ]
  },
  {
   "cell_type": "code",
   "execution_count": 6,
   "metadata": {
    "graffitiCellId": "id_2u9ot84"
   },
   "outputs": [
    {
     "name": "stdout",
     "output_type": "stream",
     "text": [
      "Pass\n",
      "Pass\n",
      "Pass\n",
      "Pass\n",
      "Pass\n",
      "Pass\n"
     ]
    }
   ],
   "source": [
    "# Setup\n",
    "stack = Stack()\n",
    "stack.push(10)\n",
    "stack.push(20)\n",
    "stack.push(30)\n",
    "stack.push(40)\n",
    "stack.push(50)\n",
    "\n",
    "# Test size\n",
    "print (\"Pass\" if (stack.size() == 5) else \"Fail\")\n",
    "\n",
    "# Test pop\n",
    "print (\"Pass\" if (stack.pop() == 50) else \"Fail\")\n",
    "\n",
    "# Test push\n",
    "stack.push(60)\n",
    "print (\"Pass\" if (stack.pop() == 60) else \"Fail\")\n",
    "print (\"Pass\" if (stack.pop() == 40) else \"Fail\")\n",
    "print (\"Pass\" if (stack.pop() == 30) else \"Fail\")\n",
    "stack.push(50)\n",
    "print (\"Pass\" if (stack.size() == 3) else \"Fail\")"
   ]
  },
  {
   "cell_type": "markdown",
   "metadata": {
    "graffitiCellId": "id_d07rpbh"
   },
   "source": [
    "## Time complexity of stacks using linked lists\n",
    "\n",
    "Notice that if we pop or push an element with this stack, there's no traversal. We simply add or remove the item from the head of the linked list, and update the `head` reference. So with our linked list implementaion, `pop` and `push` have a time complexity of O(1).\n",
    "\n",
    "Also notice that using a linked list avoids the issue we ran into when we implemented our stack using an array. In that case, adding an item to the stack was fine—until we ran out of space. Then we would have to create an entirely new (larger) array and copy over all of the references from the old array.\n",
    "\n",
    "That happened because, with an array, we had to specify some initial size (in other words, we had to set aside a contiguous block of memory in advance). But with a linked list, the nodes do not need to be contiguous. They can be scattered in different locations of memory, an that works just fine. This means that with a linked list, we can simply append as many nodes as we like. Using that as the underlying data structure for our stack means that we never run out of capacity, so pushing and popping items will always have a time complexity of O(1).\n",
    "\n"
   ]
  }
 ],
 "metadata": {
  "graffiti": {
   "firstAuthorId": "10835321903",
   "id": "id_zz4xk06",
   "language": "EN"
  },
  "kernelspec": {
   "display_name": "Python 3",
   "language": "python",
   "name": "python3"
  },
  "language_info": {
   "codemirror_mode": {
    "name": "ipython",
    "version": 3
   },
   "file_extension": ".py",
   "mimetype": "text/x-python",
   "name": "python",
   "nbconvert_exporter": "python",
   "pygments_lexer": "ipython3",
   "version": "3.6.3"
  }
 },
 "nbformat": 4,
 "nbformat_minor": 2
}
