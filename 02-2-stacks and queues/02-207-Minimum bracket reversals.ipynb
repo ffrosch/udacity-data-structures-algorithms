{
 "cells": [
  {
   "cell_type": "markdown",
   "metadata": {
    "graffitiCellId": "id_vxtrcg7"
   },
   "source": [
    "### Problem Statement\n",
    "\n",
    "Given an input string consisting of only `{` and `}`, figure out the minimum number of reversals required to make the brackets balanced.\n",
    "\n",
    "**Additional Information: This means that each pair of brackets should actually form a unit like `{}` without re-ordering! Thus, brackets like this `}{` require two reversals. The instructions from Udacity are not clear on this! Brackets like `}}}}` are balanced when in the form of `{}{}`, NOT when in the form of `{{}}`.**\n",
    "\n",
    "For example:\n",
    "* For `input_string = \"}}}}`, the number of reversals required is `2`.\n",
    "\n",
    "\n",
    "* For `input_string = \"}{}}`, the number of reversals required is `1`.\n",
    "\n",
    "\n",
    "If the brackets cannot be balanced, return `-1` to indicate that it is not possible to balance them."
   ]
  },
  {
   "cell_type": "code",
   "execution_count": 1,
   "metadata": {
    "graffitiCellId": "id_jlfcw5k"
   },
   "outputs": [],
   "source": [
    "class LinkedListNode:\n",
    "\n",
    "    def __init__(self, data):\n",
    "        self.data = data\n",
    "        self.next = None\n",
    "\n",
    "class Stack:\n",
    "\n",
    "    def __init__(self):\n",
    "        self.num_elements = 0\n",
    "        self.head = None\n",
    "\n",
    "    def push(self, data):\n",
    "        new_node = LinkedListNode(data)\n",
    "        if self.head is None:\n",
    "            self.head = new_node\n",
    "        else:\n",
    "            new_node.next = self.head\n",
    "            self.head = new_node\n",
    "        self.num_elements += 1\n",
    "\n",
    "    def pop(self):\n",
    "        if self.is_empty():\n",
    "            return None\n",
    "        temp = self.head.data\n",
    "        self.head = self.head.next\n",
    "        self.num_elements -= 1\n",
    "        return temp\n",
    "\n",
    "    def top(self):\n",
    "        if self.head is None:\n",
    "            return None\n",
    "        return self.head.data\n",
    "\n",
    "    def size(self):\n",
    "        return self.num_elements\n",
    "\n",
    "    def is_empty(self):\n",
    "        return self.num_elements == 0\n"
   ]
  },
  {
   "cell_type": "code",
   "execution_count": 62,
   "metadata": {
    "graffitiCellId": "id_8y5l66z"
   },
   "outputs": [],
   "source": [
    "def minimum_bracket_reversals(input_string):\n",
    "    \"\"\"\n",
    "    Calculate the number of reversals to fix the brackets\n",
    "\n",
    "    Failure configurations:\n",
    "    - odd number of brackets\n",
    "\n",
    "    Args:\n",
    "       input_string(string): Strings to be used for bracket reversal calculation\n",
    "    Returns:\n",
    "       int: Number of breacket reversals needed\n",
    "    \"\"\"\n",
    "    # can't balance an uneven string\n",
    "    if len(input_string) % 2:\n",
    "        return -1\n",
    "    \n",
    "    # iterate over string\n",
    "    # create stack\n",
    "    # remove already paired brackets\n",
    "    stack = Stack()\n",
    "    for bracket in input_string:\n",
    "        if stack.is_empty():\n",
    "            stack.push(bracket)\n",
    "        else:\n",
    "            top = stack.top()\n",
    "            if top != bracket:\n",
    "                if top == '{':\n",
    "                    stack.pop()\n",
    "                    continue\n",
    "            stack.push(bracket)\n",
    "    \n",
    "    # take a pair of brackets\n",
    "    # count necessary reversals for a balance\n",
    "    # move to next pair\n",
    "    count = 0\n",
    "    lst = []\n",
    "    while not stack.is_empty():\n",
    "        right = stack.pop()\n",
    "        left = stack.pop()\n",
    "        if left == '{' and right == '{':\n",
    "            count += 1\n",
    "        elif left == '}' and right == '}':\n",
    "            count += 1\n",
    "        elif left == '}' and right == '{':\n",
    "            count += 2\n",
    "    return count"
   ]
  },
  {
   "cell_type": "code",
   "execution_count": 55,
   "metadata": {
    "graffitiCellId": "id_z5q6m05"
   },
   "outputs": [],
   "source": [
    "def test_function(test_case):\n",
    "    input_string = test_case[0]\n",
    "    expected_output = test_case[1]\n",
    "    output = minimum_bracket_reversals(input_string)\n",
    "    \n",
    "    if output == expected_output:\n",
    "        print(\"Pass\")\n",
    "    else:\n",
    "        print(\"Fail\")\n"
   ]
  },
  {
   "cell_type": "code",
   "execution_count": 56,
   "metadata": {
    "graffitiCellId": "id_y67zaj9"
   },
   "outputs": [
    {
     "name": "stdout",
     "output_type": "stream",
     "text": [
      "Pass\n"
     ]
    }
   ],
   "source": [
    "test_case_1 = [\"}}}}\", 2]\n",
    "test_function(test_case_1)"
   ]
  },
  {
   "cell_type": "code",
   "execution_count": 57,
   "metadata": {
    "graffitiCellId": "id_yt04y7c"
   },
   "outputs": [
    {
     "name": "stdout",
     "output_type": "stream",
     "text": [
      "Pass\n"
     ]
    }
   ],
   "source": [
    "test_case_2 = [\"}}{{\", 2]          \n",
    "test_function(test_case_2)"
   ]
  },
  {
   "cell_type": "code",
   "execution_count": 58,
   "metadata": {
    "graffitiCellId": "id_m8kpqt1"
   },
   "outputs": [
    {
     "name": "stdout",
     "output_type": "stream",
     "text": [
      "Pass\n"
     ]
    }
   ],
   "source": [
    "test_case_3 = [\"{{{{{{{{{{{{{{{{{{{{{{{{{{{{{{{}}}}}\", 13]\n",
    "\n",
    "test_function(test_case_3)"
   ]
  },
  {
   "cell_type": "code",
   "execution_count": 60,
   "metadata": {
    "graffitiCellId": "id_mp0csx6"
   },
   "outputs": [
    {
     "name": "stdout",
     "output_type": "stream",
     "text": [
      "Pass\n"
     ]
    }
   ],
   "source": [
    "test_case_4= [\"}{}{}{}{}{}{}{}{}{}{}{}{}{}{}{\", 2]\n",
    "test_function(test_case_4)"
   ]
  },
  {
   "cell_type": "code",
   "execution_count": 59,
   "metadata": {
    "graffitiCellId": "id_1732mey"
   },
   "outputs": [
    {
     "name": "stdout",
     "output_type": "stream",
     "text": [
      "Pass\n"
     ]
    }
   ],
   "source": [
    "test_case_5 = [\"}}{}{}{}{}{}{}{}{}{}{}{}{}{}{}\", 1]\n",
    "\n",
    "test_function(test_case_5)"
   ]
  },
  {
   "cell_type": "markdown",
   "metadata": {
    "graffitiCellId": "id_nswj6h2"
   },
   "source": [
    "<span class=\"graffiti-highlight graffiti-id_nswj6h2-id_mclvpey\"><i></i><button>Show Solution</button></span>"
   ]
  }
 ],
 "metadata": {
  "graffiti": {
   "firstAuthorId": "10694620118",
   "id": "id_m05og16",
   "language": "EN"
  },
  "kernelspec": {
   "display_name": "Python 3",
   "language": "python",
   "name": "python3"
  },
  "language_info": {
   "codemirror_mode": {
    "name": "ipython",
    "version": 3
   },
   "file_extension": ".py",
   "mimetype": "text/x-python",
   "name": "python",
   "nbconvert_exporter": "python",
   "pygments_lexer": "ipython3",
   "version": "3.6.3"
  }
 },
 "nbformat": 4,
 "nbformat_minor": 2
}
