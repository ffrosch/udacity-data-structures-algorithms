{
 "cells": [
  {
   "cell_type": "markdown",
   "metadata": {
    "collapsed": true,
    "graffitiCellId": "id_ya0lbp5"
   },
   "source": [
    "# Building a Queue in Python"
   ]
  },
  {
   "cell_type": "markdown",
   "metadata": {
    "graffitiCellId": "id_okh2tnx"
   },
   "source": [
    "Before we start let us reiterate the key components of a queue.\n",
    "\n",
    "A queue is a data structure that consists of two main operations: enqueue and dequeue. \n",
    "\n",
    "Enqueue is when you add a element to the tail of the queue and a pop is when you remove an element from the head of the queue. \n",
    "\n",
    "Python 3.x conviently allows us to demonstate this functionality with a list. When you have a list such as [2,4,5,6] you can decide which end of the list is the front and the back of the queue respectively.\n",
    "\n",
    "Once you decide that, you can use the append, pop or insert function to simulate a queue.\n",
    "\n",
    "We will choose the first element to be the front of our queue and therefore be using the append and pop functions to simulate it. Give it a try by implementing the function below!"
   ]
  },
  {
   "cell_type": "markdown",
   "metadata": {
    "graffitiCellId": "id_xfs2xr2"
   },
   "source": [
    "#### Try Building a Queue"
   ]
  },
  {
   "cell_type": "code",
   "execution_count": 3,
   "metadata": {
    "graffitiCellId": "id_5hsj73z"
   },
   "outputs": [],
   "source": [
    "class Queue:\n",
    "    def __init__(self):\n",
    "         self.items = []\n",
    "    \n",
    "    def size(self):\n",
    "         return len(self.items)\n",
    "    \n",
    "    def enqueue(self, item):\n",
    "         self.items.append(item)\n",
    "\n",
    "    def dequeue(self):\n",
    "        if self.items:\n",
    "            return self.items.pop(0)\n",
    "        return None"
   ]
  },
  {
   "cell_type": "markdown",
   "metadata": {
    "graffitiCellId": "id_71ky28j"
   },
   "source": [
    "#### Test the Queue"
   ]
  },
  {
   "cell_type": "code",
   "execution_count": 4,
   "metadata": {
    "graffitiCellId": "id_vft4r7p"
   },
   "outputs": [
    {
     "name": "stdout",
     "output_type": "stream",
     "text": [
      "Pass\n",
      "Pass\n",
      "Pass\n",
      "Pass\n",
      "Pass\n",
      "Pass\n"
     ]
    }
   ],
   "source": [
    "# Setup\n",
    "q = Queue()\n",
    "q.enqueue(1)\n",
    "q.enqueue(2)\n",
    "q.enqueue(3)\n",
    "\n",
    "# Test size\n",
    "print (\"Pass\" if (q.size() == 3) else \"Fail\")\n",
    "\n",
    "# Test dequeue\n",
    "print (\"Pass\" if (q.dequeue() == 1) else \"Fail\")\n",
    "\n",
    "# Test enqueue\n",
    "q.enqueue(4)\n",
    "print (\"Pass\" if (q.dequeue() == 2) else \"Fail\")\n",
    "print (\"Pass\" if (q.dequeue() == 3) else \"Fail\")\n",
    "print (\"Pass\" if (q.dequeue() == 4) else \"Fail\")\n",
    "q.enqueue(5)\n",
    "print (\"Pass\" if (q.size() == 1) else \"Fail\")"
   ]
  },
  {
   "cell_type": "markdown",
   "metadata": {
    "graffitiCellId": "id_d2dv43l"
   },
   "source": [
    "<span class=\"graffiti-highlight graffiti-id_goijmqw-id_6ul9qau\"><i></i><button>Show Solution</button></span>"
   ]
  }
 ],
 "metadata": {
  "graffiti": {
   "firstAuthorId": "10694620118",
   "id": "id_5gpoh6p",
   "language": "EN"
  },
  "kernelspec": {
   "display_name": "Python 3",
   "language": "python",
   "name": "python3"
  },
  "language_info": {
   "codemirror_mode": {
    "name": "ipython",
    "version": 3
   },
   "file_extension": ".py",
   "mimetype": "text/x-python",
   "name": "python",
   "nbconvert_exporter": "python",
   "pygments_lexer": "ipython3",
   "version": "3.6.3"
  }
 },
 "nbformat": 4,
 "nbformat_minor": 2
}
