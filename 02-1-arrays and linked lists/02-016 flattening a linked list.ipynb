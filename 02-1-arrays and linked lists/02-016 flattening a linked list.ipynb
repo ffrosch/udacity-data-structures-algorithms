{
 "cells": [
  {
   "cell_type": "markdown",
   "metadata": {},
   "source": [
    "## Flattening a nested linked list\n",
    "\n",
    "Suppose you have a linked list where the value of each node is a sorted linked list (i.e., it is a _nested_ list). Your task is to _flatten_ this nested list—that is, to combine all nested lists into a single (sorted) linked list.\n",
    "\n",
    "First, we'll need some code for generating nodes and a linked list:"
   ]
  },
  {
   "cell_type": "code",
   "execution_count": 11,
   "metadata": {},
   "outputs": [
    {
     "data": {
      "text/plain": [
       "False"
      ]
     },
     "execution_count": 11,
     "metadata": {},
     "output_type": "execute_result"
    }
   ],
   "source": [
    "node1 = Node(1)\n",
    "node2 = Node(2)\n",
    "\n",
    "node1 > node2"
   ]
  },
  {
   "cell_type": "code",
   "execution_count": 8,
   "metadata": {},
   "outputs": [],
   "source": [
    "# Helper code\n",
    "\n",
    "# A class behaves like a data-type, just like an int, float or any other built-in ones. \n",
    "# User defined class\n",
    "class Node:\n",
    "    def __init__(self, value): # <-- For simple LinkedList, \"value\" argument will be an int, whereas, for NestedLinkedList, \"value\" will be a LinkedList\n",
    "        self.value = value\n",
    "        self.next = None\n",
    "    \n",
    "    def __repr__(self):\n",
    "        return str(self.value)\n",
    "    \n",
    "    def __eq__(self, other):\n",
    "        \"\"\"Defines behavior for the equality operator, ==.\"\"\"\n",
    "        return self.value == other.value\n",
    "    \n",
    "    def __ne__(self, other):\n",
    "        \"\"\"Defines behavior for the inequality operator, !=.\"\"\"\n",
    "        return self.value != other.value\n",
    "        \n",
    "    def __lt__(self, other):\n",
    "        \"\"\"Defines behavior for the less-than operator, <.\"\"\"\n",
    "        return self.value < other.value\n",
    "        \n",
    "    def __gt__(self, other):\n",
    "        \"\"\"Defines behavior for the greater-than operator, >.\"\"\"\n",
    "        return self.value > other.value\n",
    "        \n",
    "    def __le__(self, other):\n",
    "        \"\"\"Defines behavior for the less-than-or-equal-to operator, <=.\"\"\"\n",
    "        return self.value <= other.value\n",
    "        \n",
    "    def __ge__(self, other):\n",
    "        \"\"\"Defines behavior for the greater-than-or-equal-to operator, >=.\"\"\"\n",
    "        return self.value >= other.value\n",
    "    \n",
    "# User defined class\n",
    "class LinkedList: \n",
    "    def __init__(self, head): # <-- Expects \"head\" to be a Node made up of an int or LinkedList\n",
    "        self.head = head\n",
    "    \n",
    "    '''\n",
    "    For creating a simple LinkedList, we will pass an integer as the \"value\" argument\n",
    "    For creating a nested LinkedList, we will pass a LinkedList as the \"value\" argument\n",
    "    '''\n",
    "    def append(self, value):\n",
    "        \n",
    "        # If LinkedList is empty\n",
    "        if self.head is None:\n",
    "            self.head = Node(value)\n",
    "            return\n",
    "        \n",
    "        # Create a temporary Node object\n",
    "        node = self.head\n",
    "        \n",
    "        # Iterate till the end of the currrent LinkedList\n",
    "        while node.next is not None:\n",
    "            node = node.next\n",
    "        \n",
    "        # Append the newly created Node at the end of the currrent LinkedList\n",
    "        node.next = Node(value)\n",
    "\n",
    "        \n",
    "    '''We will need this function to convert a LinkedList object into a Python list of integers'''\n",
    "    def to_list(self):\n",
    "        out = []          # <-- Declare a Python list\n",
    "        node = self.head  # <-- Create a temporary Node object\n",
    "        \n",
    "        while node:       # <-- Iterate untill we have nodes available\n",
    "            out.append(int(str(node.value))) # <-- node.value is actually of type Node, therefore convert it into int before appending to the Python list\n",
    "            node = node.next\n",
    "        \n",
    "        return out"
   ]
  },
  {
   "cell_type": "markdown",
   "metadata": {},
   "source": [
    "### Exercise - Write the two function definitions below\n",
    "Now, in the cell below, see if you can solve the problem by implementing the `flatten` method.\n",
    "\n",
    "**Hint**: If you first create a `merge` method that merges two linked lists into a sorted linked list, then there is an elegant recursive solution."
   ]
  },
  {
   "cell_type": "code",
   "execution_count": 50,
   "metadata": {},
   "outputs": [],
   "source": [
    "def merge(list1, list2):\n",
    "    # TODO: Implement this function so that it merges the two linked lists in a single, sorted linked list.\n",
    "    '''\n",
    "    The arguments list1, list2 must be of type LinkedList.\n",
    "    The merge() function must return an instance of LinkedList.\n",
    "    '''\n",
    "    if list1 is None:\n",
    "        return list2\n",
    "    if list2 is None:\n",
    "        return list1\n",
    "    \n",
    "    node1 = list1.head\n",
    "    node2 = list2.head\n",
    "    \n",
    "    merged = LinkedList(None)\n",
    "    while node1 or node2:\n",
    "        if not node1 or (node2 and node1 > node2):\n",
    "            merged.append(node2.value)\n",
    "            node2 = node2.next\n",
    "        if not node2 or (node1 and node2 > node1):\n",
    "            merged.append(node1.value)\n",
    "            node1 = node1.next\n",
    "    return merged\n",
    "        \n",
    "\n",
    "\n",
    "''' In a NESTED LinkedList object, each node will be a simple LinkedList in itself'''\n",
    "class NestedLinkedList(LinkedList):\n",
    "    # My solution\n",
    "    def flatten(self):\n",
    "        # TODO: Implement this method to flatten the linked list in ascending sorted order.\n",
    "        # Return a LinkedList\n",
    "        if self.head:\n",
    "            node1 = self.head\n",
    "            node2 = self.head.next\n",
    "        \n",
    "        list1 = node1.value\n",
    "        if node2:\n",
    "            if node2.next:\n",
    "                list2 = NestedLinkedList(node2).flatten()\n",
    "            else:\n",
    "                list2 = node2.value\n",
    "        \n",
    "        return merge(list1, list2)\n",
    "    \n",
    "    # Udacity's solution. Quite a bit more elegant than mine... (-;\n",
    "    def flatten(self):\n",
    "        return self._flatten(self, self.head)\n",
    "    \n",
    "    def _flatten(self, node):\n",
    "        if node.next is None:\n",
    "            return merge(node.value, None)\n",
    "        \n",
    "        return merge(node.value, self._flatten(node.next))"
   ]
  },
  {
   "cell_type": "markdown",
   "metadata": {},
   "source": [
    "### Test - Let's test your function\n",
    "Here's some code that will generate a nested linked list that we can use to test the solution:"
   ]
  },
  {
   "cell_type": "code",
   "execution_count": 51,
   "metadata": {},
   "outputs": [
    {
     "name": "stdout",
     "output_type": "stream",
     "text": [
      "[1, 2, 3, 4, 5, 7, 9]\n"
     ]
    }
   ],
   "source": [
    "# Test my merge function\n",
    "''' Create a simple LinkedList'''\n",
    "first = LinkedList(Node(1)) # <-- Notice that we are passing a Node made up of an integer\n",
    "first.append(3) # <-- Notice that we are passing a numerical value as an argument in the append() function here \n",
    "first.append(5)\n",
    "first.append(7)\n",
    "first.append(9)\n",
    "\n",
    "''' Create another simple LinkedList'''\n",
    "second = LinkedList(Node(2))\n",
    "second.append(4)\n",
    "\n",
    "new = merge(first, second)\n",
    "print(new.to_list())"
   ]
  },
  {
   "cell_type": "code",
   "execution_count": 33,
   "metadata": {},
   "outputs": [],
   "source": [
    "# First Test scenario\n",
    "''' Create a simple LinkedList'''\n",
    "linked_list = LinkedList(Node(1)) # <-- Notice that we are passing a Node made up of an integer\n",
    "linked_list.append(3) # <-- Notice that we are passing a numerical value as an argument in the append() function here \n",
    "linked_list.append(5)\n",
    "\n",
    "''' Create another simple LinkedList'''\n",
    "second_linked_list = LinkedList(Node(2))\n",
    "second_linked_list.append(4)\n",
    "\n",
    "''' Create a NESTED LinkedList, where each node will be a simple LinkedList in itself'''\n",
    "nested_linked_list = NestedLinkedList(Node(linked_list)) # <-- Notice that we are passing a Node made up of a simple LinkedList object\n",
    "nested_linked_list.append(second_linked_list) # <-- Notice that we are passing a LinkedList object in the append() function here"
   ]
  },
  {
   "cell_type": "markdown",
   "metadata": {},
   "source": [
    "#### Structure of the nested linked list to be tested\n",
    "`nested_linked_list` should now have 2 nodes.  The head node is a linked list containing `1, 3, 5`.  The second node is a linked list containing `2, 4`.\n",
    "\n",
    "Calling `flatten` should return a linked list containing `1, 2, 3, 4, 5`."
   ]
  },
  {
   "cell_type": "code",
   "execution_count": 34,
   "metadata": {
    "scrolled": true
   },
   "outputs": [],
   "source": [
    "solution = nested_linked_list.flatten() # <-- returns A LinkedList object\n",
    "\n",
    "expected_list = [1,2,3,4,5] # <-- Python list\n",
    "\n",
    "# Convert the \"solution\" into a Python list and compare with another Python list\n",
    "assert solution.to_list() == expected_list, f\"list contents: {solution.to_list()}\""
   ]
  },
  {
   "cell_type": "markdown",
   "metadata": {},
   "source": [
    "### Solution"
   ]
  },
  {
   "cell_type": "markdown",
   "metadata": {},
   "source": [
    "First, let's implement a `merge` function that takes in two linked lists and returns one sorted linked list.  Note, this implementation expects both linked lists to be sorted."
   ]
  },
  {
   "cell_type": "code",
   "execution_count": null,
   "metadata": {},
   "outputs": [],
   "source": [
    "def merge(list1, list2):\n",
    "    merged = LinkedList(None)\n",
    "    if list1 is None:\n",
    "        return list2\n",
    "    if list2 is None:\n",
    "        return list1\n",
    "    list1_elt = list1.head\n",
    "    list2_elt = list2.head\n",
    "    while list1_elt is not None or list2_elt is not None:\n",
    "        if list1_elt is None:\n",
    "            merged.append(list2_elt)\n",
    "            list2_elt = list2_elt.next\n",
    "        elif list2_elt is None:\n",
    "            merged.append(list1_elt)\n",
    "            list1_elt = list1_elt.next\n",
    "        elif list1_elt.value <= list2_elt.value:\n",
    "            merged.append(list1_elt)\n",
    "            list1_elt = list1_elt.next\n",
    "        else:\n",
    "            merged.append(list2_elt)\n",
    "            list2_elt = list2_elt.next\n",
    "    return merged"
   ]
  },
  {
   "cell_type": "markdown",
   "metadata": {},
   "source": [
    "Let's make sure merge works how we expect:"
   ]
  },
  {
   "cell_type": "code",
   "execution_count": 47,
   "metadata": {},
   "outputs": [
    {
     "name": "stdout",
     "output_type": "stream",
     "text": [
      "1\n",
      "2\n",
      "3\n",
      "4\n",
      "5\n",
      "1\n",
      "3\n",
      "5\n"
     ]
    }
   ],
   "source": [
    "''' Test merge() function'''\n",
    "linked_list = LinkedList(Node(1))\n",
    "linked_list.append(3)\n",
    "linked_list.append(5)\n",
    "\n",
    "second_linked_list = LinkedList(Node(2))\n",
    "second_linked_list.append(4)\n",
    "\n",
    "merged = merge(linked_list, second_linked_list)\n",
    "node = merged.head\n",
    "while node is not None:\n",
    "    #This will print 1 2 3 4 5\n",
    "    print(node.value)\n",
    "    node = node.next\n",
    "    \n",
    "# Lets make sure it works with a None list\n",
    "merged = merge(None, linked_list)\n",
    "node = merged.head\n",
    "while node is not None:\n",
    "    #This will print 1 3 5\n",
    "    print(node.value)\n",
    "    node = node.next"
   ]
  },
  {
   "cell_type": "markdown",
   "metadata": {},
   "source": [
    "Now let's implement `flatten` recursively using merge."
   ]
  },
  {
   "cell_type": "code",
   "execution_count": 48,
   "metadata": {},
   "outputs": [],
   "source": [
    "''' In a NESTED LinkedList object, each node will be a simple LinkedList in itself'''\n",
    "class NestedLinkedList(LinkedList):\n",
    "    def flatten(self):\n",
    "        return self._flatten(self.head) # <-- self.head is a node for NestedLinkedList\n",
    "\n",
    "    '''  A recursive function ''' \n",
    "    def _flatten(self, node):\n",
    "        \n",
    "        # A termination condition\n",
    "        if node.next is None:\n",
    "            return merge(node.value, None) # <-- First argument is a simple LinkedList\n",
    "        \n",
    "        # _flatten() is calling itself untill a termination condition is achieved\n",
    "        return merge(node.value, self._flatten(node.next)) # <-- Both arguments are a simple LinkedList each"
   ]
  },
  {
   "cell_type": "code",
   "execution_count": 49,
   "metadata": {},
   "outputs": [
    {
     "name": "stdout",
     "output_type": "stream",
     "text": [
      "1\n",
      "2\n",
      "3\n",
      "4\n",
      "5\n"
     ]
    }
   ],
   "source": [
    "''' Test flatten() function'''\n",
    "# Create a nested linked list with one node. \n",
    "# The node itself is a simple linked list as 1-->3-->5 created previously\n",
    "nested_linked_list = NestedLinkedList(Node(linked_list))\n",
    "\n",
    "# Append a node (a linked list as 2-->4) to the existing nested linked list\n",
    "nested_linked_list.append(second_linked_list)\n",
    "\n",
    "# Call the `flatten()` function\n",
    "flattened = nested_linked_list.flatten()\n",
    "\n",
    "# Logic to print the flattened list\n",
    "node = flattened.head\n",
    "while node is not None:\n",
    "    #This will print 1 2 3 4 5\n",
    "    print(node.value)\n",
    "    node = node.next"
   ]
  },
  {
   "cell_type": "markdown",
   "metadata": {},
   "source": [
    "### Computational Complexity\n",
    "Lets start with the computational complexity of `merge`.  Merge takes in two lists.  Let's say the lengths of the lists are $N_{1}$ and $N_{2}$. Because we assume the inputs are sorted, `merge` is very efficient. It looks at the first element of each list and adds the smaller one to the returned list.  Every time through the loop we are appending one element to the list, so it will take $N_{1} + N_{2}$ iterations until we have the whole list.\n",
    "\n",
    "The complexity of `flatten` is a little more complicated to calculate.  Suppose our `NestedLinkedList` has $N$ linked lists and each list's length is represented by $M_{1}, M_{2}, ..., M_{N}$.\n",
    "\n",
    "We can represent this recursion as:\n",
    "\n",
    "$merge(M_{1}, merge(M_{2}, merge(..., merge(M_{N-1}, merge(M_{N}, None)))))$\n",
    "\n",
    "Let's start from the inside.  The inner most merge returns the $nth$ linked list.  The next merge does $M_{N-1} + M_{N}$ comparisons.  The next merge does $M_{N-2} + M_{N-1} + M_{N}$ comparisons.\n",
    "\n",
    "Eventually we will do $N$ comparisons on all of the $M_{N}$ elements. We will do $N-1$ comparisons on $M_{N-1}$ elements.\n",
    "\n",
    "This can be generalized as:\n",
    "\n",
    "$$\n",
    "\\sum_n^N n*M_{n}\n",
    "$$"
   ]
  },
  {
   "cell_type": "markdown",
   "metadata": {},
   "source": [
    "### My Solution"
   ]
  },
  {
   "cell_type": "markdown",
   "metadata": {},
   "source": [
    "n * m-long lists\n",
    "\n",
    "merge appends exactly one element per loop. So, until we have merged both lists, we run one loop for each element in each list.\n",
    "-> merge takes N1 + N2\n",
    "\n",
    "recursive merging is:\n",
    "    merge(m1, merge(m2, merge(mn, None)))\n",
    "    start with last merge: mn + (mn-1 + last) + (mn-2 + last) + (mn-3 + last) + ... + (mn-n + last)\n",
    "    we will do n comparisons on mn elements\n",
    "    we will do n-1 comparisons on mn-1 elements\n",
    "    \n",
    "Basically our time complexity will be number of linked lists in the nested linked list\n",
    "times average number of nodes (u) per linked list times 2.\n",
    "\n",
    "-> n * u * 2\n",
    "\n",
    "This equals a time complexity of O(n).\n",
    "As we assume pre-ordered linked lists: best, average and worst case are all the same!"
   ]
  }
 ],
 "metadata": {
  "kernelspec": {
   "display_name": "Python 3",
   "language": "python",
   "name": "python3"
  },
  "language_info": {
   "codemirror_mode": {
    "name": "ipython",
    "version": 3
   },
   "file_extension": ".py",
   "mimetype": "text/x-python",
   "name": "python",
   "nbconvert_exporter": "python",
   "pygments_lexer": "ipython3",
   "version": "3.6.3"
  }
 },
 "nbformat": 4,
 "nbformat_minor": 2
}
