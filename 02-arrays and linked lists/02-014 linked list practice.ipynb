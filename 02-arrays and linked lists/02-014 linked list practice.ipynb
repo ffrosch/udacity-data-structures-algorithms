{
 "cells": [
  {
   "cell_type": "markdown",
   "metadata": {
    "graffitiCellId": "id_18ngdm1"
   },
   "source": [
    "# Linked List Practice\n",
    "\n",
    "Implement a linked list class. You have to define a few functions that perform the desirbale action. Your `LinkedList` class should be able to:\n",
    "\n",
    "+ Append data to the tail of the list and prepend to the head\n",
    "+ Search the linked list for a value and return the node\n",
    "+ Remove a node\n",
    "+ Pop, which means to return the first node's value and delete the node from the list\n",
    "+ Insert data at some position in the list\n",
    "+ Return the size (length) of the linked list"
   ]
  },
  {
   "cell_type": "code",
   "execution_count": 2,
   "metadata": {
    "graffitiCellId": "id_4003gzi"
   },
   "outputs": [],
   "source": [
    "class Node:\n",
    "    def __init__(self, value):\n",
    "        self.value = value\n",
    "        self.next = None"
   ]
  },
  {
   "cell_type": "code",
   "execution_count": 3,
   "metadata": {
    "graffitiCellId": "id_hg4vhdi"
   },
   "outputs": [],
   "source": [
    "class LinkedList:\n",
    "    def __init__(self):\n",
    "        self.head = None\n",
    "\n",
    "    def to_list(self):\n",
    "        out = []\n",
    "        node = self.head\n",
    "        while node:\n",
    "            out.append(node.value)\n",
    "            node = node.next\n",
    "        return out"
   ]
  },
  {
   "cell_type": "markdown",
   "metadata": {
    "graffitiCellId": "id_rwzckgo"
   },
   "source": [
    "#### Task 1. Write definition of `prepend()` function and test its functionality"
   ]
  },
  {
   "cell_type": "code",
   "execution_count": 8,
   "metadata": {
    "graffitiCellId": "id_ufz6t2u"
   },
   "outputs": [],
   "source": [
    "# Define a function outside of the class\n",
    "def prepend(self, value):\n",
    "    \"\"\" Prepend a value to the beginning of the list. \"\"\"\n",
    "    # TODO: Write function to prepend here\n",
    "    node = Node(value)\n",
    "    node.next = self.head\n",
    "    self.head = node\n",
    "\n",
    "# This is the way to add a function to a class after it has been defined\n",
    "LinkedList.prepend = prepend"
   ]
  },
  {
   "cell_type": "code",
   "execution_count": 17,
   "metadata": {
    "graffitiCellId": "id_ren7laz"
   },
   "outputs": [],
   "source": [
    "# Test prepend\n",
    "linked_list = LinkedList()\n",
    "linked_list.prepend(1)\n",
    "assert linked_list.to_list() == [1], f\"list contents: {linked_list.to_list()}\""
   ]
  },
  {
   "cell_type": "markdown",
   "metadata": {
    "graffitiCellId": "id_u2kkys7"
   },
   "source": [
    "#### Task 2. Write definition of `append()` function and test its functionality"
   ]
  },
  {
   "cell_type": "code",
   "execution_count": 18,
   "metadata": {
    "graffitiCellId": "id_evsynnw"
   },
   "outputs": [],
   "source": [
    "def append(self, value):\n",
    "    \"\"\" Append a value to the end of the list. \"\"\"    \n",
    "    # TODO: Write function to append here    \n",
    "    if self.head is None:\n",
    "        self.head = Node(value)\n",
    "        return\n",
    "    \n",
    "    node = self.head\n",
    "    while node.next is not None:\n",
    "        node = node.next\n",
    "    node.next = Node(value)\n",
    "\n",
    "LinkedList.append = append"
   ]
  },
  {
   "cell_type": "code",
   "execution_count": 20,
   "metadata": {
    "graffitiCellId": "id_fdj50m6"
   },
   "outputs": [],
   "source": [
    "# Test append - 1\n",
    "linked_list = LinkedList()\n",
    "linked_list.prepend(1)\n",
    "linked_list.append(3)\n",
    "linked_list.prepend(2)\n",
    "assert linked_list.to_list() == [2, 1, 3], f\"list contents: {linked_list.to_list()}\""
   ]
  },
  {
   "cell_type": "code",
   "execution_count": 21,
   "metadata": {
    "graffitiCellId": "id_4v4cwvc"
   },
   "outputs": [],
   "source": [
    "# Test append - 2\n",
    "linked_list = LinkedList()\n",
    "linked_list.append(1)\n",
    "assert linked_list.to_list() == [1], f\"list contents: {linked_list.to_list()}\"\n",
    "linked_list.append(3)\n",
    "assert linked_list.to_list() == [1, 3], f\"list contents: {linked_list.to_list()}\""
   ]
  },
  {
   "cell_type": "markdown",
   "metadata": {
    "graffitiCellId": "id_wbig0nh"
   },
   "source": [
    "#### Task 3. Write definition of `search()` function and test its functionality"
   ]
  },
  {
   "cell_type": "code",
   "execution_count": 24,
   "metadata": {
    "graffitiCellId": "id_sm9jy3b"
   },
   "outputs": [],
   "source": [
    "def search(self, value):\n",
    "    \"\"\" Search the linked list for a node with the requested value and return the node. \"\"\"\n",
    "    # TODO: Write function to search here\n",
    "    node = self.head\n",
    "    while node.value != value:\n",
    "        node = node.next\n",
    "        if node is None:\n",
    "            return None\n",
    "    return node\n",
    "\n",
    "LinkedList.search = search"
   ]
  },
  {
   "cell_type": "code",
   "execution_count": 25,
   "metadata": {
    "graffitiCellId": "id_mdrnfup"
   },
   "outputs": [],
   "source": [
    "# Test search\n",
    "linked_list.prepend(2)\n",
    "linked_list.prepend(1)\n",
    "linked_list.append(4)\n",
    "linked_list.append(3)\n",
    "assert linked_list.search(1).value == 1, f\"list contents: {linked_list.to_list()}\"\n",
    "assert linked_list.search(4).value == 4, f\"list contents: {linked_list.to_list()}\""
   ]
  },
  {
   "cell_type": "markdown",
   "metadata": {
    "graffitiCellId": "id_kfw1xos"
   },
   "source": [
    "#### Task 4. Write definition of `remove()` function and test its functionality"
   ]
  },
  {
   "cell_type": "code",
   "execution_count": 41,
   "metadata": {
    "graffitiCellId": "id_dhz0iv6"
   },
   "outputs": [],
   "source": [
    "def remove(self, value):\n",
    "    \"\"\" Remove first occurrence of value. \"\"\"\n",
    "    # TODO: Write function to remove here\n",
    "    current = self.head\n",
    "    if current.value == value:\n",
    "        self.head = current.next\n",
    "        return\n",
    "    \n",
    "    previous = None    \n",
    "    while current.value != value:\n",
    "        previous = current\n",
    "        current = current.next\n",
    "        if current is None:\n",
    "            return\n",
    "        \n",
    "    previous.next = current.next\n",
    "    return\n",
    "\n",
    "LinkedList.remove = remove"
   ]
  },
  {
   "cell_type": "code",
   "execution_count": 42,
   "metadata": {
    "graffitiCellId": "id_gwjkord"
   },
   "outputs": [],
   "source": [
    "# Test remove\n",
    "linked_list = LinkedList()\n",
    "linked_list.prepend(1)\n",
    "linked_list.append(3)\n",
    "linked_list.append(4)\n",
    "linked_list.append(3)\n",
    "linked_list.prepend(2)\n",
    "linked_list.prepend(1)\n",
    "\n",
    "linked_list.remove(1)\n",
    "assert linked_list.to_list() == [2, 1, 3, 4, 3], f\"list contents: {linked_list.to_list()}\"\n",
    "linked_list.remove(3)\n",
    "assert linked_list.to_list() == [2, 1, 4, 3], f\"list contents: {linked_list.to_list()}\"\n",
    "linked_list.remove(3)\n",
    "assert linked_list.to_list() == [2, 1, 4], f\"list contents: {linked_list.to_list()}\""
   ]
  },
  {
   "cell_type": "markdown",
   "metadata": {
    "graffitiCellId": "id_etqam7a"
   },
   "source": [
    "#### Task 5. Write definition of `pop()` function and test its functionality"
   ]
  },
  {
   "cell_type": "code",
   "execution_count": 44,
   "metadata": {
    "graffitiCellId": "id_o4cpb97"
   },
   "outputs": [],
   "source": [
    "def pop(self):\n",
    "    \"\"\" Return the first node's value and remove it from the list. \"\"\"\n",
    "    # TODO: Write function to pop here\n",
    "    value = self.head.value\n",
    "    self.remove(value)\n",
    "    return value\n",
    "\n",
    "LinkedList.pop = pop"
   ]
  },
  {
   "cell_type": "code",
   "execution_count": 45,
   "metadata": {
    "graffitiCellId": "id_gqsfqpk"
   },
   "outputs": [],
   "source": [
    "# Test pop\n",
    "value = linked_list.pop()\n",
    "assert value == 2, f\"list contents: {linked_list.to_list()}\"\n",
    "assert linked_list.head.value == 1, f\"list contents: {linked_list.to_list()}\""
   ]
  },
  {
   "cell_type": "markdown",
   "metadata": {
    "graffitiCellId": "id_w424047"
   },
   "source": [
    "#### Task 6. Write definition of `insert()` function and test its functionality"
   ]
  },
  {
   "cell_type": "code",
   "execution_count": 63,
   "metadata": {
    "graffitiCellId": "id_wnzyg1h"
   },
   "outputs": [],
   "source": [
    "def insert(self, value, pos):\n",
    "    \"\"\" Insert value at pos position in the list. If pos is larger than the\n",
    "    length of the list, append to the end of the list. \"\"\"    \n",
    "    # TODO: Write function to insert here    \n",
    "    length = 0\n",
    "    previous = None\n",
    "    current = self.head\n",
    "    \n",
    "    while current is not None:\n",
    "        if pos == length:\n",
    "            \n",
    "            if previous is not None:\n",
    "                new_node = Node(value)\n",
    "                previous.next = new_node\n",
    "                new_node.next = current\n",
    "            else:\n",
    "                self.prepend(value)\n",
    "            \n",
    "            return\n",
    "        \n",
    "        previous = current\n",
    "        current = current.next\n",
    "        length += 1\n",
    "    \n",
    "    if pos >= length:\n",
    "        self.append(value)\n",
    "        return\n",
    "\n",
    "LinkedList.insert = insert"
   ]
  },
  {
   "cell_type": "code",
   "execution_count": 64,
   "metadata": {
    "graffitiCellId": "id_woo1rn3"
   },
   "outputs": [],
   "source": [
    "# Test insert \n",
    "linked_list = LinkedList()\n",
    "linked_list.prepend(1)\n",
    "linked_list.append(4)\n",
    "linked_list.insert(5, 0)\n",
    "assert linked_list.to_list() == [5, 1, 4], f\"list contents: {linked_list.to_list()}\"\n",
    "linked_list.insert(2, 1)\n",
    "assert linked_list.to_list() == [5, 2, 1, 4], f\"list contents: {linked_list.to_list()}\"\n",
    "linked_list.insert(3, 6)\n",
    "assert linked_list.to_list() == [5, 2, 1, 4, 3], f\"list contents: {linked_list.to_list()}\""
   ]
  },
  {
   "cell_type": "markdown",
   "metadata": {
    "graffitiCellId": "id_jkj2d1n"
   },
   "source": [
    "#### Task 7. Write definition of `size()` function and test its functionality"
   ]
  },
  {
   "cell_type": "code",
   "execution_count": 67,
   "metadata": {
    "graffitiCellId": "id_g3vqb80"
   },
   "outputs": [],
   "source": [
    "def size(self):\n",
    "    \"\"\" Return the size or length of the linked list. \"\"\"\n",
    "    # TODO: Write function to get size here\n",
    "    size = 0\n",
    "    node = self.head\n",
    "    \n",
    "    while node is not None:\n",
    "        node = node.next\n",
    "        size += 1\n",
    "    \n",
    "    return size\n",
    "\n",
    "LinkedList.size = size"
   ]
  },
  {
   "cell_type": "code",
   "execution_count": 68,
   "metadata": {
    "graffitiCellId": "id_08m7ryg"
   },
   "outputs": [],
   "source": [
    "# Test size function\n",
    "linked_list = LinkedList()\n",
    "assert linked_list.size() == 0, f\"list contents: {linked_list.to_list()}\"\n",
    "linked_list.prepend(1)\n",
    "linked_list.append(4)\n",
    "assert linked_list.size() == 2, f\"list contents: {linked_list.to_list()}\""
   ]
  },
  {
   "cell_type": "code",
   "execution_count": null,
   "metadata": {
    "graffitiCellId": "id_q7rr1km"
   },
   "outputs": [],
   "source": [
    "# Solution\n",
    "\n",
    "#----------------------------------------------------#\n",
    "def prepend(self, value):\n",
    "    \"\"\" Prepend a node to the beginning of the list \"\"\"\n",
    "\n",
    "    if self.head is None:\n",
    "        self.head = Node(value)\n",
    "        return\n",
    "\n",
    "    new_head = Node(value)\n",
    "    new_head.next = self.head\n",
    "    self.head = new_head\n",
    "#----------------------------------------------------#\n",
    "def append(self, value):\n",
    "    \"\"\" Append a node to the end of the list \"\"\"\n",
    "    # Here I'm not keeping track of the tail. It's possible to store the tail\n",
    "    # as well as the head, which makes appending like this an O(1) operation.\n",
    "    # Otherwise, it's an O(N) operation as you have to iterate through the\n",
    "    # entire list to add a new tail.\n",
    "\n",
    "    if self.head is None:\n",
    "        self.head = Node(value)\n",
    "        return\n",
    "\n",
    "    node = self.head\n",
    "    while node.next:\n",
    "        node = node.next\n",
    "\n",
    "    node.next = Node(value)\n",
    "#----------------------------------------------------#\n",
    "def search(self, value):\n",
    "    \"\"\" Search the linked list for a node with the requested value and return the node. \"\"\"\n",
    "    if self.head is None:\n",
    "        return None\n",
    "\n",
    "    node = self.head\n",
    "    while node:\n",
    "        if node.value == value:\n",
    "            return node\n",
    "        node = node.next\n",
    "\n",
    "    raise ValueError(\"Value not found in the list.\")\n",
    "\n",
    "#----------------------------------------------------#\n",
    "def remove(self, value):\n",
    "    \"\"\" Delete the first node with the desired data. \"\"\"\n",
    "    if self.head is None:\n",
    "        return\n",
    "\n",
    "    if self.head.value == value:\n",
    "        self.head = self.head.next\n",
    "        return\n",
    "\n",
    "    node = self.head\n",
    "    while node.next:\n",
    "        if node.next.value == value:\n",
    "            node.next = node.next.next\n",
    "            return\n",
    "        node = node.next\n",
    "\n",
    "    raise ValueError(\"Value not found in the list.\")\n",
    "\n",
    "#----------------------------------------------------#\n",
    "def pop(self):\n",
    "    \"\"\" Return the first node's value and remove it from the list. \"\"\"\n",
    "    if self.head is None:\n",
    "        return None\n",
    "\n",
    "    node = self.head\n",
    "    self.head = self.head.next\n",
    "\n",
    "    return node.value\n",
    "#----------------------------------------------------#\n",
    "def insert(self, value, pos):\n",
    "    \"\"\" Insert value at pos position in the list. If pos is larger than the\n",
    "        length of the list, append to the end of the list. \"\"\"\n",
    "    # If the list is empty \n",
    "    if self.head is None:\n",
    "        self.head = Node(value)\n",
    "        return\n",
    "        \n",
    "    if pos == 0:\n",
    "        self.prepend(value)\n",
    "        return\n",
    "\n",
    "    index = 0\n",
    "    node = self.head\n",
    "    while node.next and index <= pos:\n",
    "        if (pos - 1) == index:\n",
    "            new_node = Node(value)\n",
    "            new_node.next = node.next\n",
    "            node.next = new_node\n",
    "            return\n",
    "\n",
    "        index += 1\n",
    "        node = node.next\n",
    "    else:\n",
    "        self.append(value)\n",
    "        \n",
    "#----------------------------------------------------#\n",
    "\n",
    "def size(self):\n",
    "    \"\"\" Return the size or length of the linked list. \"\"\"\n",
    "    size = 0\n",
    "    node = self.head\n",
    "    while node:\n",
    "        size += 1\n",
    "        node = node.next\n",
    "\n",
    "    return size\n",
    "#----------------------------------------------------#\n",
    "\n",
    "def to_list(self):\n",
    "    out = []\n",
    "    node = self.head\n",
    "    while node:\n",
    "        out.append(node.value)\n",
    "        node = node.next\n",
    "    return out\n",
    "\n"
   ]
  },
  {
   "cell_type": "markdown",
   "metadata": {
    "graffitiCellId": "id_1vt6pt0"
   },
   "source": [
    "<span class=\"graffiti-highlight graffiti-id_1vt6pt0-id_q7rr1km\"><i></i><button>Show Solution</button></span>"
   ]
  }
 ],
 "metadata": {
  "graffiti": {
   "firstAuthorId": "10694620118",
   "id": "id_9v48ov8",
   "language": "EN"
  },
  "kernelspec": {
   "display_name": "Python 3",
   "language": "python",
   "name": "python3"
  },
  "language_info": {
   "codemirror_mode": {
    "name": "ipython",
    "version": 3
   },
   "file_extension": ".py",
   "mimetype": "text/x-python",
   "name": "python",
   "nbconvert_exporter": "python",
   "pygments_lexer": "ipython3",
   "version": "3.6.3"
  }
 },
 "nbformat": 4,
 "nbformat_minor": 2
}
