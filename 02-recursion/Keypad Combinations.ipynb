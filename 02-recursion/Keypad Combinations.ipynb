{
 "cells": [
  {
   "cell_type": "markdown",
   "metadata": {
    "graffitiCellId": "id_twe5ety"
   },
   "source": [
    "## Keypad Combinations\n",
    "\n",
    "A keypad on a cellphone has alphabets for all numbers between 2 and 9, as shown in the figure below:\n",
    "\n",
    "<img style=\"float: center;height:200px;\" src=\"Keypad.png\"><br>\n",
    "\n",
    "You can make different combinations of alphabets by pressing the numbers.\n",
    "\n",
    "For example, if you press 23, the following combinations are possible:\n",
    "\n",
    "`ad, ae, af, bd, be, bf, cd, ce, cf`\n",
    "\n",
    "Note that because 2 is pressed before 3, the first letter is always an alphabet on the number 2.\n",
    "Likewise, if the user types 32, the order would be\n",
    "\n",
    "`da, db, dc, ea, eb, ec, fa, fb, fc`\n",
    "\n",
    "\n",
    "Given an integer `num`, find out all the possible strings that can be made using digits of input `num`. \n",
    "Return these strings in a list. The order of strings in the list does not matter. However, as stated earlier, the order of letters in a particular string matters."
   ]
  },
  {
   "cell_type": "code",
   "execution_count": 47,
   "metadata": {
    "graffitiCellId": "id_ffyjq5w"
   },
   "outputs": [],
   "source": [
    "def get_characters(num):\n",
    "    if num == 2:\n",
    "        return \"abc\"\n",
    "    elif num == 3:\n",
    "        return \"def\"\n",
    "    elif num == 4:\n",
    "        return \"ghi\"\n",
    "    elif num == 5:\n",
    "        return \"jkl\"\n",
    "    elif num == 6:\n",
    "        return \"mno\"\n",
    "    elif num == 7:\n",
    "        return \"pqrs\"\n",
    "    elif num == 8:\n",
    "        return \"tuv\"\n",
    "    elif num == 9:\n",
    "        return \"wxyz\"\n",
    "    else:\n",
    "        return \"\"\n",
    "\n",
    "\n",
    "def keypad(num):\n",
    "    \n",
    "    # Base/Termination Condition\n",
    "    # list('') would return []\n",
    "    # thus: manually return the wanted result\n",
    "    if num <= 1:\n",
    "        return ['']\n",
    "    \n",
    "    last_digit = num % 10 # get last digit, e.g. 345 % 10 = 5\n",
    "    remaining_digits = num // 10 # floor division, e.g. 345 // 10 = 34\n",
    "    \n",
    "    remaining_permutations = keypad(remaining_digits) # 1 -> ['']; 2 -> ['a', 'b', 'c']; etc...\n",
    "    \n",
    "    output = []\n",
    "    current_string = get_characters(last_digit) # e.g. 'abc'\n",
    "    for char in current_string:\n",
    "        for item in remaining_permutations:\n",
    "            output.append(item + char)\n",
    "    \n",
    "    return output"
   ]
  },
  {
   "cell_type": "markdown",
   "metadata": {
    "graffitiCellId": "id_9ibtd5w"
   },
   "source": [
    "<span class=\"graffiti-highlight graffiti-id_9ibtd5w-id_haj1ksk\"><i></i><button>Show Solution</button></span>"
   ]
  },
  {
   "cell_type": "code",
   "execution_count": 39,
   "metadata": {
    "graffitiCellId": "id_l66zrar"
   },
   "outputs": [],
   "source": [
    "def test_keypad(input, expected_output):\n",
    "    if sorted(keypad(input)) == expected_output:\n",
    "        print(\"Yay. We got it right.\")\n",
    "    else:\n",
    "        print(\"Oops! That was incorrect.\")"
   ]
  },
  {
   "cell_type": "code",
   "execution_count": 48,
   "metadata": {
    "graffitiCellId": "id_vnyax73"
   },
   "outputs": [
    {
     "name": "stdout",
     "output_type": "stream",
     "text": [
      "Yay. We got it right.\n"
     ]
    }
   ],
   "source": [
    "# Base case: list with empty string\n",
    "input = 0\n",
    "expected_output = [\"\"]\n",
    "test_keypad(input, expected_output)"
   ]
  },
  {
   "cell_type": "code",
   "execution_count": 49,
   "metadata": {
    "graffitiCellId": "id_458su6i"
   },
   "outputs": [
    {
     "name": "stdout",
     "output_type": "stream",
     "text": [
      "Yay. We got it right.\n"
     ]
    }
   ],
   "source": [
    "# Example case\n",
    "input = 23\n",
    "expected_output = sorted([\"ad\", \"ae\", \"af\", \"bd\", \"be\", \"bf\", \"cd\", \"ce\", \"cf\"])\n",
    "test_keypad(input, expected_output)"
   ]
  },
  {
   "cell_type": "code",
   "execution_count": 50,
   "metadata": {
    "graffitiCellId": "id_j04lazf"
   },
   "outputs": [
    {
     "name": "stdout",
     "output_type": "stream",
     "text": [
      "Yay. We got it right.\n"
     ]
    }
   ],
   "source": [
    "# Example case\n",
    "input = 32\n",
    "expected_output = sorted([\"da\", \"db\", \"dc\", \"ea\", \"eb\", \"ec\", \"fa\", \"fb\", \"fc\"])\n",
    "test_keypad(input, expected_output)"
   ]
  },
  {
   "cell_type": "code",
   "execution_count": 51,
   "metadata": {
    "graffitiCellId": "id_4ziwk7w"
   },
   "outputs": [
    {
     "name": "stdout",
     "output_type": "stream",
     "text": [
      "Yay. We got it right.\n"
     ]
    }
   ],
   "source": [
    "# Example case\n",
    "input = 8\n",
    "expected_output = sorted([\"t\", \"u\", \"v\"])\n",
    "test_keypad(input, expected_output)"
   ]
  },
  {
   "cell_type": "code",
   "execution_count": 52,
   "metadata": {
    "graffitiCellId": "id_u7fe0h1"
   },
   "outputs": [
    {
     "name": "stdout",
     "output_type": "stream",
     "text": [
      "Yay. We got it right.\n"
     ]
    }
   ],
   "source": [
    "input = 354\n",
    "expected_output = sorted([\"djg\", \"ejg\", \"fjg\", \"dkg\", \"ekg\", \"fkg\", \"dlg\", \"elg\", \"flg\", \"djh\", \"ejh\", \"fjh\", \"dkh\", \"ekh\", \"fkh\", \"dlh\", \"elh\", \"flh\", \"dji\", \"eji\", \"fji\", \"dki\", \"eki\", \"fki\", \"dli\", \"eli\", \"fli\"])\n",
    "test_keypad(input, expected_output)"
   ]
  },
  {
   "cell_type": "code",
   "execution_count": null,
   "metadata": {
    "graffitiCellId": "id_dakdnfb"
   },
   "outputs": [],
   "source": []
  }
 ],
 "metadata": {
  "graffiti": {
   "firstAuthorId": "10694620118",
   "id": "id_c01kx0l",
   "language": "EN"
  },
  "kernelspec": {
   "display_name": "Python 3",
   "language": "python",
   "name": "python3"
  },
  "language_info": {
   "codemirror_mode": {
    "name": "ipython",
    "version": 3
   },
   "file_extension": ".py",
   "mimetype": "text/x-python",
   "name": "python",
   "nbconvert_exporter": "python",
   "pygments_lexer": "ipython3",
   "version": "3.6.3"
  }
 },
 "nbformat": 4,
 "nbformat_minor": 2
}
