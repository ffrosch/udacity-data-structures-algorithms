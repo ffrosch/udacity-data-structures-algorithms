{
 "cells": [
  {
   "cell_type": "markdown",
   "metadata": {
    "graffitiCellId": "id_wzbr23x"
   },
   "source": [
    "### Problem Statement\n",
    "\n",
    "The Tower of Hanoi is a puzzle where we have three rods and `n` unique sized disks. The three rods are - source, destination, and auxiliary as shown in the figure below.\n",
    "<br><img style=\"float: center;\" src=\"TOH.png\"><br>\n",
    "Initally, all the `n` disks are present on the source rod. The final objective of the puzzle is to move all disks from the source rod to the destination rod using the auxiliary rod.<br><br> \n",
    "**However, there are some rules applicable to all rods:**\n",
    "    1. Only one disk can be moved at a time.\n",
    "    2. A disk can be moved only if it is on the top of a rod.\n",
    "    3. No disk can be placed on the top of a smaller disk.\n",
    "    \n",
    "You will be given the number of disks `num_disks` as the input parameter. Write a **recursive function** `tower_of_Hanoi()` that prints the \"move\" steps in order to move `num_disks` number of disks from Source to Destination using the help of Auxiliary rod.\n",
    "\n",
    "---\n",
    "### Example Illustration\n",
    "For example, if you have `num_disks = 3`, then the disks should be moved as follows:\n",
    "    \n",
    "        1. move disk from source to destination\n",
    "        2. move disk from source to auxiliary\n",
    "        3. move disk from destination to auxiliary\n",
    "        4. move disk from source to destination\n",
    "        5. move disk from auxiliary to source\n",
    "        6. move disk from auxiliary to destination\n",
    "        7. move disk from source to destination\n",
    "        \n",
    "You must print these steps as follows:    \n",
    "\n",
    "                S D\n",
    "                S A\n",
    "                D A\n",
    "                S D\n",
    "                A S\n",
    "                A D\n",
    "                S D\n",
    "        \n",
    "Where S = source, D = destination, A = auxiliary <br><br>\n",
    "An example illustration for `num_disks = 4` can be visualized in this [GIF from wikipedia](https://en.wikipedia.org/wiki/Tower_of_Hanoi#/media/File:Tower_of_Hanoi_4.gif)\n",
    "\n",
    "---\n",
    "\n",
    "### The Idea\n",
    "Assume you are writing a function that accepts the following arguments:\n",
    "        1. arg1 - number of disks\n",
    "        2. arg2 - rod A - this rod acts as the source (at the time of calling the function)\n",
    "        2. arg3 - rod B - this rod acts as the auxiliary\n",
    "        2. arg4 - rod C - this rod acts as the destination\n",
    "        \n",
    "Follow the steps below:\n",
    "1. Given the `num_disks` disks on the source, along with auxiliary and destination rods<br><br>\n",
    "2. Check if `num_disks == 1`. This must be the termination condition, therefore use recursion to reach at this moment. \n",
    " - If yes, move disk from source to destination. (Termination condition)<br><br>\n",
    "3. For `num_disks > 1`, just think of your FIRST set of steps. You want to pick the bottom most disk on the source, to be transferred to the destination. For this reason, you will will perform the steps below:\n",
    " - Step 1: Move `num_disks - 1` from source to auxiliary<br><br>\n",
    " - Step 2: Now you are left with only the largest disk at source. Move the only leftover disk from source to destination<br><br>\n",
    " - Step 3: You had `num_disks - 1` disks available on the auxiliary, as a result of Step 1. Move `num_disks - 1` from auxiliary to destination\n",
    "\n",
    "---\n",
    "### Exercise - Write the function definition here"
   ]
  },
  {
   "cell_type": "code",
   "execution_count": 4,
   "metadata": {
    "graffitiCellId": "id_8tcr5o8"
   },
   "outputs": [],
   "source": [
    "def tower_of_Hanoi(num_disks):\n",
    "    \"\"\"\n",
    "    :param: num_disks - number of disks\n",
    "    TODO: print the steps required to move all disks from source to destination\n",
    "    \"\"\"\n",
    "    pass"
   ]
  },
  {
   "cell_type": "markdown",
   "metadata": {
    "graffitiCellId": "id_rh9jy5w"
   },
   "source": [
    "<span class=\"graffiti-highlight graffiti-id_rh9jy5w-id_aaedpt9\"><i></i><button>Hide Solution</button></span>"
   ]
  },
  {
   "cell_type": "code",
   "execution_count": null,
   "metadata": {
    "graffitiCellId": "id_aaedpt9"
   },
   "outputs": [],
   "source": [
    "# Solution\n",
    "def tower_of_Hanoi_soln(num_disks, source, auxiliary, destination):\n",
    "    \n",
    "    if num_disks == 0:\n",
    "        return\n",
    "    \n",
    "    if num_disks == 1:\n",
    "        print(\"{} {}\".format(source, destination))\n",
    "        return\n",
    "    \n",
    "    tower_of_Hanoi_soln(num_disks - 1, source, destination, auxiliary)\n",
    "    print(\"{} {}\".format(source, destination))\n",
    "    tower_of_Hanoi_soln(num_disks - 1, auxiliary, source, destination)\n",
    "    \n",
    "def tower_of_Hanoi(num_disks):\n",
    "    tower_of_Hanoi_soln(num_disks, 'S', 'A', 'D')"
   ]
  },
  {
   "cell_type": "markdown",
   "metadata": {
    "graffitiCellId": "id_6dm5twe"
   },
   "source": [
    "#### Compare your results with the following test cases\n",
    "* num_disks = 2\n",
    "\n",
    "        solution \n",
    "                S A\n",
    "                S D\n",
    "                A D\n",
    "                \n",
    "* num_disks = 3\n",
    "\n",
    "        solution \n",
    "                S D\n",
    "                S A\n",
    "                D A\n",
    "                S D\n",
    "                A S\n",
    "                A D\n",
    "                S D\n",
    "\n",
    "* num_disks = 4\n",
    "    \n",
    "        solution\n",
    "                S A\n",
    "                S D\n",
    "                A D\n",
    "                S A\n",
    "                D S\n",
    "                D A\n",
    "                S A\n",
    "                S D\n",
    "                A D\n",
    "                A S\n",
    "                D S\n",
    "                A D\n",
    "                S A\n",
    "                S D\n",
    "                A D"
   ]
  },
  {
   "cell_type": "code",
   "execution_count": null,
   "metadata": {
    "graffitiCellId": "id_zia79bz"
   },
   "outputs": [],
   "source": []
  }
 ],
 "metadata": {
  "graffiti": {
   "firstAuthorId": "dev",
   "id": "id_at34t9a",
   "language": "EN"
  },
  "kernelspec": {
   "display_name": "Python 3",
   "language": "python",
   "name": "python3"
  },
  "language_info": {
   "codemirror_mode": {
    "name": "ipython",
    "version": 3
   },
   "file_extension": ".py",
   "mimetype": "text/x-python",
   "name": "python",
   "nbconvert_exporter": "python",
   "pygments_lexer": "ipython3",
   "version": "3.6.3"
  }
 },
 "nbformat": 4,
 "nbformat_minor": 2
}
