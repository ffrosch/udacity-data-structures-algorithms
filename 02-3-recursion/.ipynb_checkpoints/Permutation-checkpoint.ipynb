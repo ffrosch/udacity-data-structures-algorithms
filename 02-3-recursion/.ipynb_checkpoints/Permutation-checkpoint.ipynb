{
 "cells": [
  {
   "cell_type": "markdown",
   "metadata": {
    "graffitiCellId": "id_op9zwiy"
   },
   "source": [
    "# Permutation"
   ]
  },
  {
   "cell_type": "markdown",
   "metadata": {
    "graffitiCellId": "id_h4gumy5"
   },
   "source": [
    "\n",
    "**Question** - Let's use recursion to help us solve the following permutation problem:\n",
    "\n",
    "Given a list of items, the goal is to find all of the permutations of that list. For example,<br>\n",
    "Given a list like: `[0, 1, 2]` <br>\n",
    "Permutations: `[[0, 1, 2], [0, 2, 1], [1, 0, 2], [1, 2, 0], [2, 0, 1], [2, 1, 0]]` <br><br>\n",
    "Notice that the expected output is a list of permutation with each permuted item being represented by a list. Such an object that contains other object is called \"compound\" object. <br>\n",
    "\n",
    "**The Idea**<br>\n",
    "Build a compoundList incrementally starting with a blank list, and permute (add) each element of original input list at all possible positions. <br><br>\n",
    "\n",
    "For example, take `[0, 1, 2]` as the original input list:<br>\n",
    "\n",
    "1. Start with a blank compoundList `[[]]`. This is actually the last call of recursive function stack. Pick the element `2` of original input list, making the compoundList as `[[2]]`<br><br>\n",
    "\n",
    "2. Pick next element `1` of original input list, and add this element at position 0, and 1 for each list of previous compoundList. **We will require to create copy of all lists of previous compoundList, and add the new element.** Now, the compoundList will become `[[1, 2], [2, 1]]`.<br><br>\n",
    "\n",
    "3. Pick next element `0` of original input list, and add this element at position 0, 1, and 2 for each list of previous compoundList. Now, the compoundList will become `[[0, 1, 2], [1, 0, 2], [1, 2, 0], [0, 2, 1], [2, 0, 1], [2, 1, 0]]` .<br><br>\n"
   ]
  },
  {
   "cell_type": "markdown",
   "metadata": {
    "graffitiCellId": "id_vjjnt65"
   },
   "source": [
    "\n",
    "**Additional Resource**<br>\n",
    "While dealing with a \"compound\" object, a simple copy operation might not work as expected. You would need a function that can create a deep copy. For this purpose, you can make use of `deepcopy()` function from the `copy` module in Python. This module provides the function for normal (Shallow) and deep copy operations. Refer here - https://docs.python.org/3/library/copy.html for syntax and detailed information, that says:  <br>\n",
    "<br>\n",
    ">**Difference between Deep and Shallow Copy**<br>\n",
    "The difference between shallow and deep copying is only relevant for compound objects (objects that contain other objects, like lists or class instances):\n",
    " - A shallow copy constructs a new compound object and then inserts references into it to the objects found in the original.\n",
    " - A deep copy constructs a new compound object and then, recursively, inserts copies into it of the objects found in the original.\n",
    " \n",
    "**Example Illustration of deep copy, shallow copy, and assignment operator**<br>"
   ]
  },
  {
   "cell_type": "code",
   "execution_count": null,
   "metadata": {
    "graffitiCellId": "id_97foipq"
   },
   "outputs": [],
   "source": [
    "import copy                                           # `copy` module\n",
    "\n",
    "list1 = [0, 1, 2]\n",
    "list2 = [7, 8, 9]                                     \n",
    "compoundList1 = [list1, list2]                        # create a compound object\n",
    "\n",
    "\n",
    "'''ASSIGNMENT OPERATION - Points a new reference to the existing object.'''\n",
    "compoundList2 = compoundList1\n",
    "\n",
    "# id() - returns the identity of the object passed\n",
    "print(id(compoundList1) == id(compoundList2))          # True - compoundList2 is the same object as compoundList1\n",
    "print(id(compoundList1[0]) == id(compoundList2[0]))    # True - compoundList2[0] is the same object as compoundList1[0]\n",
    "\n",
    "\n",
    "'''SHALLOW COPY'''\n",
    "compoundList2 = copy.copy(compoundList1)\n",
    "\n",
    "print(id(compoundList1) == id(compoundList2))          # False - compoundList2 is now a new object\n",
    "print(id(compoundList1[0]) == id(compoundList2[0]))    # True - compoundList2[0] is the same object as compoundList1[0]\n",
    "\n",
    "\n",
    "'''DEEP COPY'''\n",
    "compoundList2 = copy.deepcopy(compoundList1)\n",
    "\n",
    "print(id(compoundList1) == id(compoundList2))          # False - compoundList2 is now a new object\n",
    "print(id(compoundList1[0]) == id(compoundList2[0]))    # False - compoundList2[0] is now a new object"
   ]
  },
  {
   "cell_type": "markdown",
   "metadata": {
    "graffitiCellId": "id_bnz6211"
   },
   "source": [
    "---\n",
    "### Exercise - Write the function definition here"
   ]
  },
  {
   "cell_type": "code",
   "execution_count": 13,
   "metadata": {
    "graffitiCellId": "id_45biddl"
   },
   "outputs": [],
   "source": [
    "# Code\n",
    "\n",
    "import copy\n",
    "\n",
    "def permute(inputList):\n",
    "    \"\"\"\n",
    "    Args: myList: list of items to be permuted\n",
    "    Returns: list of permutation with each permuted item being represented by a list\n",
    "    \"\"\"\n",
    "    final_list = []\n",
    "    \n",
    "    # Base/Termination Condition\n",
    "    if len(inputList) == 0:\n",
    "        final_list.append([])\n",
    "        return final_list\n",
    "    \n",
    "    # Shorten list by one value for permutation in this instance\n",
    "    current_value = inputList[0]\n",
    "    rest = inputList[1:]\n",
    "    \n",
    "    # keep permutating the remaining list in other instances\n",
    "    permuted_sublist = permute(rest)\n",
    "    \n",
    "    # make the permutation for the current value\n",
    "    for lst in permuted_sublist:\n",
    "        # make len(lst) + 1 copys of the list\n",
    "        # each with the permuted value at another position\n",
    "        # e.g. [0, 1] + 2-> [0, 1, 2], [0, 2, 1] -> [2, 0, 1]\n",
    "        for i in range(len(lst) + 1):\n",
    "            lst_copy = copy.deepcopy(lst) # use deepcopy, otherwise the original list will be manipulated\n",
    "            lst_copy.insert(i, current_value)\n",
    "            final_list.append(lst_copy)\n",
    "\n",
    "    return final_list"
   ]
  },
  {
   "cell_type": "markdown",
   "metadata": {
    "graffitiCellId": "id_nb2cges"
   },
   "source": [
    "### Test - Let's test your function"
   ]
  },
  {
   "cell_type": "code",
   "execution_count": 14,
   "metadata": {
    "graffitiCellId": "id_9kv3248"
   },
   "outputs": [
    {
     "name": "stdout",
     "output_type": "stream",
     "text": [
      "Pass\n",
      "Pass\n",
      "Pass\n",
      "Pass\n"
     ]
    }
   ],
   "source": [
    "# Test Cases \n",
    "\n",
    "# Helper Function\n",
    "def check_output(output, expected_output):\n",
    "    \"\"\"\n",
    "    Return True if output and expected_output\n",
    "    contains the same lists, False otherwise.\n",
    "    \n",
    "    Note that the ordering of the list is not important.\n",
    "    \n",
    "    Examples:\n",
    "        check_output([ [0, 1], [1, 0] ] ], [ [1, 0], [0, 1] ]) returns True\n",
    "\n",
    "    Args:\n",
    "        output(list): list of list\n",
    "        expected_output(list): list of list\n",
    "    \n",
    "    Returns:\n",
    "        bool\n",
    "    \"\"\"\n",
    "    o = copy.deepcopy(output)  # so that we don't mutate input\n",
    "    e = copy.deepcopy(expected_output)  # so that we don't mutate input\n",
    "    \n",
    "    o.sort()\n",
    "    e.sort()\n",
    "    return o == e\n",
    "\n",
    "print (\"Pass\" if  (check_output(permute([]), [[]])) else \"Fail\")\n",
    "print (\"Pass\" if  (check_output(permute([0]), [[0]])) else \"Fail\")\n",
    "print (\"Pass\" if  (check_output(permute([0, 1]), [[0, 1], [1, 0]])) else \"Fail\")\n",
    "print (\"Pass\" if  (check_output(permute([0, 1, 2]), [[0, 1, 2], [0, 2, 1], [1, 0, 2], [1, 2, 0], [2, 0, 1], [2, 1, 0]])) else \"Fail\")"
   ]
  },
  {
   "cell_type": "code",
   "execution_count": 7,
   "metadata": {
    "graffitiCellId": "id_al2wv3g"
   },
   "outputs": [],
   "source": [
    "\n",
    "# Recursive Solution \n",
    "\"\"\"\n",
    "Args: myList: list of items to be permuted\n",
    "Returns: compound list: list of permutation with each permuted item being represented by a list\n",
    "\"\"\"\n",
    "import copy                                # We will use `deepcopy()` function from the `copy` module\n",
    "\n",
    "def permute(inputList):\n",
    "    \n",
    "    # a compound list\n",
    "    finalCompoundList = []                  # compoundList to be returned \n",
    "    \n",
    "    # Terminaiton / Base condition\n",
    "    if len(inputList) == 0:\n",
    "        finalCompoundList.append([])\n",
    "        \n",
    "    else:\n",
    "        first_element = inputList[0]        # Pick one element to be permuted\n",
    "        after_first = slice(1, None)        # `after_first` is an object of type 'slice' class\n",
    "        rest_list = inputList[after_first]  # convert the `slice` object into a list\n",
    "        \n",
    "        # Recursive function call\n",
    "        sub_compoundList = permute(rest_list)\n",
    "        \n",
    "        # Iterate through all lists of the compoundList returned from previous call\n",
    "        for aList in sub_compoundList:\n",
    "            \n",
    "            # Permuted the `first_element` at all positions 0, 1, 2 ... len(aList) in each iteration\n",
    "            for j in range(0, len(aList) + 1): \n",
    "                \n",
    "                # A normal copy/assignment will change aList[j] element\n",
    "                bList = copy.deepcopy(aList)  \n",
    "                \n",
    "                # A new list with size +1 as compared to aList\n",
    "                # is created by inserting the `first_element` at position j in bList\n",
    "                bList.insert(j, first_element)\n",
    "                \n",
    "                # Append the newly created list to the finalCompoundList\n",
    "                finalCompoundList.append(bList)\n",
    "                \n",
    "    return finalCompoundList"
   ]
  },
  {
   "cell_type": "markdown",
   "metadata": {
    "graffitiCellId": "id_7mkz7sx"
   },
   "source": [
    "<span class=\"graffiti-highlight graffiti-id_7mkz7sx-id_al2wv3g\"><i></i><button>Show Solution</button></span>"
   ]
  }
 ],
 "metadata": {
  "graffiti": {
   "firstAuthorId": "10694620118",
   "id": "id_gm7n621",
   "language": "EN"
  },
  "kernelspec": {
   "display_name": "Python 3",
   "language": "python",
   "name": "python3"
  },
  "language_info": {
   "codemirror_mode": {
    "name": "ipython",
    "version": 3
   },
   "file_extension": ".py",
   "mimetype": "text/x-python",
   "name": "python",
   "nbconvert_exporter": "python",
   "pygments_lexer": "ipython3",
   "version": "3.6.3"
  }
 },
 "nbformat": 4,
 "nbformat_minor": 2
}
