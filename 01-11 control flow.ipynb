{
 "metadata": {
  "language_info": {
   "codemirror_mode": {
    "name": "ipython",
    "version": 3
   },
   "file_extension": ".py",
   "mimetype": "text/x-python",
   "name": "python",
   "nbconvert_exporter": "python",
   "pygments_lexer": "ipython3",
   "version": "3.8.5"
  },
  "orig_nbformat": 4,
  "kernelspec": {
   "name": "python3",
   "display_name": "Python 3.8.5 64-bit"
  },
  "interpreter": {
   "hash": "31f2aee4e71d21fbe5cf8b01ff0e069b9275f58929596ceb00d14d90e3e16cd6"
  }
 },
 "nbformat": 4,
 "nbformat_minor": 2,
 "cells": [
  {
   "source": [
    "# Quiz: Break the String\n",
    "\n",
    "Write a loop with a break statement to create a string, news_ticker, that is exactly 140 characters long. You should create the news ticker by adding headlines from the headlines list, inserting a space in between each headline. If necessary, truncate the last headline in the middle so that news_ticker is exactly 140 characters long.\n",
    "\n",
    "Remember that break works in both for and while loops. Use whichever loop seems most appropriate. Consider adding print statements to your code to help you resolve bugs."
   ],
   "cell_type": "markdown",
   "metadata": {}
  },
  {
   "cell_type": "code",
   "execution_count": 1,
   "metadata": {},
   "outputs": [
    {
     "output_type": "stream",
     "name": "stdout",
     "text": [
      "140 Local Bear Eaten by Man Legislature Announces New Laws Peasant Discovers Violence Inherent in System Cat Rescues Fireman Stuck in Tree Brave\n"
     ]
    }
   ],
   "source": [
    "# HINT: modify the headlines list to verify your loop works with different inputs\n",
    "headlines = [\"Local Bear Eaten by Man\",\n",
    "             \"Legislature Announces New Laws\",\n",
    "             \"Peasant Discovers Violence Inherent in System\",\n",
    "             \"Cat Rescues Fireman Stuck in Tree\",\n",
    "             \"Brave Knight Runs Away\",\n",
    "             \"Papperbok Review: Totally Triffic\"]\n",
    "\n",
    "news_ticker = \"\"\n",
    "\n",
    "for headline in headlines:\n",
    "    # Solution 3\n",
    "    news_ticker += headline + ' '\n",
    "    if len(news_ticker) > 140:\n",
    "        news_ticker = news_ticker[:140]\n",
    "        break\n",
    "\n",
    "    # # Solution 2\n",
    "    # headline += ' '\n",
    "\n",
    "    # for character in headline:\n",
    "    #     if len(news_ticker) >= 140:\n",
    "    #         break\n",
    "    #     news_ticker += character\n",
    "        \n",
    "    # # Solution 1\n",
    "    # i = 0\n",
    "    # len_headline = len(headline)\n",
    "\n",
    "    # while (len(news_ticker) < 140) and (i < len_headline):\n",
    "    #     news_ticker += headline[i]\n",
    "    #     i += 1\n",
    "\n",
    "print(len(news_ticker), news_ticker)"
   ]
  },
  {
   "source": [
    "# Quiz: Check for Prime Numbers"
   ],
   "cell_type": "markdown",
   "metadata": {}
  },
  {
   "cell_type": "code",
   "execution_count": 2,
   "metadata": {},
   "outputs": [
    {
     "output_type": "stream",
     "name": "stdout",
     "text": [
      "26 is NOT a prime number, because 2 is a factor of 26\n39 is NOT a prime number, because 3 is a factor of 39\n51 is NOT a prime number, because 3 is a factor of 51\n53 IS a prime number\n57 is NOT a prime number, because 3 is a factor of 57\n79 IS a prime number\n85 is NOT a prime number, because 5 is a factor of 85\n"
     ]
    }
   ],
   "source": [
    "## Your code should check if each number in the list is a prime number\n",
    "check_prime = [26, 39, 51, 53, 57, 79, 85]\n",
    "\n",
    "## write your code here\n",
    "## HINT: You can use the modulo operator to find a factor\n",
    "\n",
    "## Note: I should find the easiest mechanical solution first!\n",
    "\n",
    "for num in check_prime:\n",
    "\n",
    "    for i in range(2, num):\n",
    "\n",
    "        if num % i == 0:\n",
    "            print(\"{} is NOT a prime number, because {} is a factor of {}\".format(num, i, num))\n",
    "            break\n",
    "        \n",
    "        if i == (num - 1):\n",
    "            print(\"{} IS a prime number\".format(num))"
   ]
  }
 ]
}