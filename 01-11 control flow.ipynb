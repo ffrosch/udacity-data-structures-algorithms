{
 "metadata": {
  "language_info": {
   "codemirror_mode": {
    "name": "ipython",
    "version": 3
   },
   "file_extension": ".py",
   "mimetype": "text/x-python",
   "name": "python",
   "nbconvert_exporter": "python",
   "pygments_lexer": "ipython3",
   "version": "3.8.5"
  },
  "orig_nbformat": 4,
  "kernelspec": {
   "name": "python3",
   "display_name": "Python 3.8.5 64-bit"
  },
  "interpreter": {
   "hash": "31f2aee4e71d21fbe5cf8b01ff0e069b9275f58929596ceb00d14d90e3e16cd6"
  }
 },
 "nbformat": 4,
 "nbformat_minor": 2,
 "cells": [
  {
   "source": [
    "# Quiz: Break the String\n",
    "\n",
    "Write a loop with a break statement to create a string, news_ticker, that is exactly 140 characters long. You should create the news ticker by adding headlines from the headlines list, inserting a space in between each headline. If necessary, truncate the last headline in the middle so that news_ticker is exactly 140 characters long.\n",
    "\n",
    "Remember that break works in both for and while loops. Use whichever loop seems most appropriate. Consider adding print statements to your code to help you resolve bugs."
   ],
   "cell_type": "markdown",
   "metadata": {}
  },
  {
   "cell_type": "code",
   "execution_count": 1,
   "metadata": {},
   "outputs": [
    {
     "output_type": "stream",
     "name": "stdout",
     "text": [
      "140 Local Bear Eaten by Man Legislature Announces New Laws Peasant Discovers Violence Inherent in System Cat Rescues Fireman Stuck in Tree Brave\n"
     ]
    }
   ],
   "source": [
    "# HINT: modify the headlines list to verify your loop works with different inputs\n",
    "headlines = [\"Local Bear Eaten by Man\",\n",
    "             \"Legislature Announces New Laws\",\n",
    "             \"Peasant Discovers Violence Inherent in System\",\n",
    "             \"Cat Rescues Fireman Stuck in Tree\",\n",
    "             \"Brave Knight Runs Away\",\n",
    "             \"Papperbok Review: Totally Triffic\"]\n",
    "\n",
    "news_ticker = \"\"\n",
    "\n",
    "for headline in headlines:\n",
    "    # Solution 3\n",
    "    news_ticker += headline + ' '\n",
    "    if len(news_ticker) > 140:\n",
    "        news_ticker = news_ticker[:140]\n",
    "        break\n",
    "\n",
    "    # # Solution 2\n",
    "    # headline += ' '\n",
    "\n",
    "    # for character in headline:\n",
    "    #     if len(news_ticker) >= 140:\n",
    "    #         break\n",
    "    #     news_ticker += character\n",
    "        \n",
    "    # # Solution 1\n",
    "    # i = 0\n",
    "    # len_headline = len(headline)\n",
    "\n",
    "    # while (len(news_ticker) < 140) and (i < len_headline):\n",
    "    #     news_ticker += headline[i]\n",
    "    #     i += 1\n",
    "\n",
    "print(len(news_ticker), news_ticker)"
   ]
  },
  {
   "source": [
    "# Quiz: Check for Prime Numbers"
   ],
   "cell_type": "markdown",
   "metadata": {}
  },
  {
   "cell_type": "code",
   "execution_count": 2,
   "metadata": {},
   "outputs": [
    {
     "output_type": "stream",
     "name": "stdout",
     "text": [
      "26 is NOT a prime number, because 2 is a factor of 26\n39 is NOT a prime number, because 3 is a factor of 39\n51 is NOT a prime number, because 3 is a factor of 51\n53 IS a prime number\n57 is NOT a prime number, because 3 is a factor of 57\n79 IS a prime number\n85 is NOT a prime number, because 5 is a factor of 85\n"
     ]
    }
   ],
   "source": [
    "## Your code should check if each number in the list is a prime number\n",
    "check_prime = [26, 39, 51, 53, 57, 79, 85]\n",
    "\n",
    "## write your code here\n",
    "## HINT: You can use the modulo operator to find a factor\n",
    "\n",
    "## Note: I should find the easiest mechanical solution first!\n",
    "\n",
    "for num in check_prime:\n",
    "\n",
    "    for i in range(2, num):\n",
    "\n",
    "        if num % i == 0:\n",
    "            print(\"{} is NOT a prime number, because {} is a factor of {}\".format(num, i, num))\n",
    "            break\n",
    "        \n",
    "        if i == (num - 1):\n",
    "            print(\"{} IS a prime number\".format(num))"
   ]
  },
  {
   "source": [
    "# Quiz: Zipping"
   ],
   "cell_type": "markdown",
   "metadata": {}
  },
  {
   "cell_type": "code",
   "execution_count": 21,
   "metadata": {},
   "outputs": [
    {
     "output_type": "stream",
     "name": "stdout",
     "text": [
      "\nZip Coordinates\nF: 23, 677, 4\nJ: 53, 233, 16\nA: 2, 405, -6\nQ: -12, 433, -42\nY: 95, 905, 3\nB: 103, 376, -6\nW: 14, 432, 23\nX: -5, 445, -1\n\nZip Lists to Dictionary\n{'Barney': 72, 'Robin': 68, 'Ted': 72, 'Lily': 66, 'Marshall': 76}\n\nUnzip Tuples\n('Barney', 'Robin', 'Ted', 'Lily', 'Marshall')\n(72, 68, 72, 66, 76)\n\nTranspose with zip\n((0, 3, 6, 9), (1, 4, 7, 10), (2, 5, 8, 11))\n\nQuiz Enumerate\n['Barney Stinson 72', 'Robin Scherbatsky 68', 'Ted Mosby 72', 'Lily Aldrin 66', 'Marshall Eriksen 76']\n"
     ]
    }
   ],
   "source": [
    "# Zip Coordinates\n",
    "# Use zip to write a for loop that creates a string specifying the label and coordinates of each point and appends it to the list points. Each string should be formatted as label: x, y, z. For example, the string for the first coordinate should be F: 23, 677, 4.\n",
    "x_coord = [23, 53, 2, -12, 95, 103, 14, -5]\n",
    "y_coord = [677, 233, 405, 433, 905, 376, 432, 445]\n",
    "z_coord = [4, 16, -6, -42, 3, -6, 23, -1]\n",
    "labels = [\"F\", \"J\", \"A\", \"Q\", \"Y\", \"B\", \"W\", \"X\"]\n",
    "\n",
    "points = []\n",
    "for point in zip(labels, x_coord, y_coord, z_coord):\n",
    "    points.append(\"{}: {}, {}, {}\".format(*point))\n",
    "\n",
    "print('\\nZip Coordinates')\n",
    "for point in points:\n",
    "    print(point)\n",
    "\n",
    "\n",
    "# Zip Lists to a Dictionary\n",
    "cast_names = [\"Barney\", \"Robin\", \"Ted\", \"Lily\", \"Marshall\"]\n",
    "cast_heights = [72, 68, 72, 66, 76]\n",
    "\n",
    "cast = dict(zip(cast_names, cast_heights))\n",
    "print('\\nZip Lists to Dictionary')\n",
    "print(cast)\n",
    "\n",
    "\n",
    "# Unzip Tuples\n",
    "cast = ((\"Barney\", 72), (\"Robin\", 68), (\"Ted\", 72), (\"Lily\", 66), (\"Marshall\", 76))\n",
    "\n",
    "names, heights = zip(*cast)\n",
    "\n",
    "print('\\nUnzip Tuples')\n",
    "print(names)\n",
    "print(heights)\n",
    "\n",
    "\n",
    "# Transpose with Zip\n",
    "# Use zip to transpose data from a 4-by-3 matrix to a 3-by-4 matrix.\n",
    "# There's actually a cool trick for this!\n",
    "\n",
    "# 0  1  2  -> 0 3 6 9\n",
    "# 3  4  5  -> 1 4 7 10\n",
    "# 6  7  8  -> 2 5 8 11\n",
    "# 9  10 11\n",
    "\n",
    "data = ((0, 1, 2), (3, 4, 5), (6, 7, 8), (9, 10, 11))\n",
    "\n",
    "data_transpose = tuple(zip(*data))\n",
    "print('\\nTranspose with zip')\n",
    "print(data_transpose)\n",
    "\n",
    "\n",
    "# Quiz Enumerate\n",
    "# Use enumerate to modify the cast list so that each element contains the name followed by the character's corresponding height. For example, the first element of cast should change from \"Barney Stinson\" to \"Barney Stinson 72\".\n",
    "cast = [\"Barney Stinson\", \"Robin Scherbatsky\", \"Ted Mosby\", \"Lily Aldrin\", \"Marshall Eriksen\"]\n",
    "heights = [72, 68, 72, 66, 76]\n",
    "\n",
    "for i, member in enumerate(cast):\n",
    "    cast[i] += ' ' + str(heights[i])\n",
    "\n",
    "print('\\nQuiz Enumerate')\n",
    "print(cast)"
   ]
  }
 ]
}