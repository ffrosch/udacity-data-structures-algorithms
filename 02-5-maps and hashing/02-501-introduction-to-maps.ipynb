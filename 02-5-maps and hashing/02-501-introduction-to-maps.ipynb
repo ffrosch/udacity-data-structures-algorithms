{
 "cells": [
  {
   "cell_type": "markdown",
   "metadata": {
    "graffitiCellId": "id_7fichqn"
   },
   "source": [
    "## Python Dictionary - Introduction "
   ]
  },
  {
   "cell_type": "markdown",
   "metadata": {
    "graffitiCellId": "id_bn5s5ij"
   },
   "source": [
    "In Python, the map concept appears as a built-in data type called a dictionary. A dictionary contains key-value pairs. Dictionaries might soon become your favorite data structure in Python—they're extremely easy to use and useful. Here's a sample of setting up a dictionary."
   ]
  },
  {
   "cell_type": "code",
   "execution_count": null,
   "metadata": {
    "graffitiCellId": "id_vi7l3ce"
   },
   "outputs": [],
   "source": [
    "udacity = {}\n",
    "udacity['u'] = 1\n",
    "udacity['d'] = 2\n",
    "udacity['a'] = 3\n",
    "udacity['c'] = 4\n",
    "udacity['i'] = 5\n",
    "udacity['t'] = 6\n",
    "udacity['y'] = 7\n",
    "\n",
    "print (udacity)\n",
    "# {'u': 1, 'd': 2, 'a': 3, 'c': 4, 'i': 5, 't': 6, 'y': 7}"
   ]
  },
  {
   "cell_type": "markdown",
   "metadata": {
    "graffitiCellId": "id_yaizler"
   },
   "source": [
    "In this case, the letters in \"udacity\" were each keys in our dictionary, and the position of that letter in the string was the value. Thus, I can do the following:"
   ]
  },
  {
   "cell_type": "code",
   "execution_count": null,
   "metadata": {
    "graffitiCellId": "id_p8dlxe3"
   },
   "outputs": [],
   "source": [
    "print (udacity['t'])\n",
    "# 6"
   ]
  },
  {
   "cell_type": "markdown",
   "metadata": {
    "graffitiCellId": "id_rx0mrmq"
   },
   "source": [
    "This statement is saying \"go to the key labeled 't' and find it's value, 6\".\n",
    "\n",
    "Dictionaries are wonderfully flexible—you can store a wide variety of structures as values. You store another dictionary or a list:"
   ]
  },
  {
   "cell_type": "code",
   "execution_count": null,
   "metadata": {
    "graffitiCellId": "id_pwlz6mh"
   },
   "outputs": [],
   "source": [
    "dictionary = {}\n",
    "dictionary['d'] = [1]\n",
    "dictionary['i'] = [2]\n",
    "dictionary['c'] = [3]\n",
    "dictionary['t'] = [4]\n",
    "dictionary['i'].append(5)\n",
    "dictionary['o'] = [6]\n",
    "dictionary['n'] = [7]\n",
    "dictionary['a'] = [8]\n",
    "dictionary['r'] = [9]\n",
    "dictionary['y'] = [10]\n",
    "print (dictionary)\n",
    "# {'d': [1], 'i': [2, 5], 'c': [3], 't': [4], 'o': [6], 'n': [7], 'a': [8], 'r': [9], 'y':[10]}"
   ]
  },
  {
   "cell_type": "markdown",
   "metadata": {
    "graffitiCellId": "id_lia1z54"
   },
   "source": [
    "## Exercise"
   ]
  },
  {
   "cell_type": "markdown",
   "metadata": {
    "graffitiCellId": "id_rizu441"
   },
   "source": [
    "Time to play with Python dictionaries! You're going to work on a dictionary that\n",
    "stores cities by country and continent. The following one is done for you - the city of Mountain View is in the USA, which is in North America.<br><br>\n",
    "`locations = {'North America': {'USA': ['Mountain View']}}`<br><br>\n",
    "Notice that:\n",
    "- `locations`  is a dictionary of dictionaries\n",
    "- `North America` (Continent) is a dictionary\n",
    "- `USA` (Country) is a **key**\n",
    "- `['Mountain View']` (City) is a `list` acting as a **value**. A new city within USA country can be \"appended\" to the given list. \n",
    "\n",
    "\n",
    "### Task 1\n",
    "You need to add the cities listed below by modifying the given structure. Cities to add:\n",
    "```\n",
    "Bangalore (India, Asia)\n",
    "New Delhi (India, Asia)\n",
    "Atlanta (USA, North America)\n",
    "Cairo (Egypt, Africa)\n",
    "Shanghai (China, Asia)\n",
    "```\n",
    "Be careful, while adding a city in an existing country. Consider adding it to the existing `list` of cities as:\n",
    "```\n",
    "locations['Asia']['India'].append('New Delhi')\n",
    "```\n",
    "\n",
    "### Task 2\n",
    "Print the following (using \"print\") by looking them up in the structure.\n",
    "1. A list of all cities in the USA in alphabetic order.\n",
    "2. All cities in Asia, in alphabetic order, next to the name of the country. In your output, label each answer with a number so it looks like this:\n",
    "```\n",
    "1\n",
    "American City\n",
    "American City\n",
    "2\n",
    "Asian City - Country\n",
    "Asian City - Country\n",
    "```"
   ]
  },
  {
   "cell_type": "code",
   "execution_count": 22,
   "metadata": {
    "graffitiCellId": "id_dr46y2d"
   },
   "outputs": [
    {
     "name": "stdout",
     "output_type": "stream",
     "text": [
      "{'Africa': {'Egypt': ['Cairo']},\n",
      " 'Asia': {'China': ['Shanghai'], 'India': ['Bangalore', 'New Delhi']},\n",
      " 'North America': {'USA': ['Mountain View', 'Atlanta']}}\n",
      "American cities, alphabetically sorted: ['Atlanta', 'Mountain View']\n",
      "Asian cities, alphabetically sorted: ['Bangalore - India', 'New Delhi - India', 'Shanghai - China']\n"
     ]
    }
   ],
   "source": [
    "# Code\n",
    "import json\n",
    "import pprint\n",
    "from collections import defaultdict\n",
    "\n",
    "# Make my life easier with a defaultdict\n",
    "\n",
    "locations = defaultdict(lambda: defaultdict(list))\n",
    "\n",
    "locations['North America']['USA'].append('Mountain View')\n",
    "cities = (\n",
    "    ('Asia', 'India', 'Bangalore'),\n",
    "    ('Asia', 'India', 'New Delhi'),\n",
    "    ('North America', 'USA', 'Atlanta'),\n",
    "    ('Africa', 'Egypt', 'Cairo'),\n",
    "    ('Asia', 'China', 'Shanghai'),\n",
    ")\n",
    "for data in cities:\n",
    "    locations[data[0]][data[1]].append(data[2])\n",
    "\n",
    "# Use JSON to convert a nested defaultdict to normal dict easily\n",
    "pprint.pprint(json.loads(json.dumps(locations)))\n",
    "\n",
    "# TODO: Print a list of all cities in the USA in alphabetic order.\n",
    "print('American cities, alphabetically sorted:', sorted(locations['North America']['USA']))\n",
    "\n",
    "# TODO: Print all cities in Asia, in alphabetic order, next to the name of the country\n",
    "asia_cities = []\n",
    "for country, cities in locations['Asia'].items():\n",
    "    for city in cities:\n",
    "        asia_cities.append(f'{city} - {country}')\n",
    "print('Asian cities, alphabetically sorted:', sorted(asia_cities))"
   ]
  },
  {
   "cell_type": "markdown",
   "metadata": {
    "graffitiCellId": "id_4ar8d9w"
   },
   "source": [
    "<span class=\"graffiti-highlight graffiti-id_4ar8d9w-id_ft4syq0\"><i></i><button>Show Solution</button></span>"
   ]
  }
 ],
 "metadata": {
  "graffiti": {
   "firstAuthorId": "10694620118",
   "id": "id_b6lwqu3",
   "language": "EN"
  },
  "kernelspec": {
   "display_name": "Python 3",
   "language": "python",
   "name": "python3"
  },
  "language_info": {
   "codemirror_mode": {
    "name": "ipython",
    "version": 3
   },
   "file_extension": ".py",
   "mimetype": "text/x-python",
   "name": "python",
   "nbconvert_exporter": "python",
   "pygments_lexer": "ipython3",
   "version": "3.6.3"
  },
  "widgets": {
   "state": {},
   "version": "1.1.2"
  }
 },
 "nbformat": 4,
 "nbformat_minor": 2
}
