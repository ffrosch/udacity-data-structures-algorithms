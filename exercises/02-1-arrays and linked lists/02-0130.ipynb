{
 "cells": [
  {
   "cell_type": "markdown",
   "metadata": {
    "graffitiCellId": "id_0qbquwe"
   },
   "source": [
    "### Problem Statement\n",
    "\n",
    "You are given the head of a linked list and two integers, `i` and `j`.\n",
    "You have to retain the first `i` nodes and then delete the next `j` nodes. Continue doing so until the end of the linked list. \n",
    "\n",
    "**Example:**\n",
    "* `linked-list = 1 2 3 4 5 6 7 8 9 10 11 12`\n",
    "* `i = 2`\n",
    "* `j = 3` \n",
    "* `Output = 1 2 6 7 11 12` \n"
   ]
  },
  {
   "cell_type": "code",
   "execution_count": 1,
   "metadata": {
    "graffitiCellId": "id_x5k7r8o"
   },
   "outputs": [],
   "source": [
    "# LinkedList Node class for your reference\n",
    "class Node:\n",
    "    def __init__(self, data):\n",
    "        self.data = data\n",
    "        self.next = None"
   ]
  },
  {
   "cell_type": "markdown",
   "metadata": {
    "graffitiCellId": "id_l7dimt2"
   },
   "source": [
    "### Exercise - Write the function definition here"
   ]
  },
  {
   "cell_type": "code",
   "execution_count": 2,
   "metadata": {
    "graffitiCellId": "id_rjkafju"
   },
   "outputs": [],
   "source": [
    "def skip_i_delete_j(head, i, j):\n",
    "    \"\"\"\n",
    "    IDEA\n",
    "    ----\n",
    "    Iterate over LinkedList (with while).\n",
    "    While True:\n",
    "    - first iterate over range(i)\n",
    "        - advance to next node\n",
    "    - then iterate over range(j)\n",
    "        - on first entry save current node as checkpoint\n",
    "        - advance current node to next node\n",
    "        - delete last node\n",
    "    - if checkpoint exists\n",
    "        - re-connect checkpoint to current node\n",
    "        - set checkpoint to None\n",
    "        \n",
    "    Special Cases\n",
    "    -------------\n",
    "    - head = None or not Node\n",
    "    - reaching end of LinkedList while in a for loop with i or j\n",
    "    - i = 0 -> keep no nodes -> return None\n",
    "    - j = 0 -> delete no nodes -> return head\n",
    "    - i or j = negative\n",
    "    - i or j != int\n",
    "    - checkpoint = None\n",
    "    \n",
    "    Parameters\n",
    "    ----------\n",
    "    :param: head - head of linked list\n",
    "    :param: i - first `i` nodes that are to be skipped\n",
    "    :param: j - next `j` nodes that are to be deleted\n",
    "    return - return the updated head of the linked list\n",
    "    \"\"\"\n",
    "    \n",
    "    # early exit if LinkedList is empty or wrong type is provided\n",
    "    if not head or type(head) != Node:\n",
    "        return head\n",
    "    \n",
    "    # early error if values are not set correctly\n",
    "    # behaviour for this case is not specified!\n",
    "    # most conservative choice is to raise a ValueError\n",
    "    if (i < 0 or j < 0 or\n",
    "        type(i) != int or type(j) != int):\n",
    "        raise ValueError('`i` and `j` must be positive integers!')\n",
    "        \n",
    "    # case: keep zero nodes\n",
    "    if i == 0:\n",
    "        return None\n",
    "    \n",
    "    # case: delete no nodes\n",
    "    if j == 0:\n",
    "        return head\n",
    "    \n",
    "    # initialize helper variables\n",
    "    current_node = head\n",
    "    started = False\n",
    "    checkpoint = None\n",
    "\n",
    "    # iterate over LinkedList\n",
    "    while current_node:\n",
    "        \n",
    "        # advance through LinkedList while keeping `i` nodes\n",
    "        for _ in range(i):\n",
    "            if current_node:\n",
    "                \n",
    "                # counting is off by 1 if we are at the head and just call next\n",
    "                if started:\n",
    "                    current_node = current_node.next\n",
    "                else:\n",
    "                    started = True\n",
    "        \n",
    "        # take care of special case if LinkedList is exhausted\n",
    "        if current_node is None:\n",
    "            return head\n",
    "        \n",
    "        # save position before deleting `j` nodes\n",
    "        checkpoint = current_node\n",
    "        \n",
    "        for _ in range(j):\n",
    "            if current_node:\n",
    "                current_node = current_node.next\n",
    "        \n",
    "        # re-connect checkpoint with current node (may be None) after deletions\n",
    "        checkpoint.next = current_node.next if current_node else None\n",
    "    \n",
    "    # return the head of the LinkedList\n",
    "    # as the changes were made in-place\n",
    "    return head\n",
    "        "
   ]
  },
  {
   "cell_type": "markdown",
   "metadata": {
    "graffitiCellId": "id_u0u6fxe"
   },
   "source": [
    "<span class=\"graffiti-highlight graffiti-id_u0u6fxe-id_fydupf2\"><i></i><button>Show Solution</button></span>"
   ]
  },
  {
   "cell_type": "markdown",
   "metadata": {
    "graffitiCellId": "id_t5i032o"
   },
   "source": [
    "### Test - Let's test your function"
   ]
  },
  {
   "cell_type": "code",
   "execution_count": 3,
   "metadata": {
    "graffitiCellId": "id_jj92agc"
   },
   "outputs": [],
   "source": [
    "# helper functions for testing purpose\n",
    "def create_linked_list(arr):\n",
    "    if len(arr)==0:\n",
    "        return None\n",
    "    head = Node(arr[0])\n",
    "    tail = head\n",
    "    for data in arr[1:]:\n",
    "        tail.next = Node(data)\n",
    "        tail = tail.next\n",
    "    return head\n",
    "\n",
    "def print_linked_list(head):\n",
    "    while head:\n",
    "        print(head.data, end=' ')\n",
    "        head = head.next\n",
    "    print()"
   ]
  },
  {
   "cell_type": "code",
   "execution_count": 4,
   "metadata": {
    "graffitiCellId": "id_zbgrh5m"
   },
   "outputs": [],
   "source": [
    "def test_function(test_case):\n",
    "    head = test_case[0]\n",
    "    i = test_case[1]\n",
    "    j = test_case[2]\n",
    "    solution = test_case[3]\n",
    "    \n",
    "    print_linked_list(head)\n",
    "    \n",
    "    temp = skip_i_delete_j(head, i, j)\n",
    "    \n",
    "    print(solution, i, j)\n",
    "    print_linked_list(temp)\n",
    "    index = 0\n",
    "    try:\n",
    "        while temp is not None:\n",
    "            if temp.data != solution[index]:\n",
    "                print(\"Fail\")\n",
    "                return\n",
    "            index += 1\n",
    "            temp = temp.next\n",
    "        print(\"Pass\")\n",
    "    except Exception as e:\n",
    "        print(\"Fail\")"
   ]
  },
  {
   "cell_type": "code",
   "execution_count": 5,
   "metadata": {
    "graffitiCellId": "id_3ubvhf7"
   },
   "outputs": [
    {
     "name": "stdout",
     "output_type": "stream",
     "text": [
      "1 2 3 4 5 6 7 8 9 10 11 12 \n",
      "[1, 2, 5, 6, 9, 10] 2 2\n",
      "1 2 5 6 9 10 \n",
      "Pass\n"
     ]
    }
   ],
   "source": [
    "arr = [1, 2, 3, 4, 5, 6, 7, 8, 9, 10, 11, 12]\n",
    "i = 2\n",
    "j = 2\n",
    "head = create_linked_list(arr)\n",
    "solution = [1, 2, 5, 6, 9, 10]\n",
    "test_case = [head, i, j, solution]\n",
    "test_function(test_case)"
   ]
  },
  {
   "cell_type": "code",
   "execution_count": 6,
   "metadata": {
    "graffitiCellId": "id_5kf8py2"
   },
   "outputs": [
    {
     "name": "stdout",
     "output_type": "stream",
     "text": [
      "1 2 3 4 5 6 7 8 9 10 11 12 \n",
      "[1, 2, 6, 7, 11, 12] 2 3\n",
      "1 2 6 7 11 12 \n",
      "Pass\n"
     ]
    }
   ],
   "source": [
    "arr = [1, 2, 3, 4, 5, 6, 7, 8, 9, 10, 11, 12]\n",
    "i = 2\n",
    "j = 3\n",
    "head = create_linked_list(arr)\n",
    "solution = [1, 2, 6, 7, 11, 12]\n",
    "test_case = [head, i, j, solution]\n",
    "test_function(test_case)"
   ]
  },
  {
   "cell_type": "code",
   "execution_count": 7,
   "metadata": {
    "graffitiCellId": "id_c81v4ae"
   },
   "outputs": [
    {
     "name": "stdout",
     "output_type": "stream",
     "text": [
      "1 2 3 4 5 \n",
      "[1, 2] 2 4\n",
      "1 2 \n",
      "Pass\n"
     ]
    }
   ],
   "source": [
    "arr = [1, 2, 3, 4, 5]\n",
    "i = 2\n",
    "j = 4\n",
    "head = create_linked_list(arr)\n",
    "solution = [1, 2]\n",
    "test_case = [head, i, j, solution]\n",
    "test_function(test_case)"
   ]
  },
  {
   "cell_type": "code",
   "execution_count": 8,
   "metadata": {
    "graffitiCellId": "id_0zxoieg"
   },
   "outputs": [
    {
     "name": "stdout",
     "output_type": "stream",
     "text": [
      "1 2 3 4 5 \n",
      "[1, 2, 3, 4, 5] 2 0\n",
      "1 2 3 4 5 \n",
      "Pass\n"
     ]
    }
   ],
   "source": [
    "arr = [1, 2, 3, 4, 5]\n",
    "i = 2\n",
    "j = 0\n",
    "head = create_linked_list(arr)\n",
    "solution = [1, 2, 3, 4, 5]\n",
    "test_case = [head, i, j, solution]\n",
    "test_function(test_case)"
   ]
  }
 ],
 "metadata": {
  "graffiti": {
   "firstAuthorId": "dev",
   "id": "id_2oggofo",
   "language": "EN"
  },
  "kernelspec": {
   "display_name": "Python 3",
   "language": "python",
   "name": "python3"
  },
  "language_info": {
   "codemirror_mode": {
    "name": "ipython",
    "version": 3
   },
   "file_extension": ".py",
   "mimetype": "text/x-python",
   "name": "python",
   "nbconvert_exporter": "python",
   "pygments_lexer": "ipython3",
   "version": "3.6.3"
  }
 },
 "nbformat": 4,
 "nbformat_minor": 2
}
