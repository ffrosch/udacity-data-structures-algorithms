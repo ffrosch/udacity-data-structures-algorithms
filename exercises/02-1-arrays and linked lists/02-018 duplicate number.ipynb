{
 "cells": [
  {
   "cell_type": "markdown",
   "metadata": {
    "graffitiCellId": "id_jjzm8pq"
   },
   "source": [
    "### Problem Statement\n",
    "\n",
    "You have been given an array of `length = n`. The array contains integers from `0` to `n - 2`. Each number in the array is present exactly once except for one number which is present twice. Find and return this duplicate number present in the array\n",
    "\n",
    "**Example:**\n",
    "* `arr = [0, 2, 3, 1, 4, 5, 3]`\n",
    "* `output = 3` (because `3` is present twice)\n",
    "\n",
    "The expected time complexity for this problem is `O(n)` and the expected space-complexity is `O(1)`."
   ]
  },
  {
   "cell_type": "code",
   "execution_count": 2,
   "metadata": {
    "graffitiCellId": "id_hjobo20"
   },
   "outputs": [],
   "source": [
    "def duplicate_number(arr):\n",
    "    \"\"\"\n",
    "    :param - array containing numbers in the range [0, len(arr) - 2]\n",
    "    return - the number that is duplicate in the arr\n",
    "    \"\"\"\n",
    "    current_sum = 0\n",
    "    expected_sum = 0\n",
    "    for x in arr:\n",
    "        current_sum += x\n",
    "    for i in range(len(arr) - 1):\n",
    "        expected_sum += i\n",
    "    return current_sum - expected_sum\n",
    "    "
   ]
  },
  {
   "cell_type": "markdown",
   "metadata": {
    "graffitiCellId": "id_t54gljc"
   },
   "source": [
    "<span class=\"graffiti-highlight graffiti-id_t54gljc-id_6q2yj6n\"><i></i><button>Hide Solution</button></span>"
   ]
  },
  {
   "cell_type": "code",
   "execution_count": null,
   "metadata": {
    "graffitiCellId": "id_6q2yj6n"
   },
   "outputs": [],
   "source": [
    "# Solution\n",
    "'''\n",
    "Notice carefully that\n",
    "1. All the elements of the array are always non-negative\n",
    "2. If array length = n, then elements would start from 0 to (n-2), i.e. Natural numbers 0,1,2,3,4,5...(n-2)\n",
    "3. There is only SINGLE element which is present twice.\n",
    "\n",
    "Therefore let's find the sum of all elements (current_sum) of the original array, and\n",
    "find the sum of first (n-2) Natural numbers (expected_sum).\n",
    "\n",
    "Trick: \n",
    "The second occurance of a particular number (say `x`) is actually occupying the space \n",
    "that would have been utilized by the number (n-1). This leads to: \n",
    "current_sum  = 0 + 1 + 2 + 3 + .... + (n-2) + x\n",
    "expected_sum = 0 + 1 + 2 + 3 + .... + (n-2)\n",
    "current_sum - expected_sum = x \n",
    "Tada!!! :)  \n",
    "\n",
    "'''\n",
    "def duplicate_number(arr):\n",
    "    current_sum = 0\n",
    "    expected_sum = 0\n",
    "    \n",
    "    # Traverse the original array in the forward direction \n",
    "    for num in arr:\n",
    "        current_sum += num\n",
    "    \n",
    "    \n",
    "    # Traverse from 0 to (length of array-1) to get the expected_sum\n",
    "    # Alternatively, you can use the formula for sum of an Arithmetic Progression to get the expected_sum\n",
    "    \n",
    "    # The argument of range() functions are:\n",
    "    # starting index [OPTIONAL], ending index (non exclusive), and the increment/decrement size [OPTIONAL]\n",
    "    # It means that if the array length = n, loop will run form 0 to (n-2)\n",
    "    for i in range(len(arr) - 1):\n",
    "        expected_sum += i\n",
    "    \n",
    "    \n",
    "    # The difference between the \n",
    "    return current_sum - expected_sum\n"
   ]
  },
  {
   "cell_type": "code",
   "execution_count": 3,
   "metadata": {
    "graffitiCellId": "id_32apeg6"
   },
   "outputs": [],
   "source": [
    "def test_function(test_case):\n",
    "    arr = test_case[0]\n",
    "    solution = test_case[1]\n",
    "    output = duplicate_number(arr)\n",
    "    if output == solution:\n",
    "        print(\"Pass\")\n",
    "    else:\n",
    "        print(\"Fail\")"
   ]
  },
  {
   "cell_type": "code",
   "execution_count": 4,
   "metadata": {
    "graffitiCellId": "id_5b4ou9d"
   },
   "outputs": [
    {
     "name": "stdout",
     "output_type": "stream",
     "text": [
      "Pass\n"
     ]
    }
   ],
   "source": [
    "arr = [0, 0]\n",
    "solution = 0\n",
    "\n",
    "test_case = [arr, solution]\n",
    "test_function(test_case)"
   ]
  },
  {
   "cell_type": "code",
   "execution_count": 5,
   "metadata": {
    "graffitiCellId": "id_kvkeije"
   },
   "outputs": [
    {
     "name": "stdout",
     "output_type": "stream",
     "text": [
      "Pass\n"
     ]
    }
   ],
   "source": [
    "arr = [0, 2, 3, 1, 4, 5, 3]\n",
    "solution = 3\n",
    "\n",
    "test_case = [arr, solution]\n",
    "test_function(test_case)"
   ]
  },
  {
   "cell_type": "code",
   "execution_count": 6,
   "metadata": {
    "graffitiCellId": "id_vfijgc0"
   },
   "outputs": [
    {
     "name": "stdout",
     "output_type": "stream",
     "text": [
      "Pass\n"
     ]
    }
   ],
   "source": [
    "arr = [0, 1, 5, 4, 3, 2, 0]\n",
    "solution = 0\n",
    "\n",
    "test_case = [arr, solution]\n",
    "test_function(test_case)"
   ]
  },
  {
   "cell_type": "code",
   "execution_count": 7,
   "metadata": {
    "graffitiCellId": "id_w6gda6p"
   },
   "outputs": [
    {
     "name": "stdout",
     "output_type": "stream",
     "text": [
      "Pass\n"
     ]
    }
   ],
   "source": [
    "arr = [0, 1, 5, 5, 3, 2, 4]\n",
    "solution = 5\n",
    "\n",
    "test_case = [arr, solution]\n",
    "test_function(test_case)"
   ]
  },
  {
   "cell_type": "code",
   "execution_count": null,
   "metadata": {
    "graffitiCellId": "id_pfyiv0p"
   },
   "outputs": [],
   "source": []
  }
 ],
 "metadata": {
  "graffiti": {
   "firstAuthorId": "dev",
   "id": "id_11ltg2a",
   "language": "EN"
  },
  "kernelspec": {
   "display_name": "Python 3",
   "language": "python",
   "name": "python3"
  },
  "language_info": {
   "codemirror_mode": {
    "name": "ipython",
    "version": 3
   },
   "file_extension": ".py",
   "mimetype": "text/x-python",
   "name": "python",
   "nbconvert_exporter": "python",
   "pygments_lexer": "ipython3",
   "version": "3.6.3"
  }
 },
 "nbformat": 4,
 "nbformat_minor": 2
}
