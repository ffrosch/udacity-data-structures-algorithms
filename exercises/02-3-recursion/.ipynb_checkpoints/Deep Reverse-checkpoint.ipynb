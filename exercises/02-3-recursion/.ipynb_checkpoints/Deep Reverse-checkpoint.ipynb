{
 "cells": [
  {
   "cell_type": "markdown",
   "metadata": {
    "graffitiCellId": "id_raex3xy"
   },
   "source": [
    "## Problem Statement\n",
    "\n",
    "Define a procedure, `deep_reverse`, that takes as input a list, and returns a new list that is the deep reverse of the input list.  \n",
    "This means it reverses all the elements in the list, and if any of those elements are lists themselves, reverses all the elements in the inner list, all the way down. \n",
    "\n",
    ">Note: The procedure must not change the input list itself.\n",
    "\n",
    "**Example**<br>\n",
    "Input: `[1, 2, [3, 4, 5], 4, 5]`<br>\n",
    "Output: `[5, 4, [5, 4, 3], 2, 1]`<br>\n",
    "\n",
    "**Hint**<br>\n",
    "1. Begin with a blank final list to be returned.\n",
    "2. Traverse the given list in the reverse order.\n",
    " * If an item in the list is a list itself, call the same function.\n",
    " * Otheriwse, append the item to the final list.\n"
   ]
  },
  {
   "cell_type": "markdown",
   "metadata": {
    "graffitiCellId": "id_qh8o0hp"
   },
   "source": [
    "### Exercise - Write the function definition here"
   ]
  },
  {
   "cell_type": "code",
   "execution_count": 12,
   "metadata": {
    "graffitiCellId": "id_ga0lpbe"
   },
   "outputs": [],
   "source": [
    "def deep_reverse(arr):\n",
    "#     # use implicit booleaness of list -> very pythonic\n",
    "#     if not arr: return arr\n",
    "    \n",
    "    output = []\n",
    "    # Base condition is not needed, because:\n",
    "    #   for-loop over emtpy-list does not fail but instead just skips\n",
    "    #   desired base-condition out put is [] which we cover with `return output` \n",
    "    for elem in reversed(arr):\n",
    "        if type(elem) is list:\n",
    "            elem = deep_reverse(elem)\n",
    "        output.append(elem)\n",
    "    return output"
   ]
  },
  {
   "cell_type": "markdown",
   "metadata": {
    "graffitiCellId": "id_25r0ar8"
   },
   "source": [
    "<span class=\"graffiti-highlight graffiti-id_25r0ar8-id_l0hi76f\"><i></i><button>Show Solution</button></span>"
   ]
  },
  {
   "cell_type": "markdown",
   "metadata": {
    "graffitiCellId": "id_ahbfr8o"
   },
   "source": [
    "### Test - Let's test your function"
   ]
  },
  {
   "cell_type": "code",
   "execution_count": 2,
   "metadata": {
    "graffitiCellId": "id_qgv6buk"
   },
   "outputs": [],
   "source": [
    "def test_function(test_case):\n",
    "    arr = test_case[0]\n",
    "    solution = test_case[1]\n",
    "    \n",
    "    output = deep_reverse(arr)\n",
    "    if output == solution:\n",
    "        print(\"Pass\")\n",
    "    else:\n",
    "        print(\"False\")"
   ]
  },
  {
   "cell_type": "code",
   "execution_count": 8,
   "metadata": {
    "graffitiCellId": "id_96zra8y"
   },
   "outputs": [
    {
     "name": "stdout",
     "output_type": "stream",
     "text": [
      "Pass\n"
     ]
    }
   ],
   "source": [
    "arr = [1, 2, 3, 4, 5]\n",
    "solution = [5, 4, 3, 2, 1]\n",
    "test_case = [arr, solution]\n",
    "test_function(test_case)"
   ]
  },
  {
   "cell_type": "code",
   "execution_count": 9,
   "metadata": {
    "graffitiCellId": "id_ptx3y5c"
   },
   "outputs": [
    {
     "name": "stdout",
     "output_type": "stream",
     "text": [
      "Pass\n"
     ]
    }
   ],
   "source": [
    "arr = [1, 2, [3, 4, 5], 4, 5]\n",
    "solution = [5, 4, [5, 4, 3], 2, 1]\n",
    "test_case = [arr, solution]\n",
    "test_function(test_case)"
   ]
  },
  {
   "cell_type": "code",
   "execution_count": 10,
   "metadata": {
    "graffitiCellId": "id_hblffre"
   },
   "outputs": [
    {
     "name": "stdout",
     "output_type": "stream",
     "text": [
      "Pass\n"
     ]
    }
   ],
   "source": [
    "arr = [1, [2, 3, [4, [5, 6]]]]\n",
    "solution = [[[[6, 5], 4], 3, 2], 1]\n",
    "test_case = [arr, solution]\n",
    "test_function(test_case)"
   ]
  },
  {
   "cell_type": "code",
   "execution_count": 11,
   "metadata": {
    "graffitiCellId": "id_ltvv7w1"
   },
   "outputs": [
    {
     "name": "stdout",
     "output_type": "stream",
     "text": [
      "Pass\n"
     ]
    }
   ],
   "source": [
    "arr =  [1, [2,3], 4, [5,6]]\n",
    "solution = [ [6,5], 4, [3, 2], 1]\n",
    "test_case = [arr, solution]\n",
    "test_function(test_case)"
   ]
  },
  {
   "cell_type": "code",
   "execution_count": null,
   "metadata": {
    "graffitiCellId": "id_la6xwug"
   },
   "outputs": [],
   "source": []
  }
 ],
 "metadata": {
  "graffiti": {
   "firstAuthorId": "dev",
   "id": "id_u69esyt",
   "language": "EN"
  },
  "kernelspec": {
   "display_name": "Python 3",
   "language": "python",
   "name": "python3"
  },
  "language_info": {
   "codemirror_mode": {
    "name": "ipython",
    "version": 3
   },
   "file_extension": ".py",
   "mimetype": "text/x-python",
   "name": "python",
   "nbconvert_exporter": "python",
   "pygments_lexer": "ipython3",
   "version": "3.6.3"
  }
 },
 "nbformat": 4,
 "nbformat_minor": 2
}
