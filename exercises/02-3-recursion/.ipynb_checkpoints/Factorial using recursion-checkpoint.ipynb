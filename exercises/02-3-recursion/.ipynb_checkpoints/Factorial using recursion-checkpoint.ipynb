{
 "cells": [
  {
   "cell_type": "markdown",
   "metadata": {
    "graffitiCellId": "id_nc90xut"
   },
   "source": [
    "# Factorial using recursion"
   ]
  },
  {
   "cell_type": "markdown",
   "metadata": {
    "graffitiCellId": "id_vwt24bz"
   },
   "source": [
    "The **factorial** function is a mathematical function that multiplies a given number, $n$, and all of the whole numbers from $n$ down to 1.\n",
    "\n",
    "For example, if $n$ is $4$ then we will get:\n",
    "\n",
    "$4*3*2*1 = 24$\n",
    "\n",
    "This is often notated using an exclamation point, as in $4!$ (which would be read as \"four factorial\").\n",
    "\n",
    "So $4! = 4*3*2*1 = 24$\n",
    "\n",
    "More generally, we can say that for any input $n$:\n",
    "\n",
    "$n! = n * (n-1) * (n-2) ... 1$\n",
    "\n",
    "If you look at this more closely, you will find that the factorial of any number is the product of that number and the factorial of the next smallest number. In other words:\n",
    "\n",
    "$n! = n*(n-1)!$\n",
    "\n",
    "Notice that this is recursive, meaning that we can solve for the factorial of any given number by first solving for the factorial of the next smallest number, and the next smallest number, and the next smallest number, and so on, until we reach 1.\n",
    "\n",
    "If you were to write a Python function called `factorial` to calculate the factorial of a number, then we could restate what we said above as follows:\n",
    "\n",
    "`factorial(n) = n * factorial(n-1)`\n",
    "\n",
    "So that is the goal of this exercise: To use recursion to write a function that will take a number and return the factorial of that number.\n",
    "\n",
    "For example, you should be able to call your function with `factorial(4)` and get back `24`.\n",
    "\n",
    "**Note:** By definition, $0! = 1$"
   ]
  },
  {
   "cell_type": "code",
   "execution_count": null,
   "metadata": {
    "graffitiCellId": "id_aryl3on"
   },
   "outputs": [],
   "source": [
    "# Code\n",
    "\n",
    "def factorial(n):\n",
    "    \"\"\"\n",
    "    Calculate n!\n",
    "    \n",
    "    Args:\n",
    "       n(int): factorial to be computed\n",
    "    Returns:\n",
    "       n!\n",
    "    \"\"\"\n",
    "    \n",
    "    # TODO: Write your recursive factorial function here\n",
    "    \n",
    "    pass"
   ]
  },
  {
   "cell_type": "code",
   "execution_count": null,
   "metadata": {
    "graffitiCellId": "id_jzvxayg"
   },
   "outputs": [],
   "source": [
    "# Test Cases\n",
    "\n",
    "print (\"Pass\" if (1 == factorial(0)) else \"Fail\")\n",
    "print (\"Pass\" if  (1 == factorial(1)) else \"Fail\")\n",
    "print (\"Pass\" if  (120 == factorial(5)) else \"Fail\")"
   ]
  },
  {
   "cell_type": "markdown",
   "metadata": {
    "graffitiCellId": "id_hfidq8t"
   },
   "source": [
    "<span class=\"graffiti-highlight graffiti-id_hfidq8t-id_ok8sbqr\"><i></i><button>Show Solution</button></span>"
   ]
  }
 ],
 "metadata": {
  "graffiti": {
   "firstAuthorId": "10694620118",
   "id": "id_q1h5fuv",
   "language": "EN"
  },
  "kernelspec": {
   "display_name": "Python 3",
   "language": "python",
   "name": "python3"
  },
  "language_info": {
   "codemirror_mode": {
    "name": "ipython",
    "version": 3
   },
   "file_extension": ".py",
   "mimetype": "text/x-python",
   "name": "python",
   "nbconvert_exporter": "python",
   "pygments_lexer": "ipython3",
   "version": "3.6.3"
  }
 },
 "nbformat": 4,
 "nbformat_minor": 2
}
