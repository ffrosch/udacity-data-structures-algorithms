{
 "cells": [
  {
   "cell_type": "markdown",
   "metadata": {
    "graffitiCellId": "id_m5u9j4m"
   },
   "source": [
    "# Longest Palindromic Subsequence\n",
    "\n",
    "In general, a palindrome is a string that reads the same backwards as forwards, e.g., `MADAM`. In the last notebook, we saw that in a given string, a subsequence is an ordered set of characters that need not necessarily be a contiguous substring, e.g., `ABC` is a subsequence in `AXBYC` with `length = 3`. \n",
    "\n",
    "The **Longest Palindromic Subsequence** (LPS) is the most lengthy sequence of characters that is a palindrome. In this notebook, you'll be tasked with finding the **length of the LPS in a given string of characters**.\n",
    "\n",
    "Examples:\n",
    "1. With an input string, `MAXDYAM`, the LPS is `MADAM`, which has `length = 5`\n",
    "1. With an input string, `BxAoNxAoNxA`, the LPS is `ANANA`, which has `length = 5`\n",
    "1. With an input string, `BANANO`, the LPS is `NAN`, which has `length = 3`\n",
    "1. With an input string, `ABBDBCACB`, the LPS is `BCACB`, which has `length = 5`\n",
    "\n",
    "In this notebook, we'll focus on finding an optimal solution to finding the length of the LPS task, using dynamic programming. There will be some similarities to the Longest Common Subsequence (LCS) task, which is outlined in detail in a previous notebook. It is recommended that you start with that notebook before trying out this task.\n",
    "\n",
    "## Dynamic Programming Approach - Storing Pre-Computed Values\n",
    "\n",
    "Similar to how you compared **two strings** in the LCS (Longest Common Subsequence) task, you can compare the characters in just **one string** with itself, in this LPS task. \n",
    "\n",
    "* The LPS solution algorithm depends on how the characters of a given string are related to each other. \n",
    "\n",
    "* For a string of length *n* characters, you can build an `n x n` matrix. The 2-D matrix will have characters of the given string on the top as well as on the left side.\n",
    "\n",
    "* The matrix will store the solution to **smaller subproblems** first, and gradually adding up more characters to the problem. In this case, **a subproblem is to find the length of the LPS, up to a certain point in the string**. \n",
    "\n",
    "\n",
    "Read the rules below to fill up the matrix cells. "
   ]
  },
  {
   "cell_type": "markdown",
   "metadata": {
    "graffitiCellId": "id_mvw559p"
   },
   "source": [
    "\n",
    "### The Matrix Rules\n",
    "\n",
    "You can efficiently fill up this matrix one cell at a time. Each grid cell only depends on the values in the grid cells that are directly on bottom and to the left of it, or on the diagonal/bottom-left. The rules are as follows:\n",
    "* Start with an `n x n ` matrix where *n* is the number of characters in a given string. The diagonal cells should all have the value 1 for the base case, the rest can be zeros.\n",
    "* As you traverse your string:\n",
    "    * If there is a match, fill that grid cell with the value to the bottom-left of that cell ***plus two***.\n",
    "    * If there is not a match, take the ***maximum value*** from either directly to the left or the bottom cell, and carry that value over to the non-match cell.\n",
    "* After completely filling the matrix, ***the top-right cell will hold the final LPS length***.\n",
    "\n",
    "Note: The lower diagonal values will remain 0 in all cases.\n",
    "\n",
    "---\n",
    "\n",
    "It may be helpful to try filling up a matrix on paper before you start your code solution. If you get stuck with this task, you may look at some example matrices below, before consulting the complete solution code."
   ]
  },
  {
   "cell_type": "markdown",
   "metadata": {
    "collapsed": true,
    "graffitiCellId": "id_muz0nks"
   },
   "source": [
    "### Example Matrices\n",
    "\n",
    "Example LPS Subproblem matrix 1:\n",
    "\n",
    "```\n",
    "input_string = 'BANANO'\n",
    "\n",
    "LPS subproblem matrix:\n",
    "  \n",
    "     B  A  N  A  N  O\n",
    "B  [[1, 1, 1, 3, 3, 3],\n",
    "A   [0, 1, 1, 3, 3, 3],\n",
    "N   [0, 0, 1, 1, 3, 3],\n",
    "A   [0, 0, 0, 1, 1, 1],\n",
    "N   [0, 0, 0, 0, 1, 1],\n",
    "O   [0, 0, 0, 0, 0, 1]]\n",
    "\n",
    "LPS length:  3\n",
    "```\n",
    "\n",
    "Example LPS Subproblem matrix 2:\n",
    "```\n",
    "input_string = 'TACOCAT'\n",
    "\n",
    "LPS subproblem matrix:\n",
    "\n",
    "     T  A  C  O  C  A  T\n",
    "T  [[1, 1, 1, 1, 3, 5, 7],\n",
    "A   [0, 1, 1, 1, 3, 5, 5],\n",
    "C   [0, 0, 1, 1, 3, 3, 3],\n",
    "O   [0, 0, 0, 1, 1, 1, 1],\n",
    "C   [0, 0, 0, 0, 1, 1, 1],\n",
    "A   [0, 0, 0, 0, 0, 1, 1],\n",
    "T   [0, 0, 0, 0, 0, 0, 1]]\n",
    "\n",
    "LPS length:  7\n",
    "```\n"
   ]
  },
  {
   "cell_type": "markdown",
   "metadata": {
    "graffitiCellId": "id_0wywkvj"
   },
   "source": [
    "### Exercise - Write the function definition here"
   ]
  },
  {
   "cell_type": "code",
   "execution_count": null,
   "metadata": {
    "graffitiCellId": "id_m2kla9e"
   },
   "outputs": [],
   "source": [
    "def lps(input_string): \n",
    "    \n",
    "    # TODO: Complete this implementation of the LPS function\n",
    "    # The function should return one value: the LPS length for the given input string\n",
    "    pass\n"
   ]
  },
  {
   "cell_type": "markdown",
   "metadata": {
    "graffitiCellId": "id_d28fhk7"
   },
   "source": [
    "<span class=\"graffiti-highlight graffiti-id_d28fhk7-id_3yrlf09\"><i></i><button>Show Solution</button></span>"
   ]
  },
  {
   "cell_type": "markdown",
   "metadata": {
    "graffitiCellId": "id_xkuam8g"
   },
   "source": [
    "### Test - Let's test your function"
   ]
  },
  {
   "cell_type": "code",
   "execution_count": null,
   "metadata": {
    "graffitiCellId": "id_zrl045w"
   },
   "outputs": [],
   "source": [
    "def test_function(test_case):\n",
    "    string = test_case[0]\n",
    "    solution = test_case[1]\n",
    "    output = lps(string)\n",
    "    print(output)\n",
    "    if output == solution:\n",
    "        print(\"Pass\")\n",
    "    else:\n",
    "        print(\"Fail\")"
   ]
  },
  {
   "cell_type": "code",
   "execution_count": null,
   "metadata": {
    "graffitiCellId": "id_qwckonz"
   },
   "outputs": [],
   "source": [
    "string = 'BxAoNxAoNxA'\n",
    "solution = 5\n",
    "test_case = [string, solution]\n",
    "test_function(test_case)"
   ]
  },
  {
   "cell_type": "code",
   "execution_count": null,
   "metadata": {
    "graffitiCellId": "id_pgp7moi"
   },
   "outputs": [],
   "source": [
    "string = 'BANANO'\n",
    "solution = 3\n",
    "test_case = [string, solution]\n",
    "test_function(test_case)"
   ]
  },
  {
   "cell_type": "code",
   "execution_count": null,
   "metadata": {
    "graffitiCellId": "id_cqnb288"
   },
   "outputs": [],
   "source": [
    "string = \"TACOCAT\"\n",
    "solution = 7\n",
    "test_case = [string, solution]\n",
    "test_function(test_case)"
   ]
  },
  {
   "cell_type": "markdown",
   "metadata": {
    "collapsed": true,
    "graffitiCellId": "id_ovo1t4d"
   },
   "source": [
    "### Time Complexity\n",
    "\n",
    "**What is the time complexity of the above implementation?**\n",
    "\n",
    "In the solution, we are looping over the elements of our `input_string` using two `for` loops; these are each of $O(N)$ and nested this becomes $O(N^2)$. This behavior dominates our optimized solution."
   ]
  }
 ],
 "metadata": {
  "graffiti": {
   "firstAuthorId": "10694620118",
   "id": "id_w5rg0wc",
   "language": "EN"
  },
  "kernelspec": {
   "display_name": "Python 3",
   "language": "python",
   "name": "python3"
  },
  "language_info": {
   "codemirror_mode": {
    "name": "ipython",
    "version": 3
   },
   "file_extension": ".py",
   "mimetype": "text/x-python",
   "name": "python",
   "nbconvert_exporter": "python",
   "pygments_lexer": "ipython3",
   "version": "3.6.3"
  }
 },
 "nbformat": 4,
 "nbformat_minor": 2
}
