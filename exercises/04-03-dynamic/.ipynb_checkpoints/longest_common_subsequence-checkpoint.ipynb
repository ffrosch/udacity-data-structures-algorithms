{
 "cells": [
  {
   "cell_type": "markdown",
   "metadata": {
    "graffitiCellId": "id_8xyfjdj"
   },
   "source": [
    "# Longest Common Subsequence\n",
    "\n",
    "In text analysis,  it is often useful to compare the similarity of two texts (imagine if you were trying to determine plagiarism between a source and answer text). In this notebook, we'll explore one measure of text similarity, the **Longest Common Subsequence** (LCS).\n",
    "\n",
    "> The Longest Common Subsequence is the longest sequence of letters that are *present* in both the given two strings in the same relative order.\n",
    "\n",
    "**Example** - Consider the two input strings, `str1 = 'ABCD'` and `str2 = 'AXBXDX'`. The LCS will be `'ABD'` with the length as **3 letters**. It is because each of the letters `'A'` , `'B'`, and `'D'` are *present* in both the given two strings in the same relative order. Note that:\n",
    "* An LCS need not necessarily be a contiguous substring. \n",
    "* There can be more than one LCS present in the given two strings. \n",
    "* There can be many more common subsequences present here, with smaller length. But, in this problem we are concerned with the **longest** common subsequence. \n",
    "\n",
    "---\n"
   ]
  },
  {
   "cell_type": "markdown",
   "metadata": {
    "graffitiCellId": "id_cvzqzkq"
   },
   "source": [
    "## Dynamic Programming Approach - Storing Pre-Computed Values\n",
    "\n",
    "The LCS algorithm depends on looking at two strings and comparing them letter by letter. You can solve this problem in multiple ways. You can iterate through each letter in the strings and compare them, adding to your value for LCS as you go. \n",
    "\n",
    "### Use a 2-D Matrix to Store the Relationship Between Letters of the Two Strings\n",
    "Recall that **dynamic programming** is all about breaking a larger problem into a smaller set of subproblems, and building up a complete result without having to repeat any subproblems. This approach assumes that you can split up a large LCS task into a combination of smaller LCS tasks. Let's look at the short example in more detail:\n",
    "* `A = 'ABCD'`\n",
    "* `B = 'BD'`\n",
    "\n",
    "We can see right away that _letters_ `B` and `D` are in sequence in both the strings, therefore LCS is `'BD'`. The length of the LCS here is 2. \n",
    "\n",
    "**The Idea** - We can calculate the LCS length by looking at relationships between *each* letter of the two strings. Let's make a matrix with the letters of first string on top and the letters of second string on the left side:\n",
    "\n",
    "<img src='notebook_ims/initial_matrix.png' width=40% />\n",
    "\n",
    "This starts out as a matrix that has as many columns and rows as number of letters in the strings A and B **plus 1**, filled with zeros on the top and left sides. So, in this case, instead of a 2x4 matrix it is a 3x5. We can fill this matrix up by breaking it into smaller LCS problems. Start with first picking up one letter each from the given two strings, and then check if we have a common letter. Gradually, we will add up more letters from each string. \n",
    "\n",
    "#### Check Row 1\n",
    "The shortest subproblem: pick the starting letter of given two strings. We'll first ask, \"what is the Longest Common Subsequence between these two letters 'A' and 'B'?\" **Here, the answer is zero and we fill in the corresponding grid cell with that value.**\n",
    "\n",
    "<img src='notebook_ims/matrix_2.png' width=35% />\n",
    "\n",
    "Gradually, add up more letters from first string. The next question we'd ask, \"what is the LCS between 'AB' and 'B'?\" **Here, we have a match, and can fill in the appropriate value 1**.\n",
    "\n",
    "<img src='notebook_ims/matrix_3_match.png' width=30% />\n",
    "\n",
    "If we continue along this row, we can actually see that B only matches this one time, and any further questions, such as — What is the LCS between 'ABCD' and 'B'? — will have that same value, 1, due to the initial B-B match.\n",
    "\n",
    "<img src='notebook_ims/matrix_4.png' width=35% />\n",
    "\n",
    "#### Check Row 2\n",
    "Then, we move on to the second row. 'A' and 'BD' have 0 matches.\n",
    "\n",
    "<img src='notebook_ims/matrix_5.png' width=25% />\n",
    "\n",
    "We have 'AB' after picking one more letter from first string and 'BD' from second string, that have a B-B match, which we've already noted in the cell above. Gradually, we will add up more letters from first string, just like we did in the previous row. Finally, we have a match at the end D-D, where we can add 1 to our current highest match (1) to get a final LCS length as 2.\n",
    "\n",
    "<img src='notebook_ims/matrix_6_complete.png' width=25% />\n",
    "\n",
    "**The final LCS will have length as 2 letters**.\n",
    "\n",
    "## The Matrix Rules\n",
    "One thing to notice here is that, you can efficiently fill up this matrix one cell at a time. Each grid cell only depends on the values in the grid cells that are directly on top and to the left of it, or on the diagonal/top-left. The rules are as follows:\n",
    "* Start with a matrix that has one extra row and column of zeros.\n",
    "* As you traverse your string:\n",
    "    * If there is a match, fill that grid cell with the value to the top-left of that cell *plus* one. So, in our case, when we found a matching B-B, we added +1 to the value in the top-left of the matching cell, 0.\n",
    "    * If there is not a match, take the *maximum* value from either directly to the left or the top cell, and carry that value over to the non-match cell.\n",
    "\n",
    "<img src='notebook_ims/matrix_rules.png' width=40% />\n",
    "\n",
    "* After completely filling the matrix, **the bottom-right cell will hold the non-normalized LCS length value**."
   ]
  },
  {
   "cell_type": "markdown",
   "metadata": {
    "graffitiCellId": "id_jy58x05"
   },
   "source": [
    "## Calculate the length of longest common subsequence\n",
    "\n",
    "Implement the function `lcs`; this should calculate the length of *longest common subsequence* of characters between two strings. "
   ]
  },
  {
   "cell_type": "code",
   "execution_count": null,
   "metadata": {
    "graffitiCellId": "id_75ixet4"
   },
   "outputs": [],
   "source": [
    "def lcs(string_a, string_b):\n",
    "    pass"
   ]
  },
  {
   "cell_type": "markdown",
   "metadata": {
    "graffitiCellId": "id_y0t2nv1"
   },
   "source": [
    "<span class=\"graffiti-highlight graffiti-id_y0t2nv1-id_u8bn9wq\"><i></i><button>Show Solution</button></span>"
   ]
  },
  {
   "cell_type": "markdown",
   "metadata": {
    "graffitiCellId": "id_06z3b24"
   },
   "source": [
    "Test your function on a few test strings by running the cell, below."
   ]
  },
  {
   "cell_type": "code",
   "execution_count": null,
   "metadata": {
    "graffitiCellId": "id_lnwt8zg"
   },
   "outputs": [],
   "source": [
    "## Test cell\n",
    "\n",
    "# Run this cell to see how your function is working\n",
    "test_A1 = \"WHOWEEKLY\"\n",
    "test_B1 = \"HOWONLY\"\n",
    "\n",
    "lcs_val1 = lcs(test_A1, test_B1)\n",
    "\n",
    "test_A2 = \"CATSINSPACETWO\"\n",
    "test_B2 = \"DOGSPACEWHO\"\n",
    "\n",
    "lcs_val2 = lcs(test_A2, test_B2)\n",
    "\n",
    "print('LCS val 1 = ', lcs_val1)\n",
    "assert lcs_val1==5, \"Incorrect LCS value.\"\n",
    "print('LCS val 2 = ', lcs_val2)\n",
    "assert lcs_val2==7, \"Incorrect LCS value.\"\n",
    "print('Tests passed!')"
   ]
  },
  {
   "cell_type": "markdown",
   "metadata": {
    "collapsed": true,
    "graffitiCellId": "id_u99tux1"
   },
   "source": [
    "## Time Complexity\n",
    "\n",
    "What is the time complexity of the above implementation?"
   ]
  },
  {
   "cell_type": "markdown",
   "metadata": {
    "graffitiCellId": "id_g3jsc1o"
   },
   "source": [
    "<span class=\"graffiti-highlight graffiti-id_g3jsc1o-id_kxwtio3\"><i></i><button>Show Solution</button></span>"
   ]
  }
 ],
 "metadata": {
  "graffiti": {
   "firstAuthorId": "dev",
   "id": "id_gm2dsgo",
   "language": "EN"
  },
  "kernelspec": {
   "display_name": "Python 3",
   "language": "python",
   "name": "python3"
  },
  "language_info": {
   "codemirror_mode": {
    "name": "ipython",
    "version": 3
   },
   "file_extension": ".py",
   "mimetype": "text/x-python",
   "name": "python",
   "nbconvert_exporter": "python",
   "pygments_lexer": "ipython3",
   "version": "3.6.3"
  }
 },
 "nbformat": 4,
 "nbformat_minor": 2
}
