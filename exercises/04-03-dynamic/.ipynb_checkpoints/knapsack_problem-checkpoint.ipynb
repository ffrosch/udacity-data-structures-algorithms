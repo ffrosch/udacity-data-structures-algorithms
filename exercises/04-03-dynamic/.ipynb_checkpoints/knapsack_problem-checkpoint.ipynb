{
 "cells": [
  {
   "cell_type": "markdown",
   "metadata": {
    "graffitiCellId": "id_afkw8pd"
   },
   "source": [
    "# Knapsack Problem\n",
    "Now that you saw the dynamic programming solution for the knapsack problem, it's time to implement it. Assume you are given two things:\n",
    "1. The `items`, each having its associated weight (kg) and value ($\\$$). \n",
    "1. A knapsack  that can hold a maximum weight of `knapsack_max_weight` (kg).\n",
    "\n",
    "Use dynamic programming to implement the function `knapsack_max_value()` to **return the maximum total value**  of items that can be accommodated into the given knapsack.\n",
    "\n",
    "\n",
    "**Note** - The `items` variable is the type `Item`, which is a [named tuple](https://docs.python.org/3/library/collections.html#collections.namedtuple)."
   ]
  },
  {
   "cell_type": "code",
   "execution_count": null,
   "metadata": {
    "graffitiCellId": "id_epldr9d"
   },
   "outputs": [],
   "source": [
    "# Helper code\n",
    "import collections\n",
    "\n",
    "# An item can be represented as a namedtuple\n",
    "Item = collections.namedtuple('Item', ['weight', 'value'])"
   ]
  },
  {
   "cell_type": "markdown",
   "metadata": {
    "graffitiCellId": "id_hi7z6d8"
   },
   "source": [
    "\n",
    "### The Naive Approach - Based on Recursion:\n",
    "The idea is, for each given item, if the item-weight is less than the remaining capacity (kg) of the knapsack, then calculate the value ($\\$$) of the knapsack if we:\n",
    "1. **Do not put the item in the knapsack** - Value ($\\$$) of the knapsack will be the output of the `knapsack_recursive()` function, with the same remaining capacity, and check for the next item down the list.  \n",
    "1. **Put the item in the knapsack** - Value ($\\$$) of the knapsack will be the **sum** of the current value of the item and output of the `knapsack_recursive()` function,  with **updated** remaining capacity, and check for the next item down the list.  \n",
    "\n",
    "Return the **maximum of either of the above two values**. In `knapsack_recursive()` function, begin with developing the solution for the base case i.e., smallest subproblem. \n",
    "\n",
    "**Note** - Below is the implementation of this naive approach with recursion, that has an exponential time complexity as $O(2^n)$, where $n$ is the number of given items, becuase we are evaluating both the two options (put/not put) for each given item."
   ]
  },
  {
   "cell_type": "code",
   "execution_count": null,
   "metadata": {
    "graffitiCellId": "id_3gizrc0"
   },
   "outputs": [],
   "source": [
    "# Naive Approach based on Recursion\n",
    "def knapsack_max_value(knapsack_max_weight, items):\n",
    "    lastIndex = len(items) - 1\n",
    "    return knapsack_recursive(knapsack_max_weight, items, lastIndex)\n",
    "\n",
    "\n",
    "def knapsack_recursive(capacity, items, lastIndex):\n",
    "    # Base case\n",
    "    if (capacity <= 0) or (lastIndex<0):\n",
    "        return 0\n",
    "    \n",
    "    # Put the item in the knapsack\n",
    "    valueA = 0\n",
    "    if (items[lastIndex].weight <= capacity):\n",
    "        valueA = items[lastIndex].value + knapsack_recursive(capacity - items[lastIndex].weight, items, lastIndex - 1)\n",
    "\n",
    "    \n",
    "    # Do not put the item in the knapsack\n",
    "    valueB = knapsack_recursive(capacity, items, lastIndex - 1)\n",
    "    \n",
    "    # Pick the maximum of the two results\n",
    "    result = max(valueA, valueB)\n",
    "    \n",
    "    return result"
   ]
  },
  {
   "cell_type": "markdown",
   "metadata": {
    "graffitiCellId": "id_hzdbfpj"
   },
   "source": [
    "### The Approach - Dynamic Programming\n",
    "Store and reuse the intermediate results in a lookup table. This step is called memoization. Start with initializing a lookup table (a list), where the index represents the remaining capacity (kg) of the knapsack, and the element represents the maximum value ($\\$$) that it can hold. \n",
    "\n",
    "For a given item, if the item-weight is less than the remaining capacity (kg) of the knapsack, then we have two options:\n",
    "1. **Do not pick the item** - In this case, the value ($\\$$) of knapsack with the remaining capacity would not change. It can be represented as `lookup_table[capacity]`.\n",
    "1. **Pick the item** - In this case, the value ($\\$$) and capacity (kg) of the knapsack would be updated. The value ($\\$$) of the knapsack will be equal to value ($\\$$) of the current object + value ($\\$$) in the lookup table at `[capacity - item.weight]` position. It can be represented as `lookup_table[capacity - item.weight] + item.value`. \n",
    "\n",
    "Update the lookup table, `lookup_table[capacity]`,  with the **maximum of either of the above two values**.  \n",
    "\n",
    "**Note** - This approach with dynamic programming will have a time complexity as $O(2nC) \\equiv O(nC)$, where $n$ is the number of given items and $C$ is the max capacity (kg) of the knapsack. "
   ]
  },
  {
   "cell_type": "markdown",
   "metadata": {
    "graffitiCellId": "id_49eh9ss"
   },
   "source": [
    "### Exercise - Write the function definition here"
   ]
  },
  {
   "cell_type": "code",
   "execution_count": null,
   "metadata": {
    "graffitiCellId": "id_p48fhwc"
   },
   "outputs": [],
   "source": [
    "def knapsack_max_value(knapsack_max_weight, items):\n",
    "    \"\"\"\n",
    "    Get the maximum value of the knapsack.\n",
    "    \"\"\"\n",
    "    pass"
   ]
  },
  {
   "cell_type": "markdown",
   "metadata": {
    "graffitiCellId": "id_sczu399"
   },
   "source": [
    "<span class=\"graffiti-highlight graffiti-id_sczu399-id_vljhmf7\"><i></i><button>Show Solution</button></span>"
   ]
  },
  {
   "cell_type": "markdown",
   "metadata": {
    "graffitiCellId": "id_73a9skj"
   },
   "source": [
    "### Test - Let's test your function"
   ]
  },
  {
   "cell_type": "code",
   "execution_count": null,
   "metadata": {
    "graffitiCellId": "id_2t8k6dk"
   },
   "outputs": [],
   "source": [
    "tests = [\n",
    "    {\n",
    "        'correct_output': 14,\n",
    "        'input':\n",
    "            {\n",
    "                'knapsack_max_weight': 15,\n",
    "                'items': [Item(10, 7), Item(9, 8), Item(5, 6)]}},\n",
    "    {\n",
    "        'correct_output': 13,\n",
    "        'input':\n",
    "            {\n",
    "                'knapsack_max_weight': 25,\n",
    "                'items': [Item(10, 2), Item(29, 10), Item(5, 7), Item(5, 3), Item(5, 1), Item(24, 12)]}}]\n",
    "for test in tests:\n",
    "    assert test['correct_output'] == knapsack_max_value(**test['input'])"
   ]
  }
 ],
 "metadata": {
  "graffiti": {
   "firstAuthorId": "dev",
   "id": "id_c8cwdgc",
   "language": "EN"
  },
  "kernelspec": {
   "display_name": "Python 3",
   "language": "python",
   "name": "python3"
  },
  "language_info": {
   "codemirror_mode": {
    "name": "ipython",
    "version": 3
   },
   "file_extension": ".py",
   "mimetype": "text/x-python",
   "name": "python",
   "nbconvert_exporter": "python",
   "pygments_lexer": "ipython3",
   "version": "3.6.3"
  }
 },
 "nbformat": 4,
 "nbformat_minor": 2
}
