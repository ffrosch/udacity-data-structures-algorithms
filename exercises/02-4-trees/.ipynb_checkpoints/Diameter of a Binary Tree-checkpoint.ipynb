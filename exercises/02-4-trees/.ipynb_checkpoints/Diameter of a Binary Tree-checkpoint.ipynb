{
 "cells": [
  {
   "cell_type": "markdown",
   "metadata": {},
   "source": [
    "## Problem statement\n",
    "\n",
    "Given the root of a binary tree, find the diameter.\n",
    "\n",
    "*Note: Diameter of a Binary Tree is the maximum distance between any two nodes*"
   ]
  },
  {
   "cell_type": "code",
   "execution_count": 2,
   "metadata": {},
   "outputs": [],
   "source": [
    "class BinaryTreeNode:\n",
    "\n",
    "    def __init__(self, data):\n",
    "        self.left = None\n",
    "        self.right = None\n",
    "        self.data = data\n"
   ]
  },
  {
   "cell_type": "code",
   "execution_count": 16,
   "metadata": {},
   "outputs": [],
   "source": [
    "def diameter_of_binary_tree(root):\n",
    "    \"\"\"\n",
    "    :param: root - Root of binary tree\n",
    "    TODO: Complete this method and return diameter (int) of binary tree\n",
    "    \n",
    "    Things to calculate:\n",
    "    1. left height of a node (e.g. 2 has height 1)\n",
    "    2. right height of a node (e.g. 2 has height 0)\n",
    "    3. diameter: left height + right height\n",
    "    \"\"\"\n",
    "    node_height, diameter = _diameter_of_binary_tree_func(root)\n",
    "    return diameter\n",
    "    \n",
    "def _diameter_of_binary_tree_func(root):\n",
    "    if root is None:\n",
    "        return 0, 0\n",
    "    \n",
    "    left_height, left_diameter = _diameter_of_binary_tree_func(root.left)\n",
    "    right_height, right_diameter = _diameter_of_binary_tree_func(root.right)\n",
    "    \n",
    "    current_height = max(left_height, right_height) + 1\n",
    "    diameter = left_height + right_height\n",
    "    current_diameter = max(left_diameter, right_diameter, diameter)\n",
    "    \n",
    "    return current_height, current_diameter"
   ]
  },
  {
   "cell_type": "markdown",
   "metadata": {},
   "source": [
    "You can use the following function to test your code with custom test cases. The function `convert_arr_to_binary_tree` takes an array input representing level-order traversal of the binary tree.\n",
    "\n",
    "\n",
    "<img src='./resources/01-binary-tree.png'>\n",
    "\n",
    "The above tree would be represented as `arr = [1, 2, 3, 4, None, 5, None, None, None, None, None]`\n",
    "\n",
    "Notice that the level order traversal of the above tree would be `[1, 2, 3, 4, 5]`. \n",
    "\n",
    "Note the following points about this tree:\n",
    "* `None` represents the lack of a node. For example, `2` only has a left node; therefore, the next node after `4` (in level order) is represented as `None`\n",
    "* Similarly, `3` only has a left node; hence, the next node after `5` (in level order) is represted as `None`.\n",
    "* Also, `4` and `5` don't have any children. Therefore, the spots for their children in level order are represented by four `None` values (for each child of `4` and `5`)."
   ]
  },
  {
   "cell_type": "code",
   "execution_count": 4,
   "metadata": {},
   "outputs": [],
   "source": [
    "from queue import Queue\n",
    "\n",
    "def convert_arr_to_binary_tree(arr):\n",
    "    \"\"\"\n",
    "    Takes arr representing level-order traversal of Binary Tree \n",
    "    \"\"\"\n",
    "    index = 0\n",
    "    length = len(arr)\n",
    "    \n",
    "    if length <= 0 or arr[0] == -1:\n",
    "        return None\n",
    "\n",
    "    root = BinaryTreeNode(arr[index])\n",
    "    index += 1\n",
    "    queue = Queue()\n",
    "    queue.put(root)\n",
    "    \n",
    "    while not queue.empty():\n",
    "        current_node = queue.get()\n",
    "        left_child = arr[index]\n",
    "        index += 1\n",
    "        \n",
    "        if left_child is not None:\n",
    "            left_node = BinaryTreeNode(left_child)\n",
    "            current_node.left = left_node\n",
    "            queue.put(left_node)\n",
    "        \n",
    "        right_child = arr[index]\n",
    "        index += 1\n",
    "        \n",
    "        if right_child is not None:\n",
    "            right_node = BinaryTreeNode(right_child)\n",
    "            current_node.right = right_node\n",
    "            queue.put(right_node)\n",
    "    return root\n",
    "\n",
    "    \n",
    "    "
   ]
  },
  {
   "cell_type": "code",
   "execution_count": 5,
   "metadata": {},
   "outputs": [],
   "source": [
    "# Solution\n",
    "def diameter_of_binary_tree(root):\n",
    "    return diameter_of_binary_tree_func(root)[1]\n",
    "    \n",
    "def diameter_of_binary_tree_func(root):\n",
    "    \"\"\"\n",
    "    Diameter for a particular BinaryTree Node will be:\n",
    "        1. Either diameter of left subtree\n",
    "        2. Or diameter of a right subtree\n",
    "        3. Sum of left-height and right-height\n",
    "    :param root:\n",
    "    :return: [height, diameter]\n",
    "    \"\"\"\n",
    "    if root is None:\n",
    "        return 0, 0\n",
    "\n",
    "    left_height, left_diameter = diameter_of_binary_tree_func(root.left)\n",
    "    right_height, right_diameter = diameter_of_binary_tree_func(root.right)\n",
    "\n",
    "    current_height = max(left_height, right_height) + 1\n",
    "    height_diameter = left_height + right_height\n",
    "    current_diameter = max(left_diameter, right_diameter, height_diameter)\n",
    "\n",
    "    return current_height, current_diameter"
   ]
  },
  {
   "cell_type": "code",
   "execution_count": 6,
   "metadata": {},
   "outputs": [],
   "source": [
    "def test_function(test_case):\n",
    "    arr = test_case[0]\n",
    "    solution = test_case[1]\n",
    "    root = convert_arr_to_binary_tree(arr)\n",
    "    output = diameter_of_binary_tree(root)\n",
    "    print(output)\n",
    "    if output == solution:\n",
    "        print(\"Pass\")\n",
    "    else:\n",
    "        print(\"Fail\")"
   ]
  },
  {
   "cell_type": "code",
   "execution_count": 17,
   "metadata": {},
   "outputs": [
    {
     "name": "stdout",
     "output_type": "stream",
     "text": [
      "3\n",
      "Pass\n"
     ]
    }
   ],
   "source": [
    "arr = [1, 2, 3, 4, 5, None, None, None, None, None, None]\n",
    "solution = 3\n",
    "\n",
    "test_case = [arr, solution]\n",
    "test_function(test_case)"
   ]
  },
  {
   "cell_type": "code",
   "execution_count": 18,
   "metadata": {},
   "outputs": [
    {
     "name": "stdout",
     "output_type": "stream",
     "text": [
      "4\n",
      "Pass\n"
     ]
    }
   ],
   "source": [
    "arr = [1, 2, 3, 4, None, 5, None, None, None, None, None]\n",
    "solution = 4\n",
    "\n",
    "test_case = [arr, solution]\n",
    "test_function(test_case)"
   ]
  },
  {
   "cell_type": "code",
   "execution_count": 19,
   "metadata": {},
   "outputs": [
    {
     "name": "stdout",
     "output_type": "stream",
     "text": [
      "6\n",
      "Pass\n"
     ]
    }
   ],
   "source": [
    "arr = [1, 2, 3, None, None, 4, 5, 6, None, 7, 8, 9, 10, None, None, None, None, None, None, 11, None, None, None]\n",
    "solution = 6\n",
    "\n",
    "test_case = [arr, solution]\n",
    "test_function(test_case)"
   ]
  },
  {
   "cell_type": "code",
   "execution_count": null,
   "metadata": {},
   "outputs": [],
   "source": []
  }
 ],
 "metadata": {
  "kernelspec": {
   "display_name": "Python 3",
   "language": "python",
   "name": "python3"
  },
  "language_info": {
   "codemirror_mode": {
    "name": "ipython",
    "version": 3
   },
   "file_extension": ".py",
   "mimetype": "text/x-python",
   "name": "python",
   "nbconvert_exporter": "python",
   "pygments_lexer": "ipython3",
   "version": "3.6.3"
  }
 },
 "nbformat": 4,
 "nbformat_minor": 2
}
