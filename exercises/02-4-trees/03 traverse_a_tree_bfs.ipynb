{
 "cells": [
  {
   "cell_type": "markdown",
   "metadata": {},
   "source": [
    "## Traverse a tree (breadth first search)\n",
    "\n",
    "We'll now practice implementing breadth first search (BFS).  You'll see breadth first search again when we learn about graph data structures, so BFS is very useful to know."
   ]
  },
  {
   "cell_type": "markdown",
   "metadata": {},
   "source": [
    "## Creating a sample tree\n",
    "\n",
    "We'll create a tree that looks like the following:"
   ]
  },
  {
   "cell_type": "markdown",
   "metadata": {},
   "source": [
    "![tree image](images/tree_01.png \"Tree\")"
   ]
  },
  {
   "cell_type": "code",
   "execution_count": 5,
   "metadata": {},
   "outputs": [],
   "source": [
    "# this code makes the tree that we'll traverse\n",
    "\n",
    "class Node(object):\n",
    "        \n",
    "    def __init__(self,value = None):\n",
    "        self.value = value\n",
    "        self.left = None\n",
    "        self.right = None\n",
    "        \n",
    "    def set_value(self,value):\n",
    "        self.value = value\n",
    "        \n",
    "    def get_value(self):\n",
    "        return self.value\n",
    "        \n",
    "    def set_left_child(self,left):\n",
    "        self.left = left\n",
    "        \n",
    "    def set_right_child(self, right):\n",
    "        self.right = right\n",
    "        \n",
    "    def get_left_child(self):\n",
    "        return self.left\n",
    "    \n",
    "    def get_right_child(self):\n",
    "        return self.right\n",
    "\n",
    "    def has_left_child(self):\n",
    "        return self.left != None\n",
    "    \n",
    "    def has_right_child(self):\n",
    "        return self.right != None\n",
    "    \n",
    "    # define __repr_ to decide what a print statement displays for a Node object\n",
    "    def __repr__(self):\n",
    "        return f\"Node({self.get_value()})\"\n",
    "    \n",
    "    def __str__(self):\n",
    "        return f\"Node({self.get_value()})\"\n",
    "    \n",
    "    \n",
    "class Tree():\n",
    "    def __init__(self, value=None):\n",
    "        self.root = Node(value)\n",
    "        \n",
    "    def get_root(self):\n",
    "        return self.root\n",
    "\n",
    "tree = Tree(\"apple\")\n",
    "tree.get_root().set_left_child(Node(\"banana\"))\n",
    "tree.get_root().set_right_child(Node(\"cherry\"))\n",
    "tree.get_root().get_left_child().set_left_child(Node(\"dates\"))"
   ]
  },
  {
   "cell_type": "markdown",
   "metadata": {},
   "source": [
    "## Breadth first search\n",
    "Breadth first traversal of the tree would visit the nodes in this order:  \n",
    "\n",
    "![tree image](images/tree_01.png \"Tree\")\n",
    "\n",
    "apple, banana, cherry, dates"
   ]
  },
  {
   "cell_type": "markdown",
   "metadata": {},
   "source": [
    "#### Think through the algorithm\n",
    "\n",
    "We are walking down the tree one level at a time. So we start with apple at the root, and next are banana and cherry, and next is dates.\n",
    "\n",
    "\n",
    "1) start at the root node  \n",
    "2) visit the root node's left child (banana), then right child (cherry)  \n",
    "3) visit the left and right children of (banana) and (cherry).\n",
    "\n",
    "## Queue\n",
    "\n",
    "Notice that we're waiting until we visit \"cherry\" before visiting \"dates\".  It's like they're waiting in line.  We can use a queue to keep track of the order."
   ]
  },
  {
   "cell_type": "markdown",
   "metadata": {},
   "source": [
    "## Define a queue class\n"
   ]
  },
  {
   "cell_type": "code",
   "execution_count": 6,
   "metadata": {},
   "outputs": [
    {
     "name": "stdout",
     "output_type": "stream",
     "text": [
      "deque(['banana', 'apple'])\n"
     ]
    }
   ],
   "source": [
    "from collections import deque\n",
    "q = deque()\n",
    "q.appendleft(\"apple\")\n",
    "q.appendleft(\"banana\")\n",
    "print(q)"
   ]
  },
  {
   "cell_type": "code",
   "execution_count": 3,
   "metadata": {},
   "outputs": [
    {
     "data": {
      "text/plain": [
       "'apple'"
      ]
     },
     "execution_count": 3,
     "metadata": {},
     "output_type": "execute_result"
    }
   ],
   "source": [
    "q.pop()"
   ]
  },
  {
   "cell_type": "code",
   "execution_count": 4,
   "metadata": {},
   "outputs": [
    {
     "name": "stdout",
     "output_type": "stream",
     "text": [
      "deque(['banana'])\n"
     ]
    }
   ],
   "source": [
    "print(q)"
   ]
  },
  {
   "cell_type": "code",
   "execution_count": 5,
   "metadata": {},
   "outputs": [
    {
     "data": {
      "text/plain": [
       "1"
      ]
     },
     "execution_count": 5,
     "metadata": {},
     "output_type": "execute_result"
    }
   ],
   "source": [
    "len(q)"
   ]
  },
  {
   "cell_type": "code",
   "execution_count": 7,
   "metadata": {},
   "outputs": [],
   "source": [
    "from collections import deque\n",
    "class Queue():\n",
    "    def __init__(self):\n",
    "        self.q = deque()\n",
    "        \n",
    "    def enq(self,value):\n",
    "        self.q.appendleft(value)\n",
    "        \n",
    "    def deq(self):\n",
    "        if len(self.q) > 0:\n",
    "            return self.q.pop()\n",
    "        else:\n",
    "            return None\n",
    "    \n",
    "    def __len__(self):\n",
    "        return len(self.q)\n",
    "    \n",
    "    def __repr__(self):\n",
    "        if len(self.q) > 0:\n",
    "            s = \"<enqueue here>\\n_________________\\n\" \n",
    "            s += \"\\n_________________\\n\".join([str(item) for item in self.q])\n",
    "            s += \"\\n_________________\\n<dequeue here>\"\n",
    "            return s\n",
    "        else:\n",
    "            return \"<queue is empty>\""
   ]
  },
  {
   "cell_type": "code",
   "execution_count": 7,
   "metadata": {},
   "outputs": [
    {
     "name": "stdout",
     "output_type": "stream",
     "text": [
      "<enqueue here>\n",
      "_________________\n",
      "cherry\n",
      "_________________\n",
      "banana\n",
      "_________________\n",
      "apple\n",
      "_________________\n",
      "<dequeue here>\n"
     ]
    }
   ],
   "source": [
    "q = Queue()\n",
    "q.enq(\"apple\")\n",
    "q.enq(\"banana\")\n",
    "q.enq(\"cherry\")\n",
    "print(q)"
   ]
  },
  {
   "cell_type": "code",
   "execution_count": 8,
   "metadata": {},
   "outputs": [
    {
     "name": "stdout",
     "output_type": "stream",
     "text": [
      "apple\n"
     ]
    }
   ],
   "source": [
    "print(q.deq())"
   ]
  },
  {
   "cell_type": "code",
   "execution_count": 9,
   "metadata": {},
   "outputs": [
    {
     "name": "stdout",
     "output_type": "stream",
     "text": [
      "<enqueue here>\n",
      "_________________\n",
      "cherry\n",
      "_________________\n",
      "banana\n",
      "_________________\n",
      "<dequeue here>\n"
     ]
    }
   ],
   "source": [
    "print(q)"
   ]
  },
  {
   "cell_type": "markdown",
   "metadata": {},
   "source": [
    "## Walk through the steps with code\n",
    "\n",
    "We're going to translate what we're doing by hand into code, one step at a time.  This will help us check if our code is doing what we expect it to do.\n",
    "\n",
    "![tree image](images/tree_01.png \"Tree\")"
   ]
  },
  {
   "cell_type": "code",
   "execution_count": 10,
   "metadata": {},
   "outputs": [
    {
     "name": "stdout",
     "output_type": "stream",
     "text": [
      "<enqueue here>\n",
      "_________________\n",
      "Node(apple)\n",
      "_________________\n",
      "<dequeue here>\n"
     ]
    }
   ],
   "source": [
    "visit_order = list()\n",
    "q = Queue()\n",
    "\n",
    "# start at the root node and add it to the queue\n",
    "node = tree.get_root()\n",
    "q.enq(node)\n",
    "print(q)"
   ]
  },
  {
   "cell_type": "code",
   "execution_count": 11,
   "metadata": {},
   "outputs": [
    {
     "name": "stdout",
     "output_type": "stream",
     "text": [
      "visit order: [Node(apple)]\n",
      "<enqueue here>\n",
      "_________________\n",
      "Node(cherry)\n",
      "_________________\n",
      "Node(banana)\n",
      "_________________\n",
      "<dequeue here>\n"
     ]
    }
   ],
   "source": [
    "# dequeue the next node in the queue. \n",
    "# \"visit\" that node\n",
    "# also add its children to the queue\n",
    "\n",
    "node = q.deq()\n",
    "visit_order.append(node)\n",
    "if node.has_left_child():\n",
    "    q.enq(node.get_left_child())\n",
    "if node.has_right_child():\n",
    "    q.enq(node.get_right_child())\n",
    "    \n",
    "print(f\"visit order: {visit_order}\")\n",
    "print(q)"
   ]
  },
  {
   "cell_type": "code",
   "execution_count": 12,
   "metadata": {},
   "outputs": [
    {
     "name": "stdout",
     "output_type": "stream",
     "text": [
      "visit order: [Node(apple), Node(banana)]\n",
      "<enqueue here>\n",
      "_________________\n",
      "Node(dates)\n",
      "_________________\n",
      "Node(cherry)\n",
      "_________________\n",
      "<dequeue here>\n"
     ]
    }
   ],
   "source": [
    "# dequeue the next node (banana)\n",
    "# visit it, and add its children (dates) to the queue \n",
    "\n",
    "node = q.deq()\n",
    "visit_order.append(node)\n",
    "if node.has_left_child():\n",
    "    q.enq(node.get_left_child())\n",
    "if node.has_right_child():\n",
    "    q.enq(node.get_right_child())\n",
    "    \n",
    "print(f\"visit order: {visit_order}\")\n",
    "print(q)"
   ]
  },
  {
   "cell_type": "code",
   "execution_count": 13,
   "metadata": {},
   "outputs": [
    {
     "name": "stdout",
     "output_type": "stream",
     "text": [
      "visit order: [Node(apple), Node(banana), Node(cherry)]\n",
      "<enqueue here>\n",
      "_________________\n",
      "Node(dates)\n",
      "_________________\n",
      "<dequeue here>\n"
     ]
    }
   ],
   "source": [
    "# dequeue the next node (cherry)\n",
    "# visit it, and add its children (there are None) to the queue \n",
    "\n",
    "node = q.deq()\n",
    "visit_order.append(node)\n",
    "if node.has_left_child():\n",
    "    q.enq(node.get_left_child())\n",
    "if node.has_right_child():\n",
    "    q.enq(node.get_right_child())\n",
    "    \n",
    "print(f\"visit order: {visit_order}\")\n",
    "print(q)"
   ]
  },
  {
   "cell_type": "code",
   "execution_count": 14,
   "metadata": {},
   "outputs": [
    {
     "name": "stdout",
     "output_type": "stream",
     "text": [
      "visit order: [Node(apple), Node(banana), Node(cherry), Node(dates)]\n",
      "<queue is empty>\n"
     ]
    }
   ],
   "source": [
    "# dequeue the next node (dates)\n",
    "# visit it, and add its children (there are None) to the queue \n",
    "\n",
    "node = q.deq()\n",
    "visit_order.append(node)\n",
    "if node.has_left_child():\n",
    "    q.enq(node.get_left_child())\n",
    "if node.has_right_child():\n",
    "    q.enq(node.get_right_child())\n",
    "    \n",
    "print(f\"visit order: {visit_order}\")\n",
    "print(q)"
   ]
  },
  {
   "cell_type": "markdown",
   "metadata": {},
   "source": [
    "## Task: write the breadth first search algorithm"
   ]
  },
  {
   "cell_type": "code",
   "execution_count": 15,
   "metadata": {},
   "outputs": [],
   "source": [
    "# BFS algorithm\n",
    "def bfs(tree):\n",
    "    q = Queue()\n",
    "    visited_nodes = []\n",
    "    \n",
    "    node = tree.get_root()\n",
    "    q.enq(node)\n",
    "    while len(q):\n",
    "        node = q.deq()\n",
    "        visited_nodes.append(node)\n",
    "        if node.has_left_child():\n",
    "            q.enq(node.get_left_child())\n",
    "        if node.has_right_child():\n",
    "            q.enq(node.get_right_child())\n",
    "    return visited_nodes"
   ]
  },
  {
   "cell_type": "code",
   "execution_count": 16,
   "metadata": {},
   "outputs": [
    {
     "data": {
      "text/plain": [
       "[Node(apple), Node(banana), Node(cherry), Node(dates)]"
      ]
     },
     "execution_count": 16,
     "metadata": {},
     "output_type": "execute_result"
    }
   ],
   "source": [
    "# check solution: should be: apple, banana, cherry, dates\n",
    "bfs(tree)"
   ]
  },
  {
   "cell_type": "markdown",
   "metadata": {},
   "source": [
    "## Bonus Task: write a print function\n",
    "\n",
    "Define the print function for the Tree class.  Nodes on the same level are printed on the same line. \n",
    "\n",
    "For example, the tree we've been using would print out like this:\n",
    "```\n",
    "Node(apple)\n",
    "Node(banana) | Node(cherry)\n",
    "Node(dates) | <empty> | <empty> | <empty>\n",
    "<empty> | <empty>\n",
    "```\n",
    "We'll have `<empty>` be placeholders so that we can keep track of which node is a child or parent of the other nodes.\n",
    "\n",
    "**hint**: use a variable to keep track of which level each node is on.  For instance, the root node is on level 0, and its child nodes are on level 1."
   ]
  },
  {
   "cell_type": "code",
   "execution_count": 25,
   "metadata": {},
   "outputs": [],
   "source": [
    "# starter code\n",
    "\n",
    "class Tree():\n",
    "    def __init__(self, value=None):\n",
    "        self.root = Node(value)\n",
    "        \n",
    "    def get_root(self):\n",
    "        return self.root\n",
    "    \n",
    "    \"\"\"\n",
    "    define the print function\n",
    "    \"\"\"\n",
    "    def __repr__(self):\n",
    "        level = 0\n",
    "        q = Queue()\n",
    "        visit_order = []\n",
    "        \n",
    "        node = tree.get_root()\n",
    "        q.enq((node, level))\n",
    "        \n",
    "        while len(q):\n",
    "            node, level = q.deq()\n",
    "            \n",
    "            if node is None:\n",
    "                visit_order.append(('<empty>', level))\n",
    "                continue\n",
    "                \n",
    "            visit_order.append((node, level))\n",
    "            \n",
    "            if node.has_left_child():\n",
    "                q.enq((node.get_left_child(), level + 1))\n",
    "            else:\n",
    "                q.enq((None, level + 1))\n",
    "            \n",
    "            if node.has_right_child():\n",
    "                q.enq((node.get_right_child(), level + 1))\n",
    "            else:\n",
    "                q.enq((None, level + 1))\n",
    "                \n",
    "        s = \"\"\n",
    "        current_level = -1\n",
    "        for (node, level) in visit_order:\n",
    "            \n",
    "            if level == current_level:\n",
    "                s += ' | ' + str(node); continue\n",
    "\n",
    "            s += '\\n' + str(node)\n",
    "            current_level = level\n",
    "        \n",
    "        return s"
   ]
  },
  {
   "cell_type": "code",
   "execution_count": 26,
   "metadata": {},
   "outputs": [
    {
     "name": "stdout",
     "output_type": "stream",
     "text": [
      "\n",
      "Node(apple)\n",
      "Node(banana) | Node(cherry)\n",
      "Node(dates) | <empty> | <empty> | <empty>\n",
      "<empty> | <empty>\n"
     ]
    }
   ],
   "source": [
    "# check solution\n",
    "tree = Tree(\"apple\")\n",
    "tree.get_root().set_left_child(Node(\"banana\"))\n",
    "tree.get_root().set_right_child(Node(\"cherry\"))\n",
    "tree.get_root().get_left_child().set_left_child(Node(\"dates\"))\n",
    "print(tree)"
   ]
  },
  {
   "cell_type": "markdown",
   "metadata": {},
   "source": [
    "## Solution notebook\n",
    "The solution notebook is [here](03 traverse_a_tree_bfs_solution.ipynb)"
   ]
  }
 ],
 "metadata": {
  "kernelspec": {
   "display_name": "Python 3",
   "language": "python",
   "name": "python3"
  },
  "language_info": {
   "codemirror_mode": {
    "name": "ipython",
    "version": 3
   },
   "file_extension": ".py",
   "mimetype": "text/x-python",
   "name": "python",
   "nbconvert_exporter": "python",
   "pygments_lexer": "ipython3",
   "version": "3.6.3"
  }
 },
 "nbformat": 4,
 "nbformat_minor": 2
}
