{
 "cells": [
  {
   "cell_type": "markdown",
   "metadata": {},
   "source": [
    "# Shortest Hops\n",
    "With everything you've learned, it's time to apply it! You've been hired to build an application that finds the shortest path in a computer network. Use what you've learned to implement this application.\n",
    "## Graph\n",
    "The switches and routers will be represented as nodes. The links between each router or switch will be represented as edges."
   ]
  },
  {
   "cell_type": "code",
   "execution_count": 1,
   "metadata": {},
   "outputs": [],
   "source": [
    "class Edge(object):\n",
    "    def __init__(self, node, distance):\n",
    "        self.node = node\n",
    "        self.distance = distance\n",
    "\n",
    "\n",
    "class Node(object):\n",
    "    def __init__(self, val):\n",
    "        self.value = val\n",
    "        self.edges = []\n",
    "\n",
    "    def add_child(self, node, distance):\n",
    "        self.edges.append(Edge(node, distance))\n",
    "\n",
    "    def remove_child(self, del_node):\n",
    "        if del_node in self.edges:\n",
    "            self.edges.remove(del_node)\n",
    "\n",
    "    def __repr__(self):\n",
    "        return 'Node({})'.format(self.value)\n",
    "\n",
    "\n",
    "class Graph(object):\n",
    "    def __init__(self, node_list):\n",
    "        self.nodes = node_list\n",
    "\n",
    "    def add_edge(self, node1, node2, distance):\n",
    "        if node1 in self.nodes and node2 in self.nodes:\n",
    "            node1.add_child(node2, distance)\n",
    "            node2.add_child(node1, distance)\n",
    "\n",
    "    def remove_edge(self, node1, node2):\n",
    "        if node1 in self.nodes and node2 in self.nodes:\n",
    "            node1.remove_child(node2)\n",
    "            node2.remove_child(node1)\n",
    "\n",
    "\n",
    "node_gateway = Node('gateway')\n",
    "node_lab = Node('lab')\n",
    "node_backbone_a = Node('backbone_a')\n",
    "node_backbone_b = Node('backbone_b')\n",
    "node_north_building = Node('north_building')\n",
    "node_east_building = Node('east_building')\n",
    "node_south_building = Node('south_building')\n",
    "\n",
    "network_graph = Graph([node_gateway, node_north_building, node_lab, node_east_building, node_south_building, node_backbone_a, node_backbone_b])\n",
    "network_graph.add_edge(node_gateway, node_lab, 4)\n",
    "network_graph.add_edge(node_gateway, node_east_building, 6)\n",
    "network_graph.add_edge(node_gateway, node_north_building, 3)\n",
    "network_graph.add_edge(node_north_building, node_gateway, 3)\n",
    "network_graph.add_edge(node_north_building, node_east_building, 4)\n",
    "network_graph.add_edge(node_lab, node_gateway, 4)\n",
    "network_graph.add_edge(node_lab, node_south_building, 7)\n",
    "network_graph.add_edge(node_east_building, node_north_building, 4)\n",
    "network_graph.add_edge(node_east_building, node_gateway, 6)\n",
    "network_graph.add_edge(node_east_building, node_south_building, 4)\n",
    "network_graph.add_edge(node_east_building, node_backbone_a, 5)\n",
    "network_graph.add_edge(node_south_building, node_lab, 7)\n",
    "network_graph.add_edge(node_south_building, node_east_building, 4)\n",
    "network_graph.add_edge(node_south_building, node_backbone_b, 4)\n",
    "network_graph.add_edge(node_backbone_a, node_east_building, 5)\n",
    "network_graph.add_edge(node_backbone_a, node_backbone_b, 5)\n",
    "network_graph.add_edge(node_backbone_b, node_south_building, 4)\n",
    "network_graph.add_edge(node_backbone_b, node_backbone_a, 5)"
   ]
  },
  {
   "cell_type": "markdown",
   "metadata": {},
   "source": [
    "## Implementation\n",
    "Build a lookup table that contains the shortest path between any two points."
   ]
  },
  {
   "cell_type": "code",
   "execution_count": 2,
   "metadata": {},
   "outputs": [],
   "source": [
    "import math\n",
    "\n",
    "def get_lookup_table(network_graph):\n",
    "    \"\"\"\n",
    "    Get a lookup table that contains the shortest path between any two points.\n",
    "\n",
    "    Parameters\n",
    "    ----------\n",
    "    network_graph : Graph\n",
    "        The computer network graph\n",
    "\n",
    "    Returns\n",
    "    -------\n",
    "    lookup_table : dict of dict\n",
    "        Lookup table\n",
    "\n",
    "        Ex.\n",
    "        If you want to get the shortest path between `node_a` and `node_b`, you would do `lookup_table[node_a][node_b]`.\n",
    "    \"\"\"\n",
    "    \n",
    "    return None"
   ]
  },
  {
   "cell_type": "markdown",
   "metadata": {},
   "source": [
    "Once the implementation is done, you can test it below."
   ]
  },
  {
   "cell_type": "code",
   "execution_count": 3,
   "metadata": {},
   "outputs": [
    {
     "ename": "TypeError",
     "evalue": "'NoneType' object is not subscriptable",
     "output_type": "error",
     "traceback": [
      "\u001b[0;31m---------------------------------------------------------------------------\u001b[0m",
      "\u001b[0;31mTypeError\u001b[0m                                 Traceback (most recent call last)",
      "\u001b[0;32m<ipython-input-3-f863d13e6738>\u001b[0m in \u001b[0;36m<module>\u001b[0;34m()\u001b[0m\n\u001b[1;32m      2\u001b[0m \u001b[0;34m\u001b[0m\u001b[0m\n\u001b[1;32m      3\u001b[0m print('Shortest Path from {} to {} is {}'.format(\n\u001b[0;32m----> 4\u001b[0;31m     node_gateway.value, node_south_building.value, lookup_table[node_gateway][node_south_building]))\n\u001b[0m",
      "\u001b[0;31mTypeError\u001b[0m: 'NoneType' object is not subscriptable"
     ]
    }
   ],
   "source": [
    "lookup_table = get_lookup_table(network_graph)\n",
    "\n",
    "print('Shortest Path from {} to {} is {}'.format(\n",
    "    node_gateway.value, node_south_building.value, lookup_table[node_gateway][node_south_building]))"
   ]
  },
  {
   "cell_type": "markdown",
   "metadata": {},
   "source": [
    "## Solution\n",
    "If you're having trouble solving the problem, you can find the solution [here](shortest_hops_solution.ipynb)."
   ]
  },
  {
   "cell_type": "code",
   "execution_count": 2,
   "metadata": {},
   "outputs": [],
   "source": [
    "from collections import defaultdict, deque\n",
    "import heapq\n",
    "\n",
    "def djikstra(begin, N):\n",
    "    costs = [float('inf')]*(N + 1)\n",
    "    seen = set()\n",
    "    costs[begin] = 0\n",
    "    q = []\n",
    "    heapq.heappush(q, (0,  (0, begin, 0, 0)))\n",
    "    #path = []\n",
    "    hops = 0\n",
    "    final = float('inf')\n",
    "    node = -1\n",
    "    while q:\n",
    "        (cost, (start, node, prev_weight, hops)) = heapq.heappop(q)\n",
    "        if node == N and cost == costs[N]:\n",
    "            final = min(final, hops)\n",
    "        if (start, node, prev_weight, hops) in seen:\n",
    "            continue\n",
    "        seen.add((start, node, prev_weight, hops))\n",
    "        for (next_node, weight) in graph[node]:\n",
    "            if costs[node] + weight <= costs[next_node]:\n",
    "                costs[next_node] = costs[node] + weight\n",
    "                if prev_weight != 0:\n",
    "                    heapq.heappush(q, (cost + weight, (node, next_node, weight, hops + (weight % 2 != prev_weight % 2) )))\n",
    "                else:\n",
    "                    heapq.heappush(q, (cost + weight, (node, next_node, weight, hops)))\n",
    "    return costs, final\n",
    "\n"
   ]
  },
  {
   "cell_type": "code",
   "execution_count": 3,
   "metadata": {},
   "outputs": [
    {
     "data": {
      "text/plain": [
       "'\\n## Process inputs\\n\\nN, M = map(int, input().strip().split(\\' \\'))\\ngraph = defaultdict(set)\\nedges = []\\nfor _ in range(M):\\n    x, y, c = map(int, input().strip().split(\\' \\'))\\n    #edges.append((c, x, y))\\n    #edges.append((c, y, x))\\n    graph[x].add((y, c))\\n    graph[y].add((x, c))\\n\\nweights, hops = djikstra(1, N)\\nprint(\"%d %d\" % (weights[-1], hops))\\n\\n'"
      ]
     },
     "execution_count": 3,
     "metadata": {},
     "output_type": "execute_result"
    }
   ],
   "source": [
    "\"\"\"\n",
    "## Process inputs\n",
    "\n",
    "N, M = map(int, input().strip().split(' '))\n",
    "graph = defaultdict(set)\n",
    "edges = []\n",
    "for _ in range(M):\n",
    "    x, y, c = map(int, input().strip().split(' '))\n",
    "    #edges.append((c, x, y))\n",
    "    #edges.append((c, y, x))\n",
    "    graph[x].add((y, c))\n",
    "    graph[y].add((x, c))\n",
    "\n",
    "weights, hops = djikstra(1, N)\n",
    "print(\"%d %d\" % (weights[-1], hops))\n",
    "\n",
    "\"\"\""
   ]
  },
  {
   "cell_type": "code",
   "execution_count": null,
   "metadata": {},
   "outputs": [],
   "source": []
  }
 ],
 "metadata": {
  "kernelspec": {
   "display_name": "Python 3",
   "language": "python",
   "name": "python3"
  },
  "language_info": {
   "codemirror_mode": {
    "name": "ipython",
    "version": 3
   },
   "file_extension": ".py",
   "mimetype": "text/x-python",
   "name": "python",
   "nbconvert_exporter": "python",
   "pygments_lexer": "ipython3",
   "version": "3.6.4"
  }
 },
 "nbformat": 4,
 "nbformat_minor": 2
}
