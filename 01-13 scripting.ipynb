{
 "metadata": {
  "language_info": {
   "codemirror_mode": {
    "name": "ipython",
    "version": 3
   },
   "file_extension": ".py",
   "mimetype": "text/x-python",
   "name": "python",
   "nbconvert_exporter": "python",
   "pygments_lexer": "ipython3",
   "version": "3.8.5"
  },
  "orig_nbformat": 4,
  "kernelspec": {
   "name": "python3",
   "display_name": "Python 3.8.5 64-bit"
  },
  "interpreter": {
   "hash": "31f2aee4e71d21fbe5cf8b01ff0e069b9275f58929596ceb00d14d90e3e16cd6"
  }
 },
 "nbformat": 4,
 "nbformat_minor": 2,
 "cells": [
  {
   "source": [
    "# Quiz: Password Generator\n",
    "\n",
    "Write a function called generate_password that selects three random words from the list of words word_list and concatenates them into a single string. Your function should not accept any arguments and should reference the global variable word_list to build the password.\n"
   ],
   "cell_type": "markdown",
   "metadata": {}
  },
  {
   "cell_type": "code",
   "execution_count": 1,
   "metadata": {},
   "outputs": [
    {
     "output_type": "stream",
     "name": "stdout",
     "text": [
      "readingpeepedtwice\n"
     ]
    }
   ],
   "source": [
    "# TODO: First import the `random` module\n",
    "import random\n",
    "\n",
    "# We begin with an empty `word_list`\n",
    "word_file = \"./data/words.txt\"\n",
    "word_list = []\n",
    "\n",
    "# We fill up the word_list from the `words.txt` file\n",
    "with open(word_file,'r') as words:\n",
    "\tfor line in words:\n",
    "\t\t# remove white space and make everything lowercase\n",
    "\t\tword = line.strip().lower()\n",
    "\t\t# don't include words that are too long or too short\n",
    "\t\tif 3 < len(word) < 8:\n",
    "\t\t\tword_list.append(word)\n",
    "\n",
    "# TODO: Add your function generate_password below\n",
    "# It should return a string consisting of three random words \n",
    "# concatenated together without spaces\n",
    "def generate_password():\n",
    "    return ''.join(random.sample(word_list, 3))\n",
    "\n",
    "\n",
    "# Now we test the function\n",
    "print(generate_password())"
   ]
  },
  {
   "source": [
    "# Practice Question\n",
    "\n",
    "Question: Create a function that opens the flowers.txt, reads every line in it, and saves it as a dictionary. The main (separate) function should take user input (user's first name and last name) and parse the user input to identify the first letter of the first name. It should then use it to print the flower name with the same first letter (from dictionary created in the first function)."
   ],
   "cell_type": "markdown",
   "metadata": {}
  },
  {
   "cell_type": "code",
   "execution_count": 6,
   "metadata": {},
   "outputs": [
    {
     "output_type": "stream",
     "name": "stdout",
     "text": [
      "Unique flower name with the first letter: Monks Hood\n"
     ]
    }
   ],
   "source": [
    "# Write your code here\n",
    "# HINT: create a dictionary from flowers.txt\n",
    "def create_flowerdict(filename):\n",
    "    flowers = {}\n",
    "    with open(filename) as f:\n",
    "        for line in f:\n",
    "            letter, flower = line.strip().split(': ')\n",
    "            flowers[letter] = flower\n",
    "    return flowers\n",
    "\n",
    "\n",
    "# HINT: create a function to ask for user's first and last name\n",
    "def user_name():\n",
    "    firstname = input('Enter your First Name: ') \n",
    "    lastname = input('Enter your Last Name: ')\n",
    "    return ' '.join([firstname, lastname]).title()\n",
    "\n",
    "\n",
    "def main():\n",
    "    flowers = create_flowerdict('./data/flowers.txt')\n",
    "    username = user_name()\n",
    "    # print the desired output\n",
    "    print(f'Unique flower name with the first letter: {flowers[username[0]]}')\n",
    "\n",
    "\n",
    "if __name__ == '__main__':\n",
    "    main()"
   ]
  }
 ]
}